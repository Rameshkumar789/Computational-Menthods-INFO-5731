{
  "nbformat": 4,
  "nbformat_minor": 0,
  "metadata": {
    "kernelspec": {
      "display_name": "Python 3",
      "language": "python",
      "name": "python3"
    },
    "language_info": {
      "codemirror_mode": {
        "name": "ipython",
        "version": 3
      },
      "file_extension": ".py",
      "mimetype": "text/x-python",
      "name": "python",
      "nbconvert_exporter": "python",
      "pygments_lexer": "ipython3",
      "version": "3.7.6"
    },
    "colab": {
      "name": "Project- Pre-processing.ipynb",
      "provenance": [],
      "collapsed_sections": [],
      "include_colab_link": true
    },
    "widgets": {
      "application/vnd.jupyter.widget-state+json": {
        "c7f8c7b0173a46faa65f246f6101bf65": {
          "model_module": "@jupyter-widgets/controls",
          "model_name": "HBoxModel",
          "state": {
            "_view_name": "HBoxView",
            "_dom_classes": [],
            "_model_name": "HBoxModel",
            "_view_module": "@jupyter-widgets/controls",
            "_model_module_version": "1.5.0",
            "_view_count": null,
            "_view_module_version": "1.5.0",
            "box_style": "",
            "layout": "IPY_MODEL_808e1b050d55498195ac3bd55a8679a2",
            "_model_module": "@jupyter-widgets/controls",
            "children": [
              "IPY_MODEL_26090b384b3f4dfa804eff256f6c870f",
              "IPY_MODEL_edb4bf3509444194861120ecde395c08"
            ]
          }
        },
        "808e1b050d55498195ac3bd55a8679a2": {
          "model_module": "@jupyter-widgets/base",
          "model_name": "LayoutModel",
          "state": {
            "_view_name": "LayoutView",
            "grid_template_rows": null,
            "right": null,
            "justify_content": null,
            "_view_module": "@jupyter-widgets/base",
            "overflow": null,
            "_model_module_version": "1.2.0",
            "_view_count": null,
            "flex_flow": null,
            "width": null,
            "min_width": null,
            "border": null,
            "align_items": null,
            "bottom": null,
            "_model_module": "@jupyter-widgets/base",
            "top": null,
            "grid_column": null,
            "overflow_y": null,
            "overflow_x": null,
            "grid_auto_flow": null,
            "grid_area": null,
            "grid_template_columns": null,
            "flex": null,
            "_model_name": "LayoutModel",
            "justify_items": null,
            "grid_row": null,
            "max_height": null,
            "align_content": null,
            "visibility": null,
            "align_self": null,
            "height": null,
            "min_height": null,
            "padding": null,
            "grid_auto_rows": null,
            "grid_gap": null,
            "max_width": null,
            "order": null,
            "_view_module_version": "1.2.0",
            "grid_template_areas": null,
            "object_position": null,
            "object_fit": null,
            "grid_auto_columns": null,
            "margin": null,
            "display": null,
            "left": null
          }
        },
        "26090b384b3f4dfa804eff256f6c870f": {
          "model_module": "@jupyter-widgets/controls",
          "model_name": "FloatProgressModel",
          "state": {
            "_view_name": "ProgressView",
            "style": "IPY_MODEL_a504355317394015a017cdb6daa8441b",
            "_dom_classes": [],
            "description": "Downloading: 100%",
            "_model_name": "FloatProgressModel",
            "bar_style": "success",
            "max": 385,
            "_view_module": "@jupyter-widgets/controls",
            "_model_module_version": "1.5.0",
            "value": 385,
            "_view_count": null,
            "_view_module_version": "1.5.0",
            "orientation": "horizontal",
            "min": 0,
            "description_tooltip": null,
            "_model_module": "@jupyter-widgets/controls",
            "layout": "IPY_MODEL_8e6d38f09c07481a96d5f35729f12b92"
          }
        },
        "edb4bf3509444194861120ecde395c08": {
          "model_module": "@jupyter-widgets/controls",
          "model_name": "HTMLModel",
          "state": {
            "_view_name": "HTMLView",
            "style": "IPY_MODEL_c8cfa59b2cc2453c83aeec806395f8ba",
            "_dom_classes": [],
            "description": "",
            "_model_name": "HTMLModel",
            "placeholder": "​",
            "_view_module": "@jupyter-widgets/controls",
            "_model_module_version": "1.5.0",
            "value": " 385/385 [00:12&lt;00:00, 30.7B/s]",
            "_view_count": null,
            "_view_module_version": "1.5.0",
            "description_tooltip": null,
            "_model_module": "@jupyter-widgets/controls",
            "layout": "IPY_MODEL_0317e559c1864bdd83b5f5a1dd9cffa5"
          }
        },
        "a504355317394015a017cdb6daa8441b": {
          "model_module": "@jupyter-widgets/controls",
          "model_name": "ProgressStyleModel",
          "state": {
            "_view_name": "StyleView",
            "_model_name": "ProgressStyleModel",
            "description_width": "initial",
            "_view_module": "@jupyter-widgets/base",
            "_model_module_version": "1.5.0",
            "_view_count": null,
            "_view_module_version": "1.2.0",
            "bar_color": null,
            "_model_module": "@jupyter-widgets/controls"
          }
        },
        "8e6d38f09c07481a96d5f35729f12b92": {
          "model_module": "@jupyter-widgets/base",
          "model_name": "LayoutModel",
          "state": {
            "_view_name": "LayoutView",
            "grid_template_rows": null,
            "right": null,
            "justify_content": null,
            "_view_module": "@jupyter-widgets/base",
            "overflow": null,
            "_model_module_version": "1.2.0",
            "_view_count": null,
            "flex_flow": null,
            "width": null,
            "min_width": null,
            "border": null,
            "align_items": null,
            "bottom": null,
            "_model_module": "@jupyter-widgets/base",
            "top": null,
            "grid_column": null,
            "overflow_y": null,
            "overflow_x": null,
            "grid_auto_flow": null,
            "grid_area": null,
            "grid_template_columns": null,
            "flex": null,
            "_model_name": "LayoutModel",
            "justify_items": null,
            "grid_row": null,
            "max_height": null,
            "align_content": null,
            "visibility": null,
            "align_self": null,
            "height": null,
            "min_height": null,
            "padding": null,
            "grid_auto_rows": null,
            "grid_gap": null,
            "max_width": null,
            "order": null,
            "_view_module_version": "1.2.0",
            "grid_template_areas": null,
            "object_position": null,
            "object_fit": null,
            "grid_auto_columns": null,
            "margin": null,
            "display": null,
            "left": null
          }
        },
        "c8cfa59b2cc2453c83aeec806395f8ba": {
          "model_module": "@jupyter-widgets/controls",
          "model_name": "DescriptionStyleModel",
          "state": {
            "_view_name": "StyleView",
            "_model_name": "DescriptionStyleModel",
            "description_width": "",
            "_view_module": "@jupyter-widgets/base",
            "_model_module_version": "1.5.0",
            "_view_count": null,
            "_view_module_version": "1.2.0",
            "_model_module": "@jupyter-widgets/controls"
          }
        },
        "0317e559c1864bdd83b5f5a1dd9cffa5": {
          "model_module": "@jupyter-widgets/base",
          "model_name": "LayoutModel",
          "state": {
            "_view_name": "LayoutView",
            "grid_template_rows": null,
            "right": null,
            "justify_content": null,
            "_view_module": "@jupyter-widgets/base",
            "overflow": null,
            "_model_module_version": "1.2.0",
            "_view_count": null,
            "flex_flow": null,
            "width": null,
            "min_width": null,
            "border": null,
            "align_items": null,
            "bottom": null,
            "_model_module": "@jupyter-widgets/base",
            "top": null,
            "grid_column": null,
            "overflow_y": null,
            "overflow_x": null,
            "grid_auto_flow": null,
            "grid_area": null,
            "grid_template_columns": null,
            "flex": null,
            "_model_name": "LayoutModel",
            "justify_items": null,
            "grid_row": null,
            "max_height": null,
            "align_content": null,
            "visibility": null,
            "align_self": null,
            "height": null,
            "min_height": null,
            "padding": null,
            "grid_auto_rows": null,
            "grid_gap": null,
            "max_width": null,
            "order": null,
            "_view_module_version": "1.2.0",
            "grid_template_areas": null,
            "object_position": null,
            "object_fit": null,
            "grid_auto_columns": null,
            "margin": null,
            "display": null,
            "left": null
          }
        },
        "46aeb11e267d42568c06267e590ad84d": {
          "model_module": "@jupyter-widgets/controls",
          "model_name": "HBoxModel",
          "state": {
            "_view_name": "HBoxView",
            "_dom_classes": [],
            "_model_name": "HBoxModel",
            "_view_module": "@jupyter-widgets/controls",
            "_model_module_version": "1.5.0",
            "_view_count": null,
            "_view_module_version": "1.5.0",
            "box_style": "",
            "layout": "IPY_MODEL_28e3313cae9242d5ab655ff5ab06553c",
            "_model_module": "@jupyter-widgets/controls",
            "children": [
              "IPY_MODEL_23e4421e48584fd2a905207a742d3686",
              "IPY_MODEL_792721d1b687410ea7ceff194cda2412"
            ]
          }
        },
        "28e3313cae9242d5ab655ff5ab06553c": {
          "model_module": "@jupyter-widgets/base",
          "model_name": "LayoutModel",
          "state": {
            "_view_name": "LayoutView",
            "grid_template_rows": null,
            "right": null,
            "justify_content": null,
            "_view_module": "@jupyter-widgets/base",
            "overflow": null,
            "_model_module_version": "1.2.0",
            "_view_count": null,
            "flex_flow": null,
            "width": null,
            "min_width": null,
            "border": null,
            "align_items": null,
            "bottom": null,
            "_model_module": "@jupyter-widgets/base",
            "top": null,
            "grid_column": null,
            "overflow_y": null,
            "overflow_x": null,
            "grid_auto_flow": null,
            "grid_area": null,
            "grid_template_columns": null,
            "flex": null,
            "_model_name": "LayoutModel",
            "justify_items": null,
            "grid_row": null,
            "max_height": null,
            "align_content": null,
            "visibility": null,
            "align_self": null,
            "height": null,
            "min_height": null,
            "padding": null,
            "grid_auto_rows": null,
            "grid_gap": null,
            "max_width": null,
            "order": null,
            "_view_module_version": "1.2.0",
            "grid_template_areas": null,
            "object_position": null,
            "object_fit": null,
            "grid_auto_columns": null,
            "margin": null,
            "display": null,
            "left": null
          }
        },
        "23e4421e48584fd2a905207a742d3686": {
          "model_module": "@jupyter-widgets/controls",
          "model_name": "FloatProgressModel",
          "state": {
            "_view_name": "ProgressView",
            "style": "IPY_MODEL_c21744e4a8134724a050edc89e919d37",
            "_dom_classes": [],
            "description": "Downloading: 100%",
            "_model_name": "FloatProgressModel",
            "bar_style": "success",
            "max": 442221694,
            "_view_module": "@jupyter-widgets/controls",
            "_model_module_version": "1.5.0",
            "value": 442221694,
            "_view_count": null,
            "_view_module_version": "1.5.0",
            "orientation": "horizontal",
            "min": 0,
            "description_tooltip": null,
            "_model_module": "@jupyter-widgets/controls",
            "layout": "IPY_MODEL_41a4a5b535bf455a92979ed0f66be4b8"
          }
        },
        "792721d1b687410ea7ceff194cda2412": {
          "model_module": "@jupyter-widgets/controls",
          "model_name": "HTMLModel",
          "state": {
            "_view_name": "HTMLView",
            "style": "IPY_MODEL_5e044a4e2ccb403899612e99a7325bb1",
            "_dom_classes": [],
            "description": "",
            "_model_name": "HTMLModel",
            "placeholder": "​",
            "_view_module": "@jupyter-widgets/controls",
            "_model_module_version": "1.5.0",
            "value": " 442M/442M [00:12&lt;00:00, 35.7MB/s]",
            "_view_count": null,
            "_view_module_version": "1.5.0",
            "description_tooltip": null,
            "_model_module": "@jupyter-widgets/controls",
            "layout": "IPY_MODEL_aeac4651a3284496937b4535de18df81"
          }
        },
        "c21744e4a8134724a050edc89e919d37": {
          "model_module": "@jupyter-widgets/controls",
          "model_name": "ProgressStyleModel",
          "state": {
            "_view_name": "StyleView",
            "_model_name": "ProgressStyleModel",
            "description_width": "initial",
            "_view_module": "@jupyter-widgets/base",
            "_model_module_version": "1.5.0",
            "_view_count": null,
            "_view_module_version": "1.2.0",
            "bar_color": null,
            "_model_module": "@jupyter-widgets/controls"
          }
        },
        "41a4a5b535bf455a92979ed0f66be4b8": {
          "model_module": "@jupyter-widgets/base",
          "model_name": "LayoutModel",
          "state": {
            "_view_name": "LayoutView",
            "grid_template_rows": null,
            "right": null,
            "justify_content": null,
            "_view_module": "@jupyter-widgets/base",
            "overflow": null,
            "_model_module_version": "1.2.0",
            "_view_count": null,
            "flex_flow": null,
            "width": null,
            "min_width": null,
            "border": null,
            "align_items": null,
            "bottom": null,
            "_model_module": "@jupyter-widgets/base",
            "top": null,
            "grid_column": null,
            "overflow_y": null,
            "overflow_x": null,
            "grid_auto_flow": null,
            "grid_area": null,
            "grid_template_columns": null,
            "flex": null,
            "_model_name": "LayoutModel",
            "justify_items": null,
            "grid_row": null,
            "max_height": null,
            "align_content": null,
            "visibility": null,
            "align_self": null,
            "height": null,
            "min_height": null,
            "padding": null,
            "grid_auto_rows": null,
            "grid_gap": null,
            "max_width": null,
            "order": null,
            "_view_module_version": "1.2.0",
            "grid_template_areas": null,
            "object_position": null,
            "object_fit": null,
            "grid_auto_columns": null,
            "margin": null,
            "display": null,
            "left": null
          }
        },
        "5e044a4e2ccb403899612e99a7325bb1": {
          "model_module": "@jupyter-widgets/controls",
          "model_name": "DescriptionStyleModel",
          "state": {
            "_view_name": "StyleView",
            "_model_name": "DescriptionStyleModel",
            "description_width": "",
            "_view_module": "@jupyter-widgets/base",
            "_model_module_version": "1.5.0",
            "_view_count": null,
            "_view_module_version": "1.2.0",
            "_model_module": "@jupyter-widgets/controls"
          }
        },
        "aeac4651a3284496937b4535de18df81": {
          "model_module": "@jupyter-widgets/base",
          "model_name": "LayoutModel",
          "state": {
            "_view_name": "LayoutView",
            "grid_template_rows": null,
            "right": null,
            "justify_content": null,
            "_view_module": "@jupyter-widgets/base",
            "overflow": null,
            "_model_module_version": "1.2.0",
            "_view_count": null,
            "flex_flow": null,
            "width": null,
            "min_width": null,
            "border": null,
            "align_items": null,
            "bottom": null,
            "_model_module": "@jupyter-widgets/base",
            "top": null,
            "grid_column": null,
            "overflow_y": null,
            "overflow_x": null,
            "grid_auto_flow": null,
            "grid_area": null,
            "grid_template_columns": null,
            "flex": null,
            "_model_name": "LayoutModel",
            "justify_items": null,
            "grid_row": null,
            "max_height": null,
            "align_content": null,
            "visibility": null,
            "align_self": null,
            "height": null,
            "min_height": null,
            "padding": null,
            "grid_auto_rows": null,
            "grid_gap": null,
            "max_width": null,
            "order": null,
            "_view_module_version": "1.2.0",
            "grid_template_areas": null,
            "object_position": null,
            "object_fit": null,
            "grid_auto_columns": null,
            "margin": null,
            "display": null,
            "left": null
          }
        },
        "7adda490ed3146be83a17eb9a88cd77e": {
          "model_module": "@jupyter-widgets/controls",
          "model_name": "HBoxModel",
          "state": {
            "_view_name": "HBoxView",
            "_dom_classes": [],
            "_model_name": "HBoxModel",
            "_view_module": "@jupyter-widgets/controls",
            "_model_module_version": "1.5.0",
            "_view_count": null,
            "_view_module_version": "1.5.0",
            "box_style": "",
            "layout": "IPY_MODEL_1860f743ef0b449bb7e25f9bb004e7b6",
            "_model_module": "@jupyter-widgets/controls",
            "children": [
              "IPY_MODEL_efd0b1af887b405bbda47a9696ab894f",
              "IPY_MODEL_1cd62f5d520e4f70af307c64e5e63f96"
            ]
          }
        },
        "1860f743ef0b449bb7e25f9bb004e7b6": {
          "model_module": "@jupyter-widgets/base",
          "model_name": "LayoutModel",
          "state": {
            "_view_name": "LayoutView",
            "grid_template_rows": null,
            "right": null,
            "justify_content": null,
            "_view_module": "@jupyter-widgets/base",
            "overflow": null,
            "_model_module_version": "1.2.0",
            "_view_count": null,
            "flex_flow": null,
            "width": null,
            "min_width": null,
            "border": null,
            "align_items": null,
            "bottom": null,
            "_model_module": "@jupyter-widgets/base",
            "top": null,
            "grid_column": null,
            "overflow_y": null,
            "overflow_x": null,
            "grid_auto_flow": null,
            "grid_area": null,
            "grid_template_columns": null,
            "flex": null,
            "_model_name": "LayoutModel",
            "justify_items": null,
            "grid_row": null,
            "max_height": null,
            "align_content": null,
            "visibility": null,
            "align_self": null,
            "height": null,
            "min_height": null,
            "padding": null,
            "grid_auto_rows": null,
            "grid_gap": null,
            "max_width": null,
            "order": null,
            "_view_module_version": "1.2.0",
            "grid_template_areas": null,
            "object_position": null,
            "object_fit": null,
            "grid_auto_columns": null,
            "margin": null,
            "display": null,
            "left": null
          }
        },
        "efd0b1af887b405bbda47a9696ab894f": {
          "model_module": "@jupyter-widgets/controls",
          "model_name": "FloatProgressModel",
          "state": {
            "_view_name": "ProgressView",
            "style": "IPY_MODEL_3d422be9704b4ec8a6b5fea5dc5b054c",
            "_dom_classes": [],
            "description": "Downloading: 100%",
            "_model_name": "FloatProgressModel",
            "bar_style": "success",
            "max": 227845,
            "_view_module": "@jupyter-widgets/controls",
            "_model_module_version": "1.5.0",
            "value": 227845,
            "_view_count": null,
            "_view_module_version": "1.5.0",
            "orientation": "horizontal",
            "min": 0,
            "description_tooltip": null,
            "_model_module": "@jupyter-widgets/controls",
            "layout": "IPY_MODEL_8a014aa49ef84cdc80fb17d5070e4827"
          }
        },
        "1cd62f5d520e4f70af307c64e5e63f96": {
          "model_module": "@jupyter-widgets/controls",
          "model_name": "HTMLModel",
          "state": {
            "_view_name": "HTMLView",
            "style": "IPY_MODEL_68e14d24574b4acfaec3d59eaf9c505b",
            "_dom_classes": [],
            "description": "",
            "_model_name": "HTMLModel",
            "placeholder": "​",
            "_view_module": "@jupyter-widgets/controls",
            "_model_module_version": "1.5.0",
            "value": " 228k/228k [00:00&lt;00:00, 1.04MB/s]",
            "_view_count": null,
            "_view_module_version": "1.5.0",
            "description_tooltip": null,
            "_model_module": "@jupyter-widgets/controls",
            "layout": "IPY_MODEL_6c8e9185138844c3a7f1d87019d20369"
          }
        },
        "3d422be9704b4ec8a6b5fea5dc5b054c": {
          "model_module": "@jupyter-widgets/controls",
          "model_name": "ProgressStyleModel",
          "state": {
            "_view_name": "StyleView",
            "_model_name": "ProgressStyleModel",
            "description_width": "initial",
            "_view_module": "@jupyter-widgets/base",
            "_model_module_version": "1.5.0",
            "_view_count": null,
            "_view_module_version": "1.2.0",
            "bar_color": null,
            "_model_module": "@jupyter-widgets/controls"
          }
        },
        "8a014aa49ef84cdc80fb17d5070e4827": {
          "model_module": "@jupyter-widgets/base",
          "model_name": "LayoutModel",
          "state": {
            "_view_name": "LayoutView",
            "grid_template_rows": null,
            "right": null,
            "justify_content": null,
            "_view_module": "@jupyter-widgets/base",
            "overflow": null,
            "_model_module_version": "1.2.0",
            "_view_count": null,
            "flex_flow": null,
            "width": null,
            "min_width": null,
            "border": null,
            "align_items": null,
            "bottom": null,
            "_model_module": "@jupyter-widgets/base",
            "top": null,
            "grid_column": null,
            "overflow_y": null,
            "overflow_x": null,
            "grid_auto_flow": null,
            "grid_area": null,
            "grid_template_columns": null,
            "flex": null,
            "_model_name": "LayoutModel",
            "justify_items": null,
            "grid_row": null,
            "max_height": null,
            "align_content": null,
            "visibility": null,
            "align_self": null,
            "height": null,
            "min_height": null,
            "padding": null,
            "grid_auto_rows": null,
            "grid_gap": null,
            "max_width": null,
            "order": null,
            "_view_module_version": "1.2.0",
            "grid_template_areas": null,
            "object_position": null,
            "object_fit": null,
            "grid_auto_columns": null,
            "margin": null,
            "display": null,
            "left": null
          }
        },
        "68e14d24574b4acfaec3d59eaf9c505b": {
          "model_module": "@jupyter-widgets/controls",
          "model_name": "DescriptionStyleModel",
          "state": {
            "_view_name": "StyleView",
            "_model_name": "DescriptionStyleModel",
            "description_width": "",
            "_view_module": "@jupyter-widgets/base",
            "_model_module_version": "1.5.0",
            "_view_count": null,
            "_view_module_version": "1.2.0",
            "_model_module": "@jupyter-widgets/controls"
          }
        },
        "6c8e9185138844c3a7f1d87019d20369": {
          "model_module": "@jupyter-widgets/base",
          "model_name": "LayoutModel",
          "state": {
            "_view_name": "LayoutView",
            "grid_template_rows": null,
            "right": null,
            "justify_content": null,
            "_view_module": "@jupyter-widgets/base",
            "overflow": null,
            "_model_module_version": "1.2.0",
            "_view_count": null,
            "flex_flow": null,
            "width": null,
            "min_width": null,
            "border": null,
            "align_items": null,
            "bottom": null,
            "_model_module": "@jupyter-widgets/base",
            "top": null,
            "grid_column": null,
            "overflow_y": null,
            "overflow_x": null,
            "grid_auto_flow": null,
            "grid_area": null,
            "grid_template_columns": null,
            "flex": null,
            "_model_name": "LayoutModel",
            "justify_items": null,
            "grid_row": null,
            "max_height": null,
            "align_content": null,
            "visibility": null,
            "align_self": null,
            "height": null,
            "min_height": null,
            "padding": null,
            "grid_auto_rows": null,
            "grid_gap": null,
            "max_width": null,
            "order": null,
            "_view_module_version": "1.2.0",
            "grid_template_areas": null,
            "object_position": null,
            "object_fit": null,
            "grid_auto_columns": null,
            "margin": null,
            "display": null,
            "left": null
          }
        }
      }
    }
  },
  "cells": [
    {
      "cell_type": "markdown",
      "metadata": {
        "id": "view-in-github",
        "colab_type": "text"
      },
      "source": [
        "<a href=\"https://colab.research.google.com/github/Rameshkumar789/Computational-Menthods-INFO-5731/blob/main/Project_Pre_processing.ipynb\" target=\"_parent\"><img src=\"https://colab.research.google.com/assets/colab-badge.svg\" alt=\"Open In Colab\"/></a>"
      ]
    },
    {
      "cell_type": "code",
      "metadata": {
        "id": "0OGvd8mGjsKq"
      },
      "source": [
        "import pandas as pd\n",
        "from google.colab import files"
      ],
      "execution_count": null,
      "outputs": []
    },
    {
      "cell_type": "code",
      "metadata": {
        "colab": {
          "resources": {
            "http://localhost:8080/nbextensions/google.colab/files.js": {
              "data": "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",
              "ok": true,
              "headers": [
                [
                  "content-type",
                  "application/javascript"
                ]
              ],
              "status": 200,
              "status_text": ""
            }
          },
          "base_uri": "https://localhost:8080/",
          "height": 73
        },
        "id": "2_H7xY4qjvQs",
        "outputId": "403d895d-9f02-4830-d26a-3d7337cd7f11"
      },
      "source": [
        "uploaded = files.upload()"
      ],
      "execution_count": null,
      "outputs": [
        {
          "output_type": "display_data",
          "data": {
            "text/html": [
              "\n",
              "     <input type=\"file\" id=\"files-95272968-1b43-4b33-aee8-c7aee1e371a0\" name=\"files[]\" multiple disabled\n",
              "        style=\"border:none\" />\n",
              "     <output id=\"result-95272968-1b43-4b33-aee8-c7aee1e371a0\">\n",
              "      Upload widget is only available when the cell has been executed in the\n",
              "      current browser session. Please rerun this cell to enable.\n",
              "      </output>\n",
              "      <script src=\"/nbextensions/google.colab/files.js\"></script> "
            ],
            "text/plain": [
              "<IPython.core.display.HTML object>"
            ]
          },
          "metadata": {
            "tags": []
          }
        },
        {
          "output_type": "stream",
          "text": [
            "Saving project_50.csv to project_50.csv\n"
          ],
          "name": "stdout"
        }
      ]
    },
    {
      "cell_type": "code",
      "metadata": {
        "id": "ZYeKPAm_jsKz"
      },
      "source": [
        "df=pd.read_csv('/content/project_50.csv')"
      ],
      "execution_count": null,
      "outputs": []
    },
    {
      "cell_type": "code",
      "metadata": {
        "colab": {
          "base_uri": "https://localhost:8080/",
          "height": 402
        },
        "id": "isBBeNfGkiwO",
        "outputId": "15ce7a61-0791-4a23-80b7-a814df2ba697"
      },
      "source": [
        "df"
      ],
      "execution_count": null,
      "outputs": [
        {
          "output_type": "execute_result",
          "data": {
            "text/html": [
              "<div>\n",
              "<style scoped>\n",
              "    .dataframe tbody tr th:only-of-type {\n",
              "        vertical-align: middle;\n",
              "    }\n",
              "\n",
              "    .dataframe tbody tr th {\n",
              "        vertical-align: top;\n",
              "    }\n",
              "\n",
              "    .dataframe thead th {\n",
              "        text-align: right;\n",
              "    }\n",
              "</style>\n",
              "<table border=\"1\" class=\"dataframe\">\n",
              "  <thead>\n",
              "    <tr style=\"text-align: right;\">\n",
              "      <th></th>\n",
              "      <th>Unnamed: 0</th>\n",
              "      <th>SourceID</th>\n",
              "      <th>Title</th>\n",
              "      <th>TextWhereRefMention</th>\n",
              "    </tr>\n",
              "  </thead>\n",
              "  <tbody>\n",
              "    <tr>\n",
              "      <th>0</th>\n",
              "      <td>0</td>\n",
              "      <td>176908</td>\n",
              "      <td>Urban wages and labor market agglomeration</td>\n",
              "      <td>Wheaton and Lewis, Ref{target=#b33, content=},...</td>\n",
              "    </tr>\n",
              "    <tr>\n",
              "      <th>1</th>\n",
              "      <td>1</td>\n",
              "      <td>176908</td>\n",
              "      <td>NaN</td>\n",
              "      <td>Glaeser and MarÃ©, Ref{target=#b9, content=}, ...</td>\n",
              "    </tr>\n",
              "    <tr>\n",
              "      <th>2</th>\n",
              "      <td>2</td>\n",
              "      <td>176908</td>\n",
              "      <td>NaN</td>\n",
              "      <td>[Wheeler, Ref{target=#b34, content=}, provides...</td>\n",
              "    </tr>\n",
              "    <tr>\n",
              "      <th>3</th>\n",
              "      <td>3</td>\n",
              "      <td>176908</td>\n",
              "      <td>The Wage Effects of Residential Location and C...</td>\n",
              "      <td>First, empirical evidence suggests that women ...</td>\n",
              "    </tr>\n",
              "    <tr>\n",
              "      <th>4</th>\n",
              "      <td>4</td>\n",
              "      <td>176908</td>\n",
              "      <td>Race and Gender in the Labor Market</td>\n",
              "      <td>Second, women typically work fewer hours and y...</td>\n",
              "    </tr>\n",
              "    <tr>\n",
              "      <th>...</th>\n",
              "      <td>...</td>\n",
              "      <td>...</td>\n",
              "      <td>...</td>\n",
              "      <td>...</td>\n",
              "    </tr>\n",
              "    <tr>\n",
              "      <th>102024</th>\n",
              "      <td>102024</td>\n",
              "      <td>30685534</td>\n",
              "      <td>Early Learning Standards: Results from a Natio...</td>\n",
              "      <td>Most US states have now developed statements o...</td>\n",
              "    </tr>\n",
              "    <tr>\n",
              "      <th>102025</th>\n",
              "      <td>102025</td>\n",
              "      <td>30685534</td>\n",
              "      <td>Inside the Content of InfantToddler Early Lear...</td>\n",
              "      <td>Most US states have now developed statements o...</td>\n",
              "    </tr>\n",
              "    <tr>\n",
              "      <th>102026</th>\n",
              "      <td>102026</td>\n",
              "      <td>30685534</td>\n",
              "      <td>Early Learning Guidelines for Infants and Todd...</td>\n",
              "      <td>[Peak bodies in the US have published recommen...</td>\n",
              "    </tr>\n",
              "    <tr>\n",
              "      <th>102027</th>\n",
              "      <td>102027</td>\n",
              "      <td>30685534</td>\n",
              "      <td>Early Learning Guidelines for Infants and Todd...</td>\n",
              "      <td>the process used to develop SÃ­olta: The Natio...</td>\n",
              "    </tr>\n",
              "    <tr>\n",
              "      <th>102028</th>\n",
              "      <td>102028</td>\n",
              "      <td>30685534</td>\n",
              "      <td>Why early care and education deserves as much ...</td>\n",
              "      <td>The evidence suggests that comprehensive and h...</td>\n",
              "    </tr>\n",
              "  </tbody>\n",
              "</table>\n",
              "<p>102029 rows × 4 columns</p>\n",
              "</div>"
            ],
            "text/plain": [
              "        Unnamed: 0  ...                                TextWhereRefMention\n",
              "0                0  ...  Wheaton and Lewis, Ref{target=#b33, content=},...\n",
              "1                1  ...  Glaeser and MarÃ©, Ref{target=#b9, content=}, ...\n",
              "2                2  ...  [Wheeler, Ref{target=#b34, content=}, provides...\n",
              "3                3  ...  First, empirical evidence suggests that women ...\n",
              "4                4  ...  Second, women typically work fewer hours and y...\n",
              "...            ...  ...                                                ...\n",
              "102024      102024  ...  Most US states have now developed statements o...\n",
              "102025      102025  ...  Most US states have now developed statements o...\n",
              "102026      102026  ...  [Peak bodies in the US have published recommen...\n",
              "102027      102027  ...  the process used to develop SÃ­olta: The Natio...\n",
              "102028      102028  ...  The evidence suggests that comprehensive and h...\n",
              "\n",
              "[102029 rows x 4 columns]"
            ]
          },
          "metadata": {
            "tags": []
          },
          "execution_count": 4
        }
      ]
    },
    {
      "cell_type": "markdown",
      "metadata": {
        "id": "uv4h00-psN1a"
      },
      "source": [
        "## Data Cleaning"
      ]
    },
    {
      "cell_type": "code",
      "metadata": {
        "id": "ExvsTyXYk66l"
      },
      "source": [
        "import re"
      ],
      "execution_count": null,
      "outputs": []
    },
    {
      "cell_type": "code",
      "metadata": {
        "id": "i4HkGceKsRzd"
      },
      "source": [
        "cleaned_text=[]\n",
        "\n",
        "for i in range(len(df)):\n",
        "  temp = re.sub('Ref{.*?}', '', df['TextWhereRefMention'][i])\n",
        "  temp = re.sub(r'[^\\w\\s]', '', temp)\n",
        "  temp= re.sub(' +', ' ', temp).rstrip()\n",
        "  cleaned_text.append(temp)"
      ],
      "execution_count": null,
      "outputs": []
    },
    {
      "cell_type": "code",
      "metadata": {
        "id": "7aeihVAllSxU"
      },
      "source": [
        "df['cleaned_text']=cleaned_text"
      ],
      "execution_count": null,
      "outputs": []
    },
    {
      "cell_type": "code",
      "metadata": {
        "colab": {
          "base_uri": "https://localhost:8080/",
          "height": 402
        },
        "id": "QtirFFge1Gdn",
        "outputId": "fb630e44-2425-4fe6-bae7-5960da4d05b0"
      },
      "source": [
        "df"
      ],
      "execution_count": null,
      "outputs": [
        {
          "output_type": "execute_result",
          "data": {
            "text/html": [
              "<div>\n",
              "<style scoped>\n",
              "    .dataframe tbody tr th:only-of-type {\n",
              "        vertical-align: middle;\n",
              "    }\n",
              "\n",
              "    .dataframe tbody tr th {\n",
              "        vertical-align: top;\n",
              "    }\n",
              "\n",
              "    .dataframe thead th {\n",
              "        text-align: right;\n",
              "    }\n",
              "</style>\n",
              "<table border=\"1\" class=\"dataframe\">\n",
              "  <thead>\n",
              "    <tr style=\"text-align: right;\">\n",
              "      <th></th>\n",
              "      <th>Unnamed: 0</th>\n",
              "      <th>SourceID</th>\n",
              "      <th>Title</th>\n",
              "      <th>TextWhereRefMention</th>\n",
              "      <th>cleaned_text</th>\n",
              "    </tr>\n",
              "  </thead>\n",
              "  <tbody>\n",
              "    <tr>\n",
              "      <th>0</th>\n",
              "      <td>0</td>\n",
              "      <td>176908</td>\n",
              "      <td>Urban wages and labor market agglomeration</td>\n",
              "      <td>Wheaton and Lewis, Ref{target=#b33, content=},...</td>\n",
              "      <td>Wheaton and Lewis find evidence of increasing ...</td>\n",
              "    </tr>\n",
              "    <tr>\n",
              "      <th>1</th>\n",
              "      <td>1</td>\n",
              "      <td>176908</td>\n",
              "      <td>NaN</td>\n",
              "      <td>Glaeser and MarÃ©, Ref{target=#b9, content=}, ...</td>\n",
              "      <td>Glaeser and MarÃ find a robust urban wage prem...</td>\n",
              "    </tr>\n",
              "    <tr>\n",
              "      <th>2</th>\n",
              "      <td>2</td>\n",
              "      <td>176908</td>\n",
              "      <td>NaN</td>\n",
              "      <td>[Wheeler, Ref{target=#b34, content=}, provides...</td>\n",
              "      <td>Wheeler provides empirical support for a model...</td>\n",
              "    </tr>\n",
              "    <tr>\n",
              "      <th>3</th>\n",
              "      <td>3</td>\n",
              "      <td>176908</td>\n",
              "      <td>The Wage Effects of Residential Location and C...</td>\n",
              "      <td>First, empirical evidence suggests that women ...</td>\n",
              "      <td>First empirical evidence suggests that women a...</td>\n",
              "    </tr>\n",
              "    <tr>\n",
              "      <th>4</th>\n",
              "      <td>4</td>\n",
              "      <td>176908</td>\n",
              "      <td>Race and Gender in the Labor Market</td>\n",
              "      <td>Second, women typically work fewer hours and y...</td>\n",
              "      <td>Second women typically work fewer hours and ye...</td>\n",
              "    </tr>\n",
              "    <tr>\n",
              "      <th>...</th>\n",
              "      <td>...</td>\n",
              "      <td>...</td>\n",
              "      <td>...</td>\n",
              "      <td>...</td>\n",
              "      <td>...</td>\n",
              "    </tr>\n",
              "    <tr>\n",
              "      <th>102024</th>\n",
              "      <td>102024</td>\n",
              "      <td>30685534</td>\n",
              "      <td>Early Learning Standards: Results from a Natio...</td>\n",
              "      <td>Most US states have now developed statements o...</td>\n",
              "      <td>Most US states have now developed statements o...</td>\n",
              "    </tr>\n",
              "    <tr>\n",
              "      <th>102025</th>\n",
              "      <td>102025</td>\n",
              "      <td>30685534</td>\n",
              "      <td>Inside the Content of InfantToddler Early Lear...</td>\n",
              "      <td>Most US states have now developed statements o...</td>\n",
              "      <td>Most US states have now developed statements o...</td>\n",
              "    </tr>\n",
              "    <tr>\n",
              "      <th>102026</th>\n",
              "      <td>102026</td>\n",
              "      <td>30685534</td>\n",
              "      <td>Early Learning Guidelines for Infants and Todd...</td>\n",
              "      <td>[Peak bodies in the US have published recommen...</td>\n",
              "      <td>Peak bodies in the US have published recommend...</td>\n",
              "    </tr>\n",
              "    <tr>\n",
              "      <th>102027</th>\n",
              "      <td>102027</td>\n",
              "      <td>30685534</td>\n",
              "      <td>Early Learning Guidelines for Infants and Todd...</td>\n",
              "      <td>the process used to develop SÃ­olta: The Natio...</td>\n",
              "      <td>the process used to develop SÃolta The Nationa...</td>\n",
              "    </tr>\n",
              "    <tr>\n",
              "      <th>102028</th>\n",
              "      <td>102028</td>\n",
              "      <td>30685534</td>\n",
              "      <td>Why early care and education deserves as much ...</td>\n",
              "      <td>The evidence suggests that comprehensive and h...</td>\n",
              "      <td>The evidence suggests that comprehensive and h...</td>\n",
              "    </tr>\n",
              "  </tbody>\n",
              "</table>\n",
              "<p>102029 rows × 5 columns</p>\n",
              "</div>"
            ],
            "text/plain": [
              "        Unnamed: 0  ...                                       cleaned_text\n",
              "0                0  ...  Wheaton and Lewis find evidence of increasing ...\n",
              "1                1  ...  Glaeser and MarÃ find a robust urban wage prem...\n",
              "2                2  ...  Wheeler provides empirical support for a model...\n",
              "3                3  ...  First empirical evidence suggests that women a...\n",
              "4                4  ...  Second women typically work fewer hours and ye...\n",
              "...            ...  ...                                                ...\n",
              "102024      102024  ...  Most US states have now developed statements o...\n",
              "102025      102025  ...  Most US states have now developed statements o...\n",
              "102026      102026  ...  Peak bodies in the US have published recommend...\n",
              "102027      102027  ...  the process used to develop SÃolta The Nationa...\n",
              "102028      102028  ...  The evidence suggests that comprehensive and h...\n",
              "\n",
              "[102029 rows x 5 columns]"
            ]
          },
          "metadata": {
            "tags": []
          },
          "execution_count": 8
        }
      ]
    },
    {
      "cell_type": "markdown",
      "metadata": {
        "id": "nAeHtaZbvkgn"
      },
      "source": [
        "## Grouping the Data"
      ]
    },
    {
      "cell_type": "code",
      "metadata": {
        "id": "MkmlYg8VS4QC"
      },
      "source": [
        "x=df.groupby(['SourceID']).size().reset_index(name='count')"
      ],
      "execution_count": null,
      "outputs": []
    },
    {
      "cell_type": "code",
      "metadata": {
        "id": "MEm1vCXdUADI"
      },
      "source": [
        "id_lis=x['SourceID'].values.tolist()"
      ],
      "execution_count": null,
      "outputs": []
    },
    {
      "cell_type": "code",
      "metadata": {
        "id": "AoCbCBJjXk0I"
      },
      "source": [
        "#temp=temp.drop_duplicates(subset =\"cleaned_text\")"
      ],
      "execution_count": null,
      "outputs": []
    },
    {
      "cell_type": "code",
      "metadata": {
        "id": "4V1RyhgYVOmw"
      },
      "source": [
        "temp =df.loc[df['SourceID'] == id_lis[0]]"
      ],
      "execution_count": null,
      "outputs": []
    },
    {
      "cell_type": "code",
      "metadata": {
        "id": "pGpm0SiybGIl"
      },
      "source": [
        "temp=temp.reset_index(drop=True)"
      ],
      "execution_count": null,
      "outputs": []
    },
    {
      "cell_type": "code",
      "metadata": {
        "colab": {
          "base_uri": "https://localhost:8080/"
        },
        "id": "WMxREcF5WDEE",
        "outputId": "6c709154-4c33-426d-ded7-58ae1749599d"
      },
      "source": [
        "len(temp)"
      ],
      "execution_count": null,
      "outputs": [
        {
          "output_type": "execute_result",
          "data": {
            "text/plain": [
              "52"
            ]
          },
          "metadata": {
            "tags": []
          },
          "execution_count": 14
        }
      ]
    },
    {
      "cell_type": "markdown",
      "metadata": {
        "id": "6hIz6DcR45jj"
      },
      "source": [
        "## Model"
      ]
    },
    {
      "cell_type": "markdown",
      "metadata": {
        "id": "c9hfdDNnv4CY"
      },
      "source": [
        "### Text Similarity"
      ]
    },
    {
      "cell_type": "code",
      "metadata": {
        "id": "E_rBoyx_vyXF"
      },
      "source": [
        "!pip install transformers"
      ],
      "execution_count": null,
      "outputs": []
    },
    {
      "cell_type": "code",
      "metadata": {
        "id": "ZcXM9iKbzSaH",
        "colab": {
          "base_uri": "https://localhost:8080/",
          "height": 163,
          "referenced_widgets": [
            "c7f8c7b0173a46faa65f246f6101bf65",
            "808e1b050d55498195ac3bd55a8679a2",
            "26090b384b3f4dfa804eff256f6c870f",
            "edb4bf3509444194861120ecde395c08",
            "a504355317394015a017cdb6daa8441b",
            "8e6d38f09c07481a96d5f35729f12b92",
            "c8cfa59b2cc2453c83aeec806395f8ba",
            "0317e559c1864bdd83b5f5a1dd9cffa5",
            "46aeb11e267d42568c06267e590ad84d",
            "28e3313cae9242d5ab655ff5ab06553c",
            "23e4421e48584fd2a905207a742d3686",
            "792721d1b687410ea7ceff194cda2412",
            "c21744e4a8134724a050edc89e919d37",
            "41a4a5b535bf455a92979ed0f66be4b8",
            "5e044a4e2ccb403899612e99a7325bb1",
            "aeac4651a3284496937b4535de18df81",
            "7adda490ed3146be83a17eb9a88cd77e",
            "1860f743ef0b449bb7e25f9bb004e7b6",
            "efd0b1af887b405bbda47a9696ab894f",
            "1cd62f5d520e4f70af307c64e5e63f96",
            "3d422be9704b4ec8a6b5fea5dc5b054c",
            "8a014aa49ef84cdc80fb17d5070e4827",
            "68e14d24574b4acfaec3d59eaf9c505b",
            "6c8e9185138844c3a7f1d87019d20369"
          ]
        },
        "outputId": "15fbb93f-54c3-4c88-e896-00f63d680e0d"
      },
      "source": [
        "import torch\n",
        "\n",
        "from transformers import BertModel, BertTokenizer\n",
        "import numpy as np\n",
        "from scipy.spatial.distance import cosine\n",
        "\n",
        "scibert_model = BertModel.from_pretrained(\"allenai/scibert_scivocab_uncased\",\n",
        "                                  output_hidden_states=True)\n",
        "scibert_tokenizer = BertTokenizer.from_pretrained(\"allenai/scibert_scivocab_uncased\")"
      ],
      "execution_count": null,
      "outputs": [
        {
          "output_type": "display_data",
          "data": {
            "application/vnd.jupyter.widget-view+json": {
              "model_id": "c7f8c7b0173a46faa65f246f6101bf65",
              "version_minor": 0,
              "version_major": 2
            },
            "text/plain": [
              "HBox(children=(FloatProgress(value=0.0, description='Downloading', max=385.0, style=ProgressStyle(description_…"
            ]
          },
          "metadata": {
            "tags": []
          }
        },
        {
          "output_type": "stream",
          "text": [
            "\n"
          ],
          "name": "stdout"
        },
        {
          "output_type": "display_data",
          "data": {
            "application/vnd.jupyter.widget-view+json": {
              "model_id": "46aeb11e267d42568c06267e590ad84d",
              "version_minor": 0,
              "version_major": 2
            },
            "text/plain": [
              "HBox(children=(FloatProgress(value=0.0, description='Downloading', max=442221694.0, style=ProgressStyle(descri…"
            ]
          },
          "metadata": {
            "tags": []
          }
        },
        {
          "output_type": "stream",
          "text": [
            "\n"
          ],
          "name": "stdout"
        },
        {
          "output_type": "display_data",
          "data": {
            "application/vnd.jupyter.widget-view+json": {
              "model_id": "7adda490ed3146be83a17eb9a88cd77e",
              "version_minor": 0,
              "version_major": 2
            },
            "text/plain": [
              "HBox(children=(FloatProgress(value=0.0, description='Downloading', max=227845.0, style=ProgressStyle(descripti…"
            ]
          },
          "metadata": {
            "tags": []
          }
        },
        {
          "output_type": "stream",
          "text": [
            "\n"
          ],
          "name": "stdout"
        }
      ]
    },
    {
      "cell_type": "code",
      "metadata": {
        "id": "VVcJNnIE1Oqv"
      },
      "source": [
        "def get_embedding(text):\n",
        "    \n",
        "    b_model=scibert_model\n",
        "    b_tokenizer=scibert_tokenizer\n",
        "\n",
        "    # Encode the text, adding the (required!) special tokens, and converting to\n",
        "    # PyTorch tensors.\n",
        "    encoded_dict = b_tokenizer.encode_plus(\n",
        "                        text,                      \n",
        "                        add_special_tokens = True, \n",
        "                        return_tensors = 'pt',     \n",
        "                )\n",
        "\n",
        "    input_ids = encoded_dict['input_ids']\n",
        "    \n",
        "    b_model.eval()\n",
        "\n",
        "    # Run the text through the model and get the hidden states.\n",
        "    bert_outputs = b_model(input_ids)\n",
        "    \n",
        "    # Run the text through BERT, and collect all of the hidden states produced\n",
        "    # from all 12 layers. \n",
        "    with torch.no_grad():\n",
        "\n",
        "        outputs = b_model(input_ids)\n",
        "\n",
        "        # Evaluating the model will return a different number of objects based on \n",
        "        # how it's  configured in the `from_pretrained` call earlier. In this case, \n",
        "        # becase we set `output_hidden_states = True`, the third item will be the \n",
        "        # hidden states from all layers. See the documentation for more details:\n",
        "        # https://huggingface.co/transformers/model_doc/bert.html#bertmodel\n",
        "        hidden_states = outputs[2]\n",
        "\n",
        "    # `hidden_states` has shape [13 x 1 x <sentence length> x 768]\n",
        "\n",
        "    # Select the embeddings from the second to last layer.\n",
        "    # `token_vecs` is a tensor with shape [<sent length> x 768]\n",
        "    token_vecs = hidden_states[-2][0]\n",
        "\n",
        "    # Calculate the average of all token vectors.\n",
        "    sentence_embedding = torch.mean(token_vecs, dim=0)\n",
        "\n",
        "    # Convert to numpy array.\n",
        "    sentence_embedding = sentence_embedding.detach().numpy()\n",
        "    \n",
        "    return sentence_embedding\n"
      ],
      "execution_count": null,
      "outputs": []
    },
    {
      "cell_type": "code",
      "metadata": {
        "id": "ttd82cYKxM1-"
      },
      "source": [
        "similarity=[]\n",
        "for i in range(len(temp)):\n",
        "  emb_query = get_embedding(temp['cleaned_text'][i])\n",
        "  a=[]\n",
        "  for j in range(len(temp)):\n",
        "    emb_A = get_embedding(temp['cleaned_text'][j])\n",
        "    sim_query_A = 1 - cosine(emb_query, emb_A)\n",
        "    #print('  sim(query, A): {:.2}'.format(sim_query_A))\n",
        "    a.append(sim_query_A)\n",
        "  similarity.append(a)\n",
        "\n"
      ],
      "execution_count": null,
      "outputs": []
    },
    {
      "cell_type": "code",
      "metadata": {
        "id": "3w2xVcfhAzny"
      },
      "source": [
        "simil = np.array(similarity)"
      ],
      "execution_count": null,
      "outputs": []
    },
    {
      "cell_type": "code",
      "metadata": {
        "colab": {
          "base_uri": "https://localhost:8080/"
        },
        "id": "e7xuw0HSwCD0",
        "outputId": "4533ff85-a4a7-4d9a-b074-c723a90b8f31"
      },
      "source": [
        "# Similarity Matrix\n",
        "simil"
      ],
      "execution_count": null,
      "outputs": [
        {
          "output_type": "execute_result",
          "data": {
            "text/plain": [
              "array([[1.        , 1.        , 0.86417902, ..., 0.89557177, 0.85931998,\n",
              "        0.87609434],\n",
              "       [1.        , 1.        , 0.86417902, ..., 0.89557177, 0.85931998,\n",
              "        0.87609434],\n",
              "       [0.86417902, 0.86417902, 1.        , ..., 0.88995737, 0.9015516 ,\n",
              "        0.8902117 ],\n",
              "       ...,\n",
              "       [0.89557177, 0.89557177, 0.88995737, ..., 1.        , 0.91462684,\n",
              "        0.9078142 ],\n",
              "       [0.85931998, 0.85931998, 0.9015516 , ..., 0.91462684, 1.        ,\n",
              "        0.92745322],\n",
              "       [0.87609434, 0.87609434, 0.8902117 , ..., 0.9078142 , 0.92745322,\n",
              "        1.        ]])"
            ]
          },
          "metadata": {
            "tags": []
          },
          "execution_count": 25
        }
      ]
    },
    {
      "cell_type": "markdown",
      "metadata": {
        "id": "EIfOztxXttp6"
      },
      "source": [
        "## Graph"
      ]
    },
    {
      "cell_type": "code",
      "metadata": {
        "id": "WFiA35QeXbDR"
      },
      "source": [
        "pip install cdlib[C]"
      ],
      "execution_count": null,
      "outputs": []
    },
    {
      "cell_type": "code",
      "metadata": {
        "id": "OEjfv4mSXGpG"
      },
      "source": [
        "import networkx as nx\n",
        "import matplotlib.pyplot as plt\n",
        "from cdlib import algorithms, viz\n",
        "\n",
        "G = nx.Graph()"
      ],
      "execution_count": null,
      "outputs": []
    },
    {
      "cell_type": "code",
      "metadata": {
        "id": "MGoLfQpOtwX9"
      },
      "source": [
        "# Create Nodes\n",
        "for i in range(len(temp)):\n",
        "  G.add_node(i)"
      ],
      "execution_count": null,
      "outputs": []
    },
    {
      "cell_type": "code",
      "metadata": {
        "id": "bLd4A32qx2uw"
      },
      "source": [
        "# Connect the Edges\n",
        "for i in range(len(temp)):\n",
        "  for j in range(i, len(temp)):\n",
        "    G.add_edge(i, j, weight=simil[i][j] )"
      ],
      "execution_count": null,
      "outputs": []
    },
    {
      "cell_type": "code",
      "metadata": {
        "colab": {
          "base_uri": "https://localhost:8080/"
        },
        "id": "yCWmg8OzXQQD",
        "outputId": "071d5d2c-1218-4ca3-8b4b-2118990f9eb5"
      },
      "source": [
        "G.number_of_nodes()\n",
        "G.number_of_edges()"
      ],
      "execution_count": null,
      "outputs": [
        {
          "output_type": "execute_result",
          "data": {
            "text/plain": [
              "1378"
            ]
          },
          "metadata": {
            "tags": []
          },
          "execution_count": 31
        }
      ]
    },
    {
      "cell_type": "code",
      "metadata": {
        "colab": {
          "base_uri": "https://localhost:8080/",
          "height": 319
        },
        "id": "MX9_z2Z6zBOQ",
        "outputId": "d4964f5a-16a1-4f64-9dc6-335bec04676e"
      },
      "source": [
        "nx.draw(G, with_labels = True)\n",
        "plt.show()"
      ],
      "execution_count": null,
      "outputs": [
        {
          "output_type": "display_data",
          "data": {
            "image/png": "[encoded data removed]",
            "text/plain": [
              "<Figure size 432x288 with 1 Axes>"
            ]
          },
          "metadata": {
            "tags": []
          }
        }
      ]
    },
    {
      "cell_type": "markdown",
      "metadata": {
        "id": "Ou6rRe8Mq7zj"
      },
      "source": [
        "## Community Detection"
      ]
    },
    {
      "cell_type": "code",
      "metadata": {
        "id": "FMMqIEthOYMB"
      },
      "source": [
        "#Leiden Community Detection\n",
        "coms = algorithms.louvain(G)"
      ],
      "execution_count": null,
      "outputs": []
    },
    {
      "cell_type": "code",
      "metadata": {
        "colab": {
          "base_uri": "https://localhost:8080/",
          "height": 483
        },
        "id": "3BLmIGFxcvib",
        "outputId": "65c05404-8595-49c8-c068-3210d42648f3"
      },
      "source": [
        "pos = nx.spring_layout(G)\n",
        "viz.plot_network_clusters(G, coms, pos)"
      ],
      "execution_count": null,
      "outputs": [
        {
          "output_type": "execute_result",
          "data": {
            "text/plain": [
              "<matplotlib.collections.PathCollection at 0x7faa85d059d0>"
            ]
          },
          "metadata": {
            "tags": []
          },
          "execution_count": 87
        },
        {
          "output_type": "display_data",
          "data": {
            "image/png": "[encoded data removed]",
            "text/plain": [
              "<Figure size 576x576 with 1 Axes>"
            ]
          },
          "metadata": {
            "tags": []
          }
        }
      ]
    },
    {
      "cell_type": "code",
      "metadata": {
        "colab": {
          "base_uri": "https://localhost:8080/"
        },
        "id": "0AcU7fQleWBI",
        "outputId": "7800161f-d235-41e5-b37b-e7a34ca81e81"
      },
      "source": [
        "coms.communities"
      ],
      "execution_count": null,
      "outputs": [
        {
          "output_type": "execute_result",
          "data": {
            "text/plain": [
              "[[13, 20, 23, 24, 30],\n",
              " [3, 15, 16, 17],\n",
              " [4, 21, 28, 41],\n",
              " [9, 10, 11, 14],\n",
              " [12, 31, 42, 51],\n",
              " [36, 37, 38, 39],\n",
              " [0, 1, 49],\n",
              " [32, 33, 34],\n",
              " [44, 45, 46],\n",
              " [5, 6],\n",
              " [7, 8],\n",
              " [18, 40],\n",
              " [19, 22],\n",
              " [26, 43],\n",
              " [35, 50],\n",
              " [47, 48],\n",
              " [2],\n",
              " [25],\n",
              " [27],\n",
              " [29]]"
            ]
          },
          "metadata": {
            "tags": []
          },
          "execution_count": 88
        }
      ]
    },
    {
      "cell_type": "markdown",
      "metadata": {
        "id": "SdOcAfEgr-OC"
      },
      "source": [
        "## Hierarchical Clustering"
      ]
    },
    {
      "cell_type": "code",
      "metadata": {
        "id": "FckFNqcGtavr"
      },
      "source": [
        "import scipy\n",
        "from scipy.cluster import hierarchy\n",
        "import matplotlib.pyplot as plt\n",
        "import scipy.spatial.distance as ssd\n",
        "from scipy.cluster.hierarchy import ward, dendrogram"
      ],
      "execution_count": null,
      "outputs": []
    },
    {
      "cell_type": "code",
      "metadata": {
        "id": "sSWTqHjhy886"
      },
      "source": [
        "transform_simil= 1 - simil"
      ],
      "execution_count": null,
      "outputs": []
    },
    {
      "cell_type": "code",
      "metadata": {
        "id": "VoDr1QoNzThK"
      },
      "source": [
        "transform_simil=transform_simil.tolist()"
      ],
      "execution_count": null,
      "outputs": []
    },
    {
      "cell_type": "code",
      "metadata": {
        "id": "gTF8wiiftdvg"
      },
      "source": [
        "distVec = ssd.squareform(transform_simil)\n",
        "linkage = hierarchy.linkage(1 - distVec, method='ward')"
      ],
      "execution_count": null,
      "outputs": []
    },
    {
      "cell_type": "code",
      "metadata": {
        "colab": {
          "base_uri": "https://localhost:8080/",
          "height": 507
        },
        "id": "BtDQppC33YFJ",
        "outputId": "1cd061db-2dfb-4fb1-ddfa-b18390e9074e"
      },
      "source": [
        " #define the linkage_matrix using ward clustering pre-computed distances\n",
        "\n",
        "fig, ax = plt.subplots(figsize=(20, 7)) # set size\n",
        "ax = dendrogram(linkage);\n",
        "\n",
        "plt.tick_params(\\\n",
        "    axis= 'x',          # changes apply to the x-axis\n",
        "    which='both',      # both major and minor ticks are affected\n",
        "    bottom='off',      # ticks along the bottom edge are off\n",
        "    top='off',         # ticks along the top edge are off\n",
        "    labelbottom='off')\n",
        "\n",
        "plt.tight_layout() #show plot with tight layout\n",
        "\n",
        "#uncomment below to save figure\n",
        "plt.savefig('ward_clusters.png', dpi=200) "
      ],
      "execution_count": null,
      "outputs": [
        {
          "output_type": "display_data",
          "data": {
            "image/png": "[encoded data removed]",
            "text/plain": [
              "<Figure size 1440x504 with 1 Axes>"
            ]
          },
          "metadata": {
            "tags": [],
            "needs_background": "light"
          }
        }
      ]
    },
    {
      "cell_type": "code",
      "metadata": {
        "id": "NUTZjE7vsIXY"
      },
      "source": [
        "from sklearn.cluster import AgglomerativeClustering\n",
        "\n",
        "cluster = AgglomerativeClustering(n_clusters=8, affinity='euclidean', linkage='ward')  #took n=5 from dendrogram curve \n",
        "Agg=cluster.fit_predict(simil)"
      ],
      "execution_count": null,
      "outputs": []
    },
    {
      "cell_type": "code",
      "metadata": {
        "colab": {
          "base_uri": "https://localhost:8080/"
        },
        "id": "dFJgs-CpsNpq",
        "outputId": "b7e8fad6-02a8-4b47-89bb-733e1e4f3286"
      },
      "source": [
        "cluster.labels_"
      ],
      "execution_count": null,
      "outputs": [
        {
          "output_type": "execute_result",
          "data": {
            "text/plain": [
              "array([7, 7, 0, 4, 0, 0, 0, 2, 2, 2, 2, 2, 3, 4, 4, 5, 5, 5, 4, 0, 0, 4,\n",
              "       0, 4, 4, 0, 0, 4, 0, 0, 4, 3, 1, 1, 1, 3, 6, 6, 6, 6, 0, 4, 3, 0,\n",
              "       1, 1, 1, 1, 1, 3, 4, 0])"
            ]
          },
          "metadata": {
            "tags": []
          },
          "execution_count": 73
        }
      ]
    },
    {
      "cell_type": "code",
      "metadata": {
        "colab": {
          "base_uri": "https://localhost:8080/",
          "height": 1000
        },
        "id": "oB86zotSsLn5",
        "outputId": "4257c449-fcad-4ba6-e4a7-b8b49125ad68"
      },
      "source": [
        "# Giving Labels/assigning a cluster to each point/text \n",
        "temp['AVG-W2V Clus Label'] = cluster.labels_\n",
        "temp"
      ],
      "execution_count": null,
      "outputs": [
        {
          "output_type": "execute_result",
          "data": {
            "text/html": [
              "<div>\n",
              "<style scoped>\n",
              "    .dataframe tbody tr th:only-of-type {\n",
              "        vertical-align: middle;\n",
              "    }\n",
              "\n",
              "    .dataframe tbody tr th {\n",
              "        vertical-align: top;\n",
              "    }\n",
              "\n",
              "    .dataframe thead th {\n",
              "        text-align: right;\n",
              "    }\n",
              "</style>\n",
              "<table border=\"1\" class=\"dataframe\">\n",
              "  <thead>\n",
              "    <tr style=\"text-align: right;\">\n",
              "      <th></th>\n",
              "      <th>Unnamed: 0</th>\n",
              "      <th>SourceID</th>\n",
              "      <th>Title</th>\n",
              "      <th>TextWhereRefMention</th>\n",
              "      <th>cleaned_text</th>\n",
              "      <th>AVG-W2V Clus Label</th>\n",
              "    </tr>\n",
              "  </thead>\n",
              "  <tbody>\n",
              "    <tr>\n",
              "      <th>0</th>\n",
              "      <td>20974</td>\n",
              "      <td>2156</td>\n",
              "      <td>UK Transport Policy Paper delivered to the Eco...</td>\n",
              "      <td>[It has been said often, but apparently not of...</td>\n",
              "      <td>It has been said often but apparently not ofte...</td>\n",
              "      <td>7</td>\n",
              "    </tr>\n",
              "    <tr>\n",
              "      <th>1</th>\n",
              "      <td>20975</td>\n",
              "      <td>2156</td>\n",
              "      <td>A New Deal for Transport?</td>\n",
              "      <td>[It has been said often, but apparently not of...</td>\n",
              "      <td>It has been said often but apparently not ofte...</td>\n",
              "      <td>7</td>\n",
              "    </tr>\n",
              "    <tr>\n",
              "      <th>2</th>\n",
              "      <td>20976</td>\n",
              "      <td>2156</td>\n",
              "      <td>The Eddington Transport Study, The case for ac...</td>\n",
              "      <td>In the UK context this has been illustrated re...</td>\n",
              "      <td>In the UK context this has been illustrated re...</td>\n",
              "      <td>0</td>\n",
              "    </tr>\n",
              "    <tr>\n",
              "      <th>3</th>\n",
              "      <td>20977</td>\n",
              "      <td>2156</td>\n",
              "      <td>A New Deal for Transport?</td>\n",
              "      <td>The current UK government has made many steps ...</td>\n",
              "      <td>The current UK government has made many steps ...</td>\n",
              "      <td>4</td>\n",
              "    </tr>\n",
              "    <tr>\n",
              "      <th>4</th>\n",
              "      <td>20978</td>\n",
              "      <td>2156</td>\n",
              "      <td>Evaluation of the implementation process of ur...</td>\n",
              "      <td>Associated with traffic congestion, are the re...</td>\n",
              "      <td>Associated with traffic congestion are the rel...</td>\n",
              "      <td>0</td>\n",
              "    </tr>\n",
              "    <tr>\n",
              "      <th>5</th>\n",
              "      <td>20979</td>\n",
              "      <td>2156</td>\n",
              "      <td>Unsustainable Transport, Transport, Developmen...</td>\n",
              "      <td>Some academics have reported, thoroughly the u...</td>\n",
              "      <td>Some academics have reported thoroughly the un...</td>\n",
              "      <td>0</td>\n",
              "    </tr>\n",
              "    <tr>\n",
              "      <th>6</th>\n",
              "      <td>20980</td>\n",
              "      <td>2156</td>\n",
              "      <td>Transport for a Sustainable Future â€“ The Cas...</td>\n",
              "      <td>Some academics have reported, thoroughly the u...</td>\n",
              "      <td>Some academics have reported thoroughly the un...</td>\n",
              "      <td>0</td>\n",
              "    </tr>\n",
              "    <tr>\n",
              "      <th>7</th>\n",
              "      <td>20981</td>\n",
              "      <td>2156</td>\n",
              "      <td>Integrated Transport Strategies</td>\n",
              "      <td>The topic of merging policy measures into poli...</td>\n",
              "      <td>The topic of merging policy measures into poli...</td>\n",
              "      <td>2</td>\n",
              "    </tr>\n",
              "    <tr>\n",
              "      <th>8</th>\n",
              "      <td>20982</td>\n",
              "      <td>2156</td>\n",
              "      <td>Implementation paths for marginal-cost-based p...</td>\n",
              "      <td>The topic of merging policy measures into poli...</td>\n",
              "      <td>The topic of merging policy measures into poli...</td>\n",
              "      <td>2</td>\n",
              "    </tr>\n",
              "    <tr>\n",
              "      <th>9</th>\n",
              "      <td>20983</td>\n",
              "      <td>2156</td>\n",
              "      <td>Department for Transport, Feasibility Study of...</td>\n",
              "      <td>Conclusions from many studies (, Ref{target=nu...</td>\n",
              "      <td>Conclusions from many studies have supported t...</td>\n",
              "      <td>2</td>\n",
              "    </tr>\n",
              "    <tr>\n",
              "      <th>10</th>\n",
              "      <td>20984</td>\n",
              "      <td>2156</td>\n",
              "      <td>From policy measures to policy packages: a spa...</td>\n",
              "      <td>Conclusions from many studies (, Ref{target=nu...</td>\n",
              "      <td>Conclusions from many studies have supported t...</td>\n",
              "      <td>2</td>\n",
              "    </tr>\n",
              "    <tr>\n",
              "      <th>11</th>\n",
              "      <td>20985</td>\n",
              "      <td>2156</td>\n",
              "      <td>Cleaner vehicle buses in Winchester</td>\n",
              "      <td>Conclusions from many studies (, Ref{target=nu...</td>\n",
              "      <td>Conclusions from many studies have supported t...</td>\n",
              "      <td>2</td>\n",
              "    </tr>\n",
              "    <tr>\n",
              "      <th>12</th>\n",
              "      <td>20986</td>\n",
              "      <td>2156</td>\n",
              "      <td>Integrated Transport Strategies</td>\n",
              "      <td>Whether it is termed as policy packages or int...</td>\n",
              "      <td>Whether it is termed as policy packages or int...</td>\n",
              "      <td>3</td>\n",
              "    </tr>\n",
              "    <tr>\n",
              "      <th>13</th>\n",
              "      <td>20987</td>\n",
              "      <td>2156</td>\n",
              "      <td>Department for Transport, The Future of Transp...</td>\n",
              "      <td>A recent action by the UK government was the c...</td>\n",
              "      <td>A recent action by the UK government was the c...</td>\n",
              "      <td>4</td>\n",
              "    </tr>\n",
              "    <tr>\n",
              "      <th>14</th>\n",
              "      <td>20988</td>\n",
              "      <td>2156</td>\n",
              "      <td>Integrated Futures and Transport Choices â€“ U...</td>\n",
              "      <td>This document \" influenced policy and research...</td>\n",
              "      <td>This document influenced policy and research a...</td>\n",
              "      <td>4</td>\n",
              "    </tr>\n",
              "    <tr>\n",
              "      <th>15</th>\n",
              "      <td>20989</td>\n",
              "      <td>2156</td>\n",
              "      <td>Policy, Politics and Sustainable Transport: Th...</td>\n",
              "      <td>But the problem is that the UK government back...</td>\n",
              "      <td>But the problem is that the UK government back...</td>\n",
              "      <td>5</td>\n",
              "    </tr>\n",
              "    <tr>\n",
              "      <th>16</th>\n",
              "      <td>20990</td>\n",
              "      <td>2156</td>\n",
              "      <td>Towards a Genuinely Sustainable Transport Agen...</td>\n",
              "      <td>But the problem is that the UK government back...</td>\n",
              "      <td>But the problem is that the UK government back...</td>\n",
              "      <td>5</td>\n",
              "    </tr>\n",
              "    <tr>\n",
              "      <th>17</th>\n",
              "      <td>20991</td>\n",
              "      <td>2156</td>\n",
              "      <td>Crisis?-Which Crisis? The Parliamentary Monito...</td>\n",
              "      <td>But the problem is that the UK government back...</td>\n",
              "      <td>But the problem is that the UK government back...</td>\n",
              "      <td>5</td>\n",
              "    </tr>\n",
              "    <tr>\n",
              "      <th>18</th>\n",
              "      <td>20992</td>\n",
              "      <td>2156</td>\n",
              "      <td>Transport Tax Reform and the Environment</td>\n",
              "      <td>All attempts to rebalance the cost of car use ...</td>\n",
              "      <td>All attempts to rebalance the cost of car use ...</td>\n",
              "      <td>4</td>\n",
              "    </tr>\n",
              "    <tr>\n",
              "      <th>19</th>\n",
              "      <td>20993</td>\n",
              "      <td>2156</td>\n",
              "      <td>Department for Transport, Feasibility Study of...</td>\n",
              "      <td>The Road Pricing Feasibility Study (, Ref{targ...</td>\n",
              "      <td>The Road Pricing Feasibility Study explained t...</td>\n",
              "      <td>0</td>\n",
              "    </tr>\n",
              "    <tr>\n",
              "      <th>20</th>\n",
              "      <td>20994</td>\n",
              "      <td>2156</td>\n",
              "      <td>Department for Transport, The Transport Innova...</td>\n",
              "      <td>Support for these local schemes could come fro...</td>\n",
              "      <td>Support for these local schemes could come fro...</td>\n",
              "      <td>0</td>\n",
              "    </tr>\n",
              "    <tr>\n",
              "      <th>21</th>\n",
              "      <td>20995</td>\n",
              "      <td>2156</td>\n",
              "      <td>NaN</td>\n",
              "      <td>[Road pricing was recognised some time ago (se...</td>\n",
              "      <td>Road pricing was recognised some time ago see ...</td>\n",
              "      <td>4</td>\n",
              "    </tr>\n",
              "    <tr>\n",
              "      <th>22</th>\n",
              "      <td>20996</td>\n",
              "      <td>2156</td>\n",
              "      <td>Road User Charging: Issues and Policies</td>\n",
              "      <td>For a number of reasons, most notably the lack...</td>\n",
              "      <td>For a number of reasons most notably the lack ...</td>\n",
              "      <td>0</td>\n",
              "    </tr>\n",
              "    <tr>\n",
              "      <th>23</th>\n",
              "      <td>20997</td>\n",
              "      <td>2156</td>\n",
              "      <td>The Stationery Office Limited: The Integrated ...</td>\n",
              "      <td>In Scotland, the Integrated Transport Bill (TS...</td>\n",
              "      <td>In Scotland the Integrated Transport Bill TSO ...</td>\n",
              "      <td>4</td>\n",
              "    </tr>\n",
              "    <tr>\n",
              "      <th>24</th>\n",
              "      <td>20998</td>\n",
              "      <td>2156</td>\n",
              "      <td>The Stationery Office Limited: Transport (Scot...</td>\n",
              "      <td>The Scottish Transport Act was approved in 200...</td>\n",
              "      <td>The Scottish Transport Act was approved in 200...</td>\n",
              "      <td>4</td>\n",
              "    </tr>\n",
              "    <tr>\n",
              "      <th>25</th>\n",
              "      <td>20999</td>\n",
              "      <td>2156</td>\n",
              "      <td>Norway's urban toll rings: evolving towards co...</td>\n",
              "      <td>Seven years later, in 1998, it advanced to a p...</td>\n",
              "      <td>Seven years later in 1998 it advanced to a pse...</td>\n",
              "      <td>0</td>\n",
              "    </tr>\n",
              "    <tr>\n",
              "      <th>26</th>\n",
              "      <td>21000</td>\n",
              "      <td>2156</td>\n",
              "      <td>British cities shun London's wasteful car tax</td>\n",
              "      <td>A year after, criticisms regarding high proces...</td>\n",
              "      <td>A year after criticisms regarding high process...</td>\n",
              "      <td>0</td>\n",
              "    </tr>\n",
              "    <tr>\n",
              "      <th>27</th>\n",
              "      <td>21001</td>\n",
              "      <td>2156</td>\n",
              "      <td>Norway's urban toll rings: evolving towards co...</td>\n",
              "      <td>Successful examples of cordon charging (toll r...</td>\n",
              "      <td>Successful examples of cordon charging toll ri...</td>\n",
              "      <td>4</td>\n",
              "    </tr>\n",
              "    <tr>\n",
              "      <th>28</th>\n",
              "      <td>21002</td>\n",
              "      <td>2156</td>\n",
              "      <td>City of Edinburgh Council: Statement of Reason...</td>\n",
              "      <td>Growth in car ownership and use has caused tra...</td>\n",
              "      <td>Growth in car ownership and use has caused tra...</td>\n",
              "      <td>0</td>\n",
              "    </tr>\n",
              "    <tr>\n",
              "      <th>29</th>\n",
              "      <td>21003</td>\n",
              "      <td>2156</td>\n",
              "      <td>The rise and fall of Edinburgh's congestion ch...</td>\n",
              "      <td>A range of issues was responsible for the way ...</td>\n",
              "      <td>A range of issues was responsible for the way ...</td>\n",
              "      <td>0</td>\n",
              "    </tr>\n",
              "    <tr>\n",
              "      <th>30</th>\n",
              "      <td>21004</td>\n",
              "      <td>2156</td>\n",
              "      <td>Department for Transport, Feasibility Study of...</td>\n",
              "      <td>[The 2004 transport White Paper (, Ref{target=...</td>\n",
              "      <td>The 2004 transport White Paper announced the i...</td>\n",
              "      <td>4</td>\n",
              "    </tr>\n",
              "    <tr>\n",
              "      <th>31</th>\n",
              "      <td>21005</td>\n",
              "      <td>2156</td>\n",
              "      <td>Analysing the Implementation Process of Urban ...</td>\n",
              "      <td>The factors cannot be considered complete as e...</td>\n",
              "      <td>The factors cannot be considered complete as e...</td>\n",
              "      <td>3</td>\n",
              "    </tr>\n",
              "    <tr>\n",
              "      <th>32</th>\n",
              "      <td>21006</td>\n",
              "      <td>2156</td>\n",
              "      <td>An evaluation of national road user charging i...</td>\n",
              "      <td>Other studies have identified similar issues c...</td>\n",
              "      <td>Other studies have identified similar issues c...</td>\n",
              "      <td>1</td>\n",
              "    </tr>\n",
              "    <tr>\n",
              "      <th>33</th>\n",
              "      <td>21007</td>\n",
              "      <td>2156</td>\n",
              "      <td>Micro-foundations of congestion and pricing: A...</td>\n",
              "      <td>Other studies have identified similar issues c...</td>\n",
              "      <td>Other studies have identified similar issues c...</td>\n",
              "      <td>1</td>\n",
              "    </tr>\n",
              "    <tr>\n",
              "      <th>34</th>\n",
              "      <td>21008</td>\n",
              "      <td>2156</td>\n",
              "      <td>Implementing Road User Charging: The Lessons L...</td>\n",
              "      <td>Other studies have identified similar issues c...</td>\n",
              "      <td>Other studies have identified similar issues c...</td>\n",
              "      <td>1</td>\n",
              "    </tr>\n",
              "    <tr>\n",
              "      <th>35</th>\n",
              "      <td>21009</td>\n",
              "      <td>2156</td>\n",
              "      <td>Planning for Sustainable Environmental Futures</td>\n",
              "      <td>The active involvement of such groups in polic...</td>\n",
              "      <td>The active involvement of such groups in polic...</td>\n",
              "      <td>3</td>\n",
              "    </tr>\n",
              "    <tr>\n",
              "      <th>36</th>\n",
              "      <td>21010</td>\n",
              "      <td>2156</td>\n",
              "      <td>Experimenting for Sustainable Transport: the A...</td>\n",
              "      <td>[In this paper, a categorisation of such 'stak...</td>\n",
              "      <td>In this paper a categorisation of such stakeho...</td>\n",
              "      <td>6</td>\n",
              "    </tr>\n",
              "    <tr>\n",
              "      <th>37</th>\n",
              "      <td>21011</td>\n",
              "      <td>2156</td>\n",
              "      <td>Understanding the Dynamics of Technological Tr...</td>\n",
              "      <td>[In this paper, a categorisation of such 'stak...</td>\n",
              "      <td>In this paper a categorisation of such stakeho...</td>\n",
              "      <td>6</td>\n",
              "    </tr>\n",
              "    <tr>\n",
              "      <th>38</th>\n",
              "      <td>21012</td>\n",
              "      <td>2156</td>\n",
              "      <td>Successful Industrial Innovation: Critical Fac...</td>\n",
              "      <td>[In this paper, a categorisation of such 'stak...</td>\n",
              "      <td>In this paper a categorisation of such stakeho...</td>\n",
              "      <td>6</td>\n",
              "    </tr>\n",
              "    <tr>\n",
              "      <th>39</th>\n",
              "      <td>21013</td>\n",
              "      <td>2156</td>\n",
              "      <td>The Past and Future of Constructive Technology...</td>\n",
              "      <td>[In this paper, a categorisation of such 'stak...</td>\n",
              "      <td>In this paper a categorisation of such stakeho...</td>\n",
              "      <td>6</td>\n",
              "    </tr>\n",
              "    <tr>\n",
              "      <th>40</th>\n",
              "      <td>21014</td>\n",
              "      <td>2156</td>\n",
              "      <td>The rise and fall of Edinburgh's congestion ch...</td>\n",
              "      <td>By contrast, in Edinburgh \" no independent cha...</td>\n",
              "      <td>By contrast in Edinburgh no independent champi...</td>\n",
              "      <td>0</td>\n",
              "    </tr>\n",
              "    <tr>\n",
              "      <th>41</th>\n",
              "      <td>21015</td>\n",
              "      <td>2156</td>\n",
              "      <td>Analysing the Implementation Process of Urban ...</td>\n",
              "      <td>Previous work (, Ref{target=#b25, content=Iero...</td>\n",
              "      <td>Previous work has categorised protection measu...</td>\n",
              "      <td>4</td>\n",
              "    </tr>\n",
              "    <tr>\n",
              "      <th>42</th>\n",
              "      <td>21016</td>\n",
              "      <td>2156</td>\n",
              "      <td>Technology assessment and reflexive social lea...</td>\n",
              "      <td>This form of learning will involve a co-evolut...</td>\n",
              "      <td>This form of learning will involve a coevoluti...</td>\n",
              "      <td>3</td>\n",
              "    </tr>\n",
              "    <tr>\n",
              "      <th>43</th>\n",
              "      <td>21017</td>\n",
              "      <td>2156</td>\n",
              "      <td>An Optimal System Design for GNSS-based Road U...</td>\n",
              "      <td>Even London, a case praised for its \" co, urag...</td>\n",
              "      <td>Even London a case praised for its co urage an...</td>\n",
              "      <td>0</td>\n",
              "    </tr>\n",
              "    <tr>\n",
              "      <th>44</th>\n",
              "      <td>21018</td>\n",
              "      <td>2156</td>\n",
              "      <td>Urban Road Pricing: Public Acceptability and B...</td>\n",
              "      <td>[A number of studies took place in order to es...</td>\n",
              "      <td>A number of studies took place in order to est...</td>\n",
              "      <td>1</td>\n",
              "    </tr>\n",
              "    <tr>\n",
              "      <th>45</th>\n",
              "      <td>21019</td>\n",
              "      <td>2156</td>\n",
              "      <td>Impacts of Road User Charging and Work Place P...</td>\n",
              "      <td>[A number of studies took place in order to es...</td>\n",
              "      <td>A number of studies took place in order to est...</td>\n",
              "      <td>1</td>\n",
              "    </tr>\n",
              "    <tr>\n",
              "      <th>46</th>\n",
              "      <td>21020</td>\n",
              "      <td>2156</td>\n",
              "      <td>The impact of transport on social exclusion pr...</td>\n",
              "      <td>[A number of studies took place in order to es...</td>\n",
              "      <td>A number of studies took place in order to est...</td>\n",
              "      <td>1</td>\n",
              "    </tr>\n",
              "    <tr>\n",
              "      <th>47</th>\n",
              "      <td>21021</td>\n",
              "      <td>2156</td>\n",
              "      <td>Urban Road Pricing: Public Acceptability and B...</td>\n",
              "      <td>Other studies showed the acceptability of road...</td>\n",
              "      <td>Other studies showed the acceptability of road...</td>\n",
              "      <td>1</td>\n",
              "    </tr>\n",
              "    <tr>\n",
              "      <th>48</th>\n",
              "      <td>21022</td>\n",
              "      <td>2156</td>\n",
              "      <td>Acceptability of Pricing Reform, Paper prepare...</td>\n",
              "      <td>Other studies showed the acceptability of road...</td>\n",
              "      <td>Other studies showed the acceptability of road...</td>\n",
              "      <td>1</td>\n",
              "    </tr>\n",
              "    <tr>\n",
              "      <th>49</th>\n",
              "      <td>21023</td>\n",
              "      <td>2156</td>\n",
              "      <td>Managing Equity â€“ The Case of Road Pricing</td>\n",
              "      <td>There are always a number of technical difficu...</td>\n",
              "      <td>There are always a number of technical difficu...</td>\n",
              "      <td>3</td>\n",
              "    </tr>\n",
              "    <tr>\n",
              "      <th>50</th>\n",
              "      <td>21024</td>\n",
              "      <td>2156</td>\n",
              "      <td>Transport Policy in Britain</td>\n",
              "      <td>However, despite the efforts of local authorit...</td>\n",
              "      <td>However despite the efforts of local authoriti...</td>\n",
              "      <td>4</td>\n",
              "    </tr>\n",
              "    <tr>\n",
              "      <th>51</th>\n",
              "      <td>21025</td>\n",
              "      <td>2156</td>\n",
              "      <td>Department for Transport, The Transport Innova...</td>\n",
              "      <td>This is reflected in the government's approach...</td>\n",
              "      <td>This is reflected in the governments approach ...</td>\n",
              "      <td>0</td>\n",
              "    </tr>\n",
              "  </tbody>\n",
              "</table>\n",
              "</div>"
            ],
            "text/plain": [
              "    Unnamed: 0  ...  AVG-W2V Clus Label\n",
              "0        20974  ...                   7\n",
              "1        20975  ...                   7\n",
              "2        20976  ...                   0\n",
              "3        20977  ...                   4\n",
              "4        20978  ...                   0\n",
              "5        20979  ...                   0\n",
              "6        20980  ...                   0\n",
              "7        20981  ...                   2\n",
              "8        20982  ...                   2\n",
              "9        20983  ...                   2\n",
              "10       20984  ...                   2\n",
              "11       20985  ...                   2\n",
              "12       20986  ...                   3\n",
              "13       20987  ...                   4\n",
              "14       20988  ...                   4\n",
              "15       20989  ...                   5\n",
              "16       20990  ...                   5\n",
              "17       20991  ...                   5\n",
              "18       20992  ...                   4\n",
              "19       20993  ...                   0\n",
              "20       20994  ...                   0\n",
              "21       20995  ...                   4\n",
              "22       20996  ...                   0\n",
              "23       20997  ...                   4\n",
              "24       20998  ...                   4\n",
              "25       20999  ...                   0\n",
              "26       21000  ...                   0\n",
              "27       21001  ...                   4\n",
              "28       21002  ...                   0\n",
              "29       21003  ...                   0\n",
              "30       21004  ...                   4\n",
              "31       21005  ...                   3\n",
              "32       21006  ...                   1\n",
              "33       21007  ...                   1\n",
              "34       21008  ...                   1\n",
              "35       21009  ...                   3\n",
              "36       21010  ...                   6\n",
              "37       21011  ...                   6\n",
              "38       21012  ...                   6\n",
              "39       21013  ...                   6\n",
              "40       21014  ...                   0\n",
              "41       21015  ...                   4\n",
              "42       21016  ...                   3\n",
              "43       21017  ...                   0\n",
              "44       21018  ...                   1\n",
              "45       21019  ...                   1\n",
              "46       21020  ...                   1\n",
              "47       21021  ...                   1\n",
              "48       21022  ...                   1\n",
              "49       21023  ...                   3\n",
              "50       21024  ...                   4\n",
              "51       21025  ...                   0\n",
              "\n",
              "[52 rows x 6 columns]"
            ]
          },
          "metadata": {
            "tags": []
          },
          "execution_count": 75
        }
      ]
    },
    {
      "cell_type": "markdown",
      "metadata": {
        "id": "QypNOQuRxScM"
      },
      "source": [
        "## Summary Selection"
      ]
    },
    {
      "cell_type": "code",
      "metadata": {
        "id": "S2JyW8GKxXt9"
      },
      "source": [
        "x=coms.communities"
      ],
      "execution_count": null,
      "outputs": []
    },
    {
      "cell_type": "code",
      "metadata": {
        "id": "QTKKn8Lr5TC3"
      },
      "source": [
        "liden_model_summary=[]\n",
        "size=20\n",
        "inc=0\n",
        "for i in range(len(x)):\n",
        "  for j in range(len(x[i])):\n",
        "    if(inc <= size):  \n",
        "      if temp['cleaned_text'][x[i][j]] not in liden_model_summary: \n",
        "        liden_model_summary.append(temp['cleaned_text'][x[i][j]])\n",
        "        inc=inc+1\n",
        "\n",
        "  "
      ],
      "execution_count": null,
      "outputs": []
    },
    {
      "cell_type": "code",
      "metadata": {
        "id": "R4vIYQg7CvWW"
      },
      "source": [
        "liden_model_summary= '. '.join(liden_model_summary)"
      ],
      "execution_count": null,
      "outputs": []
    },
    {
      "cell_type": "code",
      "metadata": {
        "colab": {
          "base_uri": "https://localhost:8080/",
          "height": 372
        },
        "id": "Zk5xqwkJC_lw",
        "outputId": "beab5016-c65a-4078-d1ee-1a90ef395534"
      },
      "source": [
        "liden_model_summary"
      ],
      "execution_count": null,
      "outputs": [
        {
          "output_type": "execute_result",
          "data": {
            "application/vnd.google.colaboratory.intrinsic+json": {
              "type": "string"
            },
            "text/plain": [
              "'A recent action by the UK government was the creation of the Transport Innovation Fund to support experiments with a package of policies including road pricing. Support for these local schemes could come from the Transport Innovation Fund TIF which was outlined in the TIF report. In Scotland the Integrated Transport Bill TSO included proposals for congestion charging. The Scottish Transport Act was approved in 2001 TSO. The 2004 transport White Paper announced the intention of creating a Transport Innovation Fund as support to local authorities interested in using demand management to reduce traffic congestion. The current UK government has made many steps in rejecting the myth of the great car economy but the performance of their policies has been ambiguous. But the problem is that the UK government backed out too easily from its original promises as many academics agree and that it has fallen well short of the integrated transport aspirations expressed in the 1998 White Paper even by the time the 10 year Plan was issued in 2000. Associated with traffic congestion are the related problems of air pollution emissions of CO 2 and other greenhouse gases together with more subtle lifestyle effects such as contributing to less healthy lifestyles and transport poverty. Road pricing was recognised some time ago see for example Ison 2004 as a way for taxing the external costs of transportation â congestion accident risks noise and emissions of pollutants. Growth in car ownership and use has caused traffic levels in certain road s to increase by up to 60 in the last 20 years which in turn has caused congestion parking problems and air pollution. Previous work has categorised protection measures into two forms a Enhancement Protection which are actions that enhance the effect of road pricing like the provision of extra public transport capacity to facilitate modal shift from car subsidies to reduce public transport ticket prices reallocating road space for pedestrians and bicycles etc b Compensation Protection where there are full or part exemptions from charges for certain groups of users for social or transport policy reasons. Conclusions from many studies have supported the idea of implementing policy packages. This document influenced policy and research and geared them towards the idea of an integrated transport system. Whether it is termed as policy packages or integrated strategies this study does not make a distinction strategically exemplified integration in five different ways. The factors cannot be considered complete as each scheme can bring in its own complexity but they represent areas of concern identified in previous research in three European countries. This form of learning will involve a coevolutionary learning that will draw in the partners and actors involved in the scheme but also third parties like governments that can help in the institutional and societal embedding. This is reflected in the governments approach that no single policy will meet all of our future transport needs which is why our strategy is based around a broad package of measures. In this paper a categorisation of such stakeholders 2 has been adopted developed in earlier work by the author and based on innovation management studies. It has been said often but apparently not often enough that in transport things cannot go on as they have before. There are always a number of technical difficulties but however complex such issues may be they rarely compare with the social barriers linked with such a process. Other studies have identified similar issues concerning the implementation of road pricing based on scenarios and game theory or implementation steps'"
            ]
          },
          "metadata": {
            "tags": []
          },
          "execution_count": 183
        }
      ]
    },
    {
      "cell_type": "markdown",
      "metadata": {
        "id": "djdkw5Z7K_aV"
      },
      "source": [
        "## Hierarchical Clustering"
      ]
    },
    {
      "cell_type": "code",
      "metadata": {
        "id": "Xjo37cEvLyH2"
      },
      "source": [
        "from collections import Counter\n",
        "x = Counter(cluster.labels_.tolist())"
      ],
      "execution_count": null,
      "outputs": []
    },
    {
      "cell_type": "code",
      "metadata": {
        "id": "i5zSyDI_N4--"
      },
      "source": [
        "x = sorted(x.items(), key=lambda x: x[1], reverse=True)"
      ],
      "execution_count": null,
      "outputs": []
    },
    {
      "cell_type": "code",
      "metadata": {
        "id": "7Evlgsv_MB8v"
      },
      "source": [
        "cluster_model_summ=[]\n",
        "inc=0\n",
        "for i, j in x:\n",
        "  for k in range(len(temp)):\n",
        "    if(i == temp['AVG-W2V Clus Label'][k]):\n",
        "       if(inc <= size):  \n",
        "        if temp['cleaned_text'][k] not in cluster_model_summ: \n",
        "          cluster_model_summ.append(temp['cleaned_text'][k])\n",
        "          inc=inc+1\n",
        "      \n"
      ],
      "execution_count": null,
      "outputs": []
    },
    {
      "cell_type": "code",
      "metadata": {
        "id": "pAMp_2FXRCjm"
      },
      "source": [
        "cluster_model_summ= '. '.join(cluster_model_summ)"
      ],
      "execution_count": null,
      "outputs": []
    },
    {
      "cell_type": "code",
      "metadata": {
        "colab": {
          "base_uri": "https://localhost:8080/",
          "height": 305
        },
        "id": "4KHd9JfhRjat",
        "outputId": "f3507239-2c4d-45d7-efbf-6d1cb3d070f5"
      },
      "source": [
        "cluster_model_summ"
      ],
      "execution_count": null,
      "outputs": [
        {
          "output_type": "execute_result",
          "data": {
            "application/vnd.google.colaboratory.intrinsic+json": {
              "type": "string"
            },
            "text/plain": [
              "'In the UK context this has been illustrated recently in the Eddington report. Associated with traffic congestion are the related problems of air pollution emissions of CO 2 and other greenhouse gases together with more subtle lifestyle effects such as contributing to less healthy lifestyles and transport poverty. Some academics have reported thoroughly the unsustainability of current transport practices. The Road Pricing Feasibility Study explained the reason for the time scale of the national road pricing scheme as being the need to develop the appropriate technology which was not expected to be available until at least 2014. Support for these local schemes could come from the Transport Innovation Fund TIF which was outlined in the TIF report. For a number of reasons most notably the lack of political support and not least because of the proposed congestion technology the Cambridge scheme failed to progress beyond the field trial. Seven years later in 1998 it advanced to a pseudoareabased charging by dividing the initial area into several zones and introducing a charge for trips within zones. A year after criticisms regarding high processing costs ambiguity over the use of the improvements budget and increasing congestion were raised. Growth in car ownership and use has caused traffic levels in certain road s to increase by up to 60 in the last 20 years which in turn has caused congestion parking problems and air pollution. A range of issues was responsible for the way Edinburghs residents voted in the referendum but most importantly peoples perceptions on issues of fairness and taxation. By contrast in Edinburgh no independent champion of the scheme political or not political emerged to build support. Even London a case praised for its co urage and rapid execution used incremental processes. This is reflected in the governments approach that no single policy will meet all of our future transport needs which is why our strategy is based around a broad package of measures. The current UK government has made many steps in rejecting the myth of the great car economy but the performance of their policies has been ambiguous. A recent action by the UK government was the creation of the Transport Innovation Fund to support experiments with a package of policies including road pricing. This document influenced policy and research and geared them towards the idea of an integrated transport system. All attempts to rebalance the cost of car use and public transport a policy of successive Conservative and Labour governments for ten years ceased from that point on. Road pricing was recognised some time ago see for example Ison 2004 as a way for taxing the external costs of transportation â congestion accident risks noise and emissions of pollutants. In Scotland the Integrated Transport Bill TSO included proposals for congestion charging. The Scottish Transport Act was approved in 2001 TSO. Successful examples of cordon charging toll rings are found mainly in Norway where the policy has developed into a niche after most major cities adopted the measure'"
            ]
          },
          "metadata": {
            "tags": []
          },
          "execution_count": 189
        }
      ]
    },
    {
      "cell_type": "markdown",
      "metadata": {
        "id": "rRk8nUXTxkw9"
      },
      "source": [
        "## Evaluation of Model"
      ]
    },
    {
      "cell_type": "markdown",
      "metadata": {
        "id": "sTdAZyed9QKT"
      },
      "source": [
        "### Extracting the Abstract"
      ]
    },
    {
      "cell_type": "code",
      "metadata": {
        "id": "plSZ15tn85O4"
      },
      "source": [
        "import urllib.request\n",
        "import urllib.parse\n",
        "import json\n",
        "import pprint"
      ],
      "execution_count": null,
      "outputs": []
    },
    {
      "cell_type": "code",
      "metadata": {
        "id": "btW6yR5H8_hk"
      },
      "source": [
        "def get_title(id):\n",
        "  url=\"https://core.ac.uk:443/api-v2/articles/get/\"+str(id)+\"?metadata=true&fulltext=false&citations=false&similar=false&duplicate=false&urls=false&faithfulMetadata=false&apiKey=TlQSpxe0br7cqOC8DhuZysm5zYV1kfwR\"\n",
        "  temp = urllib.request.urlopen(url).read()\n",
        "  result = json.loads(temp.decode('utf-8'))\n",
        "  if(result['status']=='OK'):\n",
        "    return result['data']['title'], result['data']['description']\n",
        "  else:\n",
        "    print(\"Oops\")"
      ],
      "execution_count": null,
      "outputs": []
    },
    {
      "cell_type": "code",
      "metadata": {
        "id": "hIKDCrV59Bt3"
      },
      "source": [
        "id=temp['SourceID'][0]"
      ],
      "execution_count": null,
      "outputs": []
    },
    {
      "cell_type": "code",
      "metadata": {
        "id": "69dy39h19Djq"
      },
      "source": [
        "title, abst = get_title(id)"
      ],
      "execution_count": null,
      "outputs": []
    },
    {
      "cell_type": "code",
      "metadata": {
        "colab": {
          "base_uri": "https://localhost:8080/",
          "height": 187
        },
        "id": "kbO94GfZBzXl",
        "outputId": "b1416148-603f-4e21-90df-6797d209366b"
      },
      "source": [
        "abst"
      ],
      "execution_count": null,
      "outputs": [
        {
          "output_type": "execute_result",
          "data": {
            "application/vnd.google.colaboratory.intrinsic+json": {
              "type": "string"
            },
            "text/plain": [
              "\"This paper focuses on urban road pricing as a demand management policy that is often regarded as radical and generally unacceptable. Road pricing often gets delayed or abandoned due to low acceptability. This may be due to the fact that complex interactions and drivers of change affect road transport management and require cooperation within implementation networks. The implementation network is a group of people (referred to as partners and actors) who co-ordinate the introduction of policy tools. The drivers of change include any internal or external influences that have an effect on the time, place, or ‘shape’ of the policy measures being introduced. Demand management measures that focus on 'sustainable transport' usually address a limited set of objectives and are often implemented alone i.e. are not necessarily combined with other policy measures. When combined with other measures, it is not always clear whether the multiple interactions between policy tools and implementation networks have been sufficiently considered. Examples of ongoing implementation of policy package in the UK are the support of road pricing initiatives combined with public transport improvements by the Transport Innovation Fund. The objectives of the paper are twofold. First, we present a review of the UK urban road pricing situation. Second, we contrast the emerging issues against six key implementation factors. The analysis of three existing UK road pricing examples - London, Edinburgh and Durham – shows the importance of combining policy tools. Furthermore, through the above examples and theoretical arguments, we emphasise the additional need of creating and maintaining strong networks when implementing policy packages\""
            ]
          },
          "metadata": {
            "tags": []
          },
          "execution_count": 122
        }
      ]
    },
    {
      "cell_type": "markdown",
      "metadata": {
        "id": "3maU9b0T9Kod"
      },
      "source": [
        "### Evaluation"
      ]
    },
    {
      "cell_type": "code",
      "metadata": {
        "id": "TkNG6qYG9Joj"
      },
      "source": [
        "pip install rouge"
      ],
      "execution_count": null,
      "outputs": []
    },
    {
      "cell_type": "code",
      "metadata": {
        "id": "A7yFwz468z75"
      },
      "source": [
        "from rouge import Rouge"
      ],
      "execution_count": null,
      "outputs": []
    },
    {
      "cell_type": "code",
      "metadata": {
        "id": "g3m7s8sQCVkx"
      },
      "source": [
        "rouge = Rouge()"
      ],
      "execution_count": null,
      "outputs": []
    },
    {
      "cell_type": "code",
      "metadata": {
        "colab": {
          "base_uri": "https://localhost:8080/"
        },
        "id": "T-KpXRHFCYoE",
        "outputId": "e06fed47-80d1-423c-f36b-0259806a69d7"
      },
      "source": [
        "rouge.get_scores(liden_model_summary, abst)\n"
      ],
      "execution_count": null,
      "outputs": [
        {
          "output_type": "execute_result",
          "data": {
            "text/plain": [
              "[{'rouge-1': {'f': 0.31294117223338414,\n",
              "   'p': 0.22504230118443316,\n",
              "   'r': 0.5135135135135135},\n",
              "  'rouge-2': {'f': 0.06132075048337961,\n",
              "   'p': 0.04406779661016949,\n",
              "   'r': 0.10077519379844961},\n",
              "  'rouge-l': {'f': 0.204166662323698,\n",
              "   'p': 0.14984709480122324,\n",
              "   'r': 0.3202614379084967}}]"
            ]
          },
          "metadata": {
            "tags": []
          },
          "execution_count": 190
        }
      ]
    },
    {
      "cell_type": "code",
      "metadata": {
        "colab": {
          "base_uri": "https://localhost:8080/"
        },
        "id": "lIjdWYxmRpX3",
        "outputId": "38ba066b-f52a-4fd6-a1e1-d0b1375448cc"
      },
      "source": [
        "rouge.get_scores(cluster_model_summ, abst)\n"
      ],
      "execution_count": null,
      "outputs": [
        {
          "output_type": "execute_result",
          "data": {
            "text/plain": [
              "[{'rouge-1': {'f': 0.2823218952373975,\n",
              "   'p': 0.21442885771543085,\n",
              "   'r': 0.41312741312741313},\n",
              "  'rouge-2': {'f': 0.04497354047745069,\n",
              "   'p': 0.03413654618473896,\n",
              "   'r': 0.06589147286821706},\n",
              "  'rouge-l': {'f': 0.17488788786935203,\n",
              "   'p': 0.13310580204778158,\n",
              "   'r': 0.2549019607843137}}]"
            ]
          },
          "metadata": {
            "tags": []
          },
          "execution_count": 191
        }
      ]
    }
  ]
}