{
  "nbformat": 4,
  "nbformat_minor": 0,
  "metadata": {
    "kernelspec": {
      "display_name": "Python 3",
      "language": "python",
      "name": "python3"
    },
    "language_info": {
      "codemirror_mode": {
        "name": "ipython",
        "version": 3
      },
      "file_extension": ".py",
      "mimetype": "text/x-python",
      "name": "python",
      "nbconvert_exporter": "python",
      "pygments_lexer": "ipython3",
      "version": "3.7.6"
    },
    "colab": {
      "name": "Korlakunta_In_class_exercise_07.ipynb",
      "provenance": [],
      "collapsed_sections": [],
      "include_colab_link": true
    }
  },
  "cells": [
    {
      "cell_type": "markdown",
      "metadata": {
        "id": "view-in-github",
        "colab_type": "text"
      },
      "source": [
        "<a href=\"https://colab.research.google.com/github/Rameshkumar789/Computational-Menthods-INFO-5731/blob/main/Korlakunta_In_class_exercise_07.ipynb\" target=\"_parent\"><img src=\"https://colab.research.google.com/assets/colab-badge.svg\" alt=\"Open In Colab\"/></a>"
      ]
    },
    {
      "cell_type": "markdown",
      "metadata": {
        "id": "PwKdQmFPKBWP"
      },
      "source": [
        "# **The seventh in-class-exercise (20 points in total, 3/16/2021)**"
      ]
    },
    {
      "cell_type": "markdown",
      "metadata": {
        "id": "t4aK4UD9KBWQ"
      },
      "source": [
        "Question description: In the last in-class-exercise (exercise-06), you collected the titles of 100 articles about data science, natural language processing, and machine learning. The 100 article titles will be used as the text corpus of this exercise. Perform the following tasks:"
      ]
    },
    {
      "cell_type": "markdown",
      "metadata": {
        "id": "bjSOS8rlKBWR"
      },
      "source": [
        "## (1) (8 points) Generate K topics by using LDA, the number of topics K should be decided by the coherence score, then summarize what are the topics. You may refer the code here: \n",
        "\n",
        "https://www.machinelearningplus.com/nlp/topic-modeling-gensim-python/"
      ]
    },
    {
      "cell_type": "code",
      "metadata": {
        "id": "ay3jPwhAKBWT"
      },
      "source": [
        "import nltk\n",
        "import re\n",
        "import numpy as np\n",
        "import pandas as pd\n",
        "from pprint import pprint\n",
        "import gensim\n",
        "import gensim.corpora as corpora\n",
        "from gensim.utils import simple_preprocess\n",
        "from gensim.models import CoherenceModel\n",
        "import spacy\n",
        "import pyLDAvis\n",
        "import pyLDAvis.gensim\n",
        "import matplotlib.pyplot as plt\n",
        "%matplotlib inline\n",
        "import logging\n",
        "logging.basicConfig(format='%(asctime)s : %(levelname)s : %(message)s', level=logging.ERROR)\n",
        "import warnings\n",
        "warnings.filterwarnings(\"ignore\",category=DeprecationWarning)\n",
        "from gensim.models import LdaModel\n"
      ],
      "execution_count": 24,
      "outputs": []
    },
    {
      "cell_type": "code",
      "metadata": {
        "id": "5FCU4G2VKBWT"
      },
      "source": [
        "from nltk.corpus import stopwords\n",
        "nltk.download('stopwords')\n",
        "stop_words = stopwords.words('english')\n",
        "stop_words.extend(['from', 'subject', 're', 'edu', 'use'])"
      ],
      "execution_count": null,
      "outputs": []
    },
    {
      "cell_type": "code",
      "metadata": {
        "id": "A3ePTXfRKjLN"
      },
      "source": [
        "import pandas as pd\n",
        "from google.colab import files"
      ],
      "execution_count": 3,
      "outputs": []
    },
    {
      "cell_type": "code",
      "metadata": {
        "colab": {
          "resources": {
            "http://localhost:8080/nbextensions/google.colab/files.js": {
              "data": "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",
              "ok": true,
              "headers": [
                [
                  "content-type",
                  "application/javascript"
                ]
              ],
              "status": 200,
              "status_text": ""
            }
          },
          "base_uri": "https://localhost:8080/",
          "height": 73
        },
        "id": "Cdn6wxNFKl-3",
        "outputId": "bb0d9e44-cb80-4f58-f617-678c47de8928"
      },
      "source": [
        "uploaded = files.upload()"
      ],
      "execution_count": 25,
      "outputs": [
        {
          "output_type": "display_data",
          "data": {
            "text/html": [
              "\n",
              "     <input type=\"file\" id=\"files-6684931e-bb74-430c-b649-a95b13e77051\" name=\"files[]\" multiple disabled\n",
              "        style=\"border:none\" />\n",
              "     <output id=\"result-6684931e-bb74-430c-b649-a95b13e77051\">\n",
              "      Upload widget is only available when the cell has been executed in the\n",
              "      current browser session. Please rerun this cell to enable.\n",
              "      </output>\n",
              "      <script src=\"/nbextensions/google.colab/files.js\"></script> "
            ],
            "text/plain": [
              "<IPython.core.display.HTML object>"
            ]
          },
          "metadata": {
            "tags": []
          }
        },
        {
          "output_type": "stream",
          "text": [
            "Saving articles.csv to articles.csv\n"
          ],
          "name": "stdout"
        }
      ]
    },
    {
      "cell_type": "code",
      "metadata": {
        "id": "Ej6XER5rKBWT"
      },
      "source": [
        "art=pd.read_csv('/content/articles.csv')"
      ],
      "execution_count": 4,
      "outputs": []
    },
    {
      "cell_type": "code",
      "metadata": {
        "id": "L3ED08IwN5s3"
      },
      "source": [
        "tit_data = art.Titles.values.tolist()"
      ],
      "execution_count": 5,
      "outputs": []
    },
    {
      "cell_type": "code",
      "metadata": {
        "id": "UsdUYV3_KBWV"
      },
      "source": [
        "def generation_words(sentences):\n",
        "    for sentence in sentences:\n",
        "      yield(gensim.utils.simple_preprocess(str(sentence), deacc=True))  \n",
        "\n",
        "df_words = list(generation_words(tit_data))"
      ],
      "execution_count": 6,
      "outputs": []
    },
    {
      "cell_type": "code",
      "metadata": {
        "id": "I7IqNSxXKBWV"
      },
      "source": [
        "bigram = gensim.models.Phrases(df_words, min_count=5, threshold=100)\n",
        "bi_model = gensim.models.phrases.Phraser(bigram)"
      ],
      "execution_count": 7,
      "outputs": []
    },
    {
      "cell_type": "code",
      "metadata": {
        "id": "PF84Z1GUKBWV"
      },
      "source": [
        "def stopwords_remove(txt):\n",
        "    return [[word for word in simple_preprocess(str(doc)) if word not in stop_words] for doc in txt]\n",
        "\n",
        "def bigrams_make(txt):\n",
        "    return [bi_model[doc] for doc in txt]\n",
        "\n",
        "def lemmatization(txt, allowed_postags=['NOUN', 'ADJ', 'VERB', 'ADV']):\n",
        "    result = []\n",
        "    for sent in txt:\n",
        "        doc = nlp(\" \".join(sent)) \n",
        "        result.append([token.lemma_ for token in doc if token.pos_ in allowed_postags])\n",
        "    return result"
      ],
      "execution_count": 8,
      "outputs": []
    },
    {
      "cell_type": "code",
      "metadata": {
        "id": "e2w-305WKBWW"
      },
      "source": [
        "stops_df = stopwords_remove(df_words)\n",
        "bigrams_df = bigrams_make(stops_df)\n",
        "nlp = spacy.load('en', disable=['parser', 'ner'])\n",
        "df_lemmatized = lemmatization(bigrams_df, allowed_postags=['NOUN', 'ADJ', 'VERB', 'ADV'])"
      ],
      "execution_count": 9,
      "outputs": []
    },
    {
      "cell_type": "code",
      "metadata": {
        "id": "RAQjh_AjKBWW"
      },
      "source": [
        "# Dictionary\n",
        "dic_word = corpora.Dictionary(df_lemmatized)\n",
        "\n",
        "# Corpus\n",
        "temp = df_lemmatized\n",
        "\n",
        "corpus=[]\n",
        "# TF\n",
        "for i in temp:\n",
        "  corpus.append(dic_word.doc2bow(i))"
      ],
      "execution_count": 10,
      "outputs": []
    },
    {
      "cell_type": "code",
      "metadata": {
        "id": "tEFsQt-bKBWZ"
      },
      "source": [
        "def compute_k(dictionary, corpus, texts, limit, start, step):\n",
        "    coherence_val = []\n",
        "    LDA_models = []\n",
        "    for num_topics in range(start, limit, step):\n",
        "        model = gensim.models.ldamodel.LdaModel(corpus=corpus, num_topics=num_topics, id2word=dic_word)\n",
        "        LDA_models.append(model)\n",
        "        coherencemodel = CoherenceModel(model=model, texts=texts, dictionary=dictionary, coherence='c_v')\n",
        "        coherence_val.append(coherencemodel.get_coherence())\n",
        "    return LDA_models, coherence_val"
      ],
      "execution_count": 11,
      "outputs": []
    },
    {
      "cell_type": "code",
      "metadata": {
        "id": "k8TLgVP2KBWa"
      },
      "source": [
        "LDA_models, coherence_val = compute_k(dictionary=dic_word, corpus=corpus, texts=df_lemmatized, limit=38,start=2, step=6)"
      ],
      "execution_count": 12,
      "outputs": []
    },
    {
      "cell_type": "code",
      "metadata": {
        "colab": {
          "base_uri": "https://localhost:8080/",
          "height": 280
        },
        "id": "3H-HPF5VKBWa",
        "outputId": "3c5672da-745a-4e94-cf37-591516947bac"
      },
      "source": [
        "x = [2,8,14,20,26,32]\n",
        "plt.plot(x, coherence_val)\n",
        "plt.xlabel(\"Totals_Topics\")\n",
        "plt.ylabel(\"Coherence\")\n",
        "plt.show()"
      ],
      "execution_count": 13,
      "outputs": [
        {
          "output_type": "display_data",
          "data": {
            "image/png": "[encoded data removed]",
            "text/plain": [
              "<Figure size 432x288 with 1 Axes>"
            ]
          },
          "metadata": {
            "tags": [],
            "needs_background": "light"
          }
        }
      ]
    },
    {
      "cell_type": "code",
      "metadata": {
        "colab": {
          "base_uri": "https://localhost:8080/"
        },
        "id": "8fUzqbANKBWa",
        "outputId": "a85f4e75-6212-448e-c436-886afbc15173"
      },
      "source": [
        "for i, j in zip(x, coherence_val):\n",
        "    print(\"Num Topics =\", i, \"| Coherence Value:\", round(j, 4))"
      ],
      "execution_count": 14,
      "outputs": [
        {
          "output_type": "stream",
          "text": [
            "Num Topics = 2 | Coherence Value: 0.4348\n",
            "Num Topics = 8 | Coherence Value: 0.4087\n",
            "Num Topics = 14 | Coherence Value: 0.3971\n",
            "Num Topics = 20 | Coherence Value: 0.4411\n",
            "Num Topics = 26 | Coherence Value: 0.4897\n",
            "Num Topics = 32 | Coherence Value: 0.4863\n"
          ],
          "name": "stdout"
        }
      ]
    },
    {
      "cell_type": "code",
      "metadata": {
        "colab": {
          "base_uri": "https://localhost:8080/"
        },
        "id": "oQMo7-1oKBWb",
        "outputId": "53a5d75b-a171-40d3-b806-37e7ac538b13"
      },
      "source": [
        "# The optimal model is with 8 topics which is model: 5. \n",
        "optimal_model = LDA_models[4]\n",
        "pprint(optimal_model.print_topics())\n"
      ],
      "execution_count": 15,
      "outputs": [
        {
          "output_type": "stream",
          "text": [
            "[(24,\n",
            "  '0.080*\"text\" + 0.080*\"approach\" + 0.080*\"base\" + 0.080*\"summarization\" + '\n",
            "  '0.041*\"customer\" + 0.041*\"modification\" + 0.041*\"automatic\" + '\n",
            "  '0.041*\"gather\" + 0.041*\"product\" + 0.041*\"concern\"'),\n",
            " (21,\n",
            "  '0.126*\"summarization\" + 0.106*\"text\" + 0.069*\"approach\" + 0.062*\"automatic\" '\n",
            "  '+ 0.044*\"extractive\" + 0.044*\"extraction\" + 0.044*\"newspaper\" + '\n",
            "  '0.044*\"keyword\" + 0.044*\"telugu\" + 0.028*\"use\"'),\n",
            " (15,\n",
            "  '0.133*\"summarization\" + 0.130*\"text\" + 0.088*\"use\" + 0.033*\"document\" + '\n",
            "  '0.025*\"extractive\" + 0.022*\"learning\" + 0.022*\"modify\" + 0.022*\"base\" + '\n",
            "  '0.022*\"arabic\" + 0.022*\"algorithm\"'),\n",
            " (22,\n",
            "  '0.086*\"sentence\" + 0.086*\"text\" + 0.086*\"summarization\" + 0.044*\"multi\" + '\n",
            "  '0.044*\"use\" + 0.044*\"automate\" + 0.044*\"assessment\" + 0.044*\"applicable\" + '\n",
            "  '0.044*\"base\" + 0.044*\"rule\"'),\n",
            " (19,\n",
            "  '0.144*\"summarization\" + 0.089*\"text\" + 0.068*\"base\" + 0.041*\"extractive\" + '\n",
            "  '0.041*\"approach\" + 0.028*\"network\" + 0.028*\"sentence\" + 0.028*\"semantic\" + '\n",
            "  '0.014*\"judgment\" + 0.014*\"analysis\"'),\n",
            " (16,\n",
            "  '0.004*\"redundancy\" + 0.004*\"reduce\" + 0.004*\"pubme\" + 0.004*\"lexical\" + '\n",
            "  '0.004*\"chain\" + 0.004*\"vec\" + 0.004*\"strength\" + 0.004*\"dimension\" + '\n",
            "  '0.004*\"arabic\" + 0.004*\"weakness\"'),\n",
            " (13,\n",
            "  '0.069*\"summarization\" + 0.069*\"improve\" + 0.069*\"review\" + 0.069*\"text\" + '\n",
            "  '0.035*\"sentiment\" + 0.035*\"hotel\" + 0.035*\"online\" + 0.035*\"related\" + '\n",
            "  '0.035*\"content\" + 0.035*\"web\"'),\n",
            " (17,\n",
            "  '0.135*\"summarization\" + 0.101*\"text\" + 0.051*\"document\" + '\n",
            "  '0.034*\"extractive\" + 0.034*\"use\" + 0.034*\"graph\" + 0.034*\"semantic\" + '\n",
            "  '0.034*\"model\" + 0.034*\"base\" + 0.034*\"automatic\"'),\n",
            " (25,\n",
            "  '0.004*\"redundancy\" + 0.004*\"reduce\" + 0.004*\"pubme\" + 0.004*\"lexical\" + '\n",
            "  '0.004*\"chain\" + 0.004*\"vec\" + 0.004*\"strength\" + 0.004*\"dimension\" + '\n",
            "  '0.004*\"arabic\" + 0.004*\"weakness\"'),\n",
            " (0,\n",
            "  '0.076*\"summarization\" + 0.076*\"text\" + 0.076*\"future\" + 0.076*\"automatic\" + '\n",
            "  '0.076*\"present\" + 0.003*\"lexical\" + 0.003*\"redundancy\" + 0.003*\"scholar\" + '\n",
            "  '0.003*\"pubme\" + 0.003*\"weakness\"'),\n",
            " (3,\n",
            "  '0.099*\"summarization\" + 0.099*\"text\" + 0.050*\"redundant\" + 0.050*\"unify\" + '\n",
            "  '0.050*\"approach\" + 0.050*\"minimum\" + 0.050*\"maximum\" + 0.050*\"model\" + '\n",
            "  '0.050*\"automatic\" + 0.050*\"coverage\"'),\n",
            " (14,\n",
            "  '0.063*\"text\" + 0.062*\"paper\" + 0.062*\"generating\" + 0.062*\"compendium\" + '\n",
            "  '0.062*\"abstract\" + 0.062*\"research\" + 0.062*\"summarization\" + '\n",
            "  '0.062*\"system\" + 0.002*\"chain\" + 0.002*\"lexical\"'),\n",
            " (11,\n",
            "  '0.154*\"summarization\" + 0.100*\"text\" + 0.085*\"base\" + 0.057*\"technique\" + '\n",
            "  '0.029*\"word\" + 0.029*\"learning\" + 0.029*\"use\" + 0.029*\"document\" + '\n",
            "  '0.029*\"graph\" + 0.029*\"new\"'),\n",
            " (5,\n",
            "  '0.004*\"redundancy\" + 0.004*\"reduce\" + 0.004*\"pubme\" + 0.004*\"lexical\" + '\n",
            "  '0.004*\"chain\" + 0.004*\"vec\" + 0.004*\"strength\" + 0.004*\"dimension\" + '\n",
            "  '0.004*\"arabic\" + 0.004*\"weakness\"'),\n",
            " (9,\n",
            "  '0.113*\"text\" + 0.100*\"summarization\" + 0.067*\"use\" + 0.038*\"approach\" + '\n",
            "  '0.033*\"extractive\" + 0.031*\"extraction\" + 0.028*\"seq\" + 0.019*\"dataset\" + '\n",
            "  '0.019*\"lexical\" + 0.019*\"rank\"'),\n",
            " (7,\n",
            "  '0.128*\"summarization\" + 0.128*\"text\" + 0.033*\"concept\" + 0.033*\"mine\" + '\n",
            "  '0.033*\"online\" + 0.033*\"biomedical\" + 0.033*\"big\" + 0.033*\"comprehensive\" + '\n",
            "  '0.033*\"survey\" + 0.033*\"hotel\"'),\n",
            " (4,\n",
            "  '0.044*\"text\" + 0.044*\"main\" + 0.044*\"co\" + 0.044*\"teach\" + 0.044*\"strength\" '\n",
            "  '+ 0.044*\"middle\" + 0.044*\"school\" + 0.044*\"support\" + 0.044*\"idea\" + '\n",
            "  '0.044*\"weakness\"'),\n",
            " (2,\n",
            "  '0.056*\"enhance\" + 0.056*\"processing\" + 0.056*\"text\" + 0.056*\"language\" + '\n",
            "  '0.056*\"summarization\" + 0.056*\"preprocessing\" + 0.056*\"natural\" + '\n",
            "  '0.056*\"propose\" + 0.056*\"procedure\" + 0.056*\"arabic\"'),\n",
            " (6,\n",
            "  '0.004*\"redundancy\" + 0.004*\"reduce\" + 0.004*\"pubme\" + 0.004*\"lexical\" + '\n",
            "  '0.004*\"chain\" + 0.004*\"vec\" + 0.004*\"strength\" + 0.004*\"dimension\" + '\n",
            "  '0.004*\"arabic\" + 0.004*\"weakness\"'),\n",
            " (1,\n",
            "  '0.124*\"summarization\" + 0.050*\"evaluation\" + 0.050*\"multi\" + 0.050*\"text\" + '\n",
            "  '0.050*\"base\" + 0.050*\"document\" + 0.026*\"focus\" + 0.026*\"video\" + '\n",
            "  '0.026*\"treatment\" + 0.026*\"survey\"')]\n"
          ],
          "name": "stdout"
        }
      ]
    },
    {
      "cell_type": "markdown",
      "metadata": {
        "id": "SdL_sDqpKBWd"
      },
      "source": [
        "## (2) (8 points) Generate K topics by using LSA, the number of topics K should be decided by the coherence score, then summarize what are the topics. You may refer the code here:\n",
        "\n",
        "https://www.datacamp.com/community/tutorials/discovering-hidden-topics-python"
      ]
    },
    {
      "cell_type": "code",
      "metadata": {
        "id": "QfmOhDqXKBWd"
      },
      "source": [
        "from gensim.models import LsiModel\n",
        "from gensim.models.coherencemodel import CoherenceModel"
      ],
      "execution_count": 16,
      "outputs": []
    },
    {
      "cell_type": "code",
      "metadata": {
        "id": "93W0Irx7KBWf"
      },
      "source": [
        "def compute_coherence_values(dictionary, doc_term_matrix, doc_clean, stop, start=2, step=3):\n",
        "    coherence_values = []\n",
        "    model_list = []\n",
        "    for num_topics in range(start, stop, step):\n",
        "        # generate LSA model\n",
        "        model = LsiModel(doc_term_matrix, num_topics=num_topics, id2word = dic_word)\n",
        "        model_list.append(model)\n",
        "        coherencemodel = CoherenceModel(model=model, texts=doc_clean, dictionary=dictionary, coherence='c_v')\n",
        "        coherence_values.append(coherencemodel.get_coherence())\n",
        "    return model_list, coherence_values"
      ],
      "execution_count": 17,
      "outputs": []
    },
    {
      "cell_type": "code",
      "metadata": {
        "id": "AhISkTFNuNxi"
      },
      "source": [
        "LSA_list, coherence_values = compute_coherence_values(dictionary=dic_word, doc_term_matrix=corpus, doc_clean=df_lemmatized, stop=38, start=2, step=6)"
      ],
      "execution_count": 18,
      "outputs": []
    },
    {
      "cell_type": "code",
      "metadata": {
        "colab": {
          "base_uri": "https://localhost:8080/",
          "height": 279
        },
        "id": "uLyVk7p-uucb",
        "outputId": "3d2e8f57-737d-4528-c2b9-b609c2b2aea1"
      },
      "source": [
        "x = [2,8,14,20,26,32]\n",
        "plt.plot(x, coherence_values)\n",
        "plt.xlabel(\"Number of Topics\")\n",
        "plt.ylabel(\"Coherence score\")\n",
        "plt.legend((\"coherence_values\"), loc='best')\n",
        "plt.show()"
      ],
      "execution_count": 19,
      "outputs": [
        {
          "output_type": "display_data",
          "data": {
            "image/png": "[encoded data removed]",
            "text/plain": [
              "<Figure size 432x288 with 1 Axes>"
            ]
          },
          "metadata": {
            "tags": [],
            "needs_background": "light"
          }
        }
      ]
    },
    {
      "cell_type": "code",
      "metadata": {
        "id": "faZrKzQLPZkl",
        "colab": {
          "base_uri": "https://localhost:8080/"
        },
        "outputId": "35498d87-481e-410d-e11d-4a5911ee9be0"
      },
      "source": [
        "for i, j in zip(x, coherence_values):\n",
        "    print(\"Num Topics =\", i, \"| Coherence Value:\", round(j, 4))"
      ],
      "execution_count": 20,
      "outputs": [
        {
          "output_type": "stream",
          "text": [
            "Num Topics = 2 | Coherence Value: 0.4472\n",
            "Num Topics = 8 | Coherence Value: 0.3881\n",
            "Num Topics = 14 | Coherence Value: 0.4311\n",
            "Num Topics = 20 | Coherence Value: 0.4493\n",
            "Num Topics = 26 | Coherence Value: 0.4677\n",
            "Num Topics = 32 | Coherence Value: 0.4687\n"
          ],
          "name": "stdout"
        }
      ]
    },
    {
      "cell_type": "code",
      "metadata": {
        "colab": {
          "base_uri": "https://localhost:8080/"
        },
        "id": "Go7BfYSfxC6v",
        "outputId": "88068832-f5ee-43d4-dba6-f64f0978f72b"
      },
      "source": [
        "# The optimal model is 6. \n",
        "optimal_model = LSA_list[5]\n",
        "pprint(optimal_model.print_topics())\n"
      ],
      "execution_count": 21,
      "outputs": [
        {
          "output_type": "stream",
          "text": [
            "[(0,\n",
            "  '0.655*\"summarization\" + 0.622*\"text\" + 0.222*\"use\" + 0.163*\"base\" + '\n",
            "  '0.148*\"approach\" + 0.127*\"automatic\" + 0.111*\"extractive\" + '\n",
            "  '0.083*\"document\" + 0.061*\"sentence\" + 0.058*\"technique\"'),\n",
            " (1,\n",
            "  '-0.552*\"base\" + -0.474*\"use\" + 0.328*\"text\" + -0.240*\"approach\" + '\n",
            "  '-0.209*\"document\" + -0.181*\"graph\" + -0.167*\"semantic\" + 0.154*\"extractive\" '\n",
            "  '+ 0.151*\"review\" + -0.118*\"multi\"'),\n",
            " (2,\n",
            "  '-0.594*\"use\" + 0.524*\"base\" + 0.215*\"approach\" + 0.214*\"automatic\" + '\n",
            "  '-0.203*\"document\" + -0.153*\"learning\" + -0.147*\"algorithm\" + -0.123*\"deep\" '\n",
            "  '+ 0.109*\"semantic\" + 0.098*\"technique\"'),\n",
            " (3,\n",
            "  '0.521*\"approach\" + -0.380*\"sentence\" + -0.311*\"extractive\" + 0.269*\"review\" '\n",
            "  '+ -0.263*\"automatic\" + -0.246*\"technique\" + 0.168*\"online\" + '\n",
            "  '-0.152*\"document\" + -0.141*\"base\" + -0.118*\"new\"'),\n",
            " (4,\n",
            "  '-0.513*\"automatic\" + 0.428*\"extractive\" + 0.352*\"document\" + -0.260*\"use\" + '\n",
            "  '0.212*\"multi\" + -0.207*\"extraction\" + 0.207*\"summarization\" + -0.184*\"text\" '\n",
            "  '+ 0.114*\"approach\" + 0.089*\"arabic\"'),\n",
            " (5,\n",
            "  '0.527*\"approach\" + 0.409*\"sentence\" + 0.326*\"extractive\" + -0.222*\"base\" + '\n",
            "  '0.200*\"technique\" + -0.187*\"model\" + -0.167*\"summarization\" + 0.165*\"use\" + '\n",
            "  '0.120*\"effective\" + -0.111*\"semantic\"'),\n",
            " (6,\n",
            "  '0.410*\"semantic\" + 0.372*\"model\" + -0.265*\"review\" + 0.247*\"analysis\" + '\n",
            "  '0.222*\"extractive\" + -0.205*\"document\" + -0.162*\"multi\" + 0.154*\"seq\" + '\n",
            "  '-0.152*\"system\" + 0.152*\"hybrid\"'),\n",
            " (7,\n",
            "  '0.467*\"automatic\" + 0.409*\"document\" + -0.294*\"base\" + -0.209*\"abstractive\" '\n",
            "  '+ 0.182*\"semantic\" + -0.174*\"text\" + -0.172*\"seq\" + 0.167*\"multi\" + '\n",
            "  '-0.166*\"sentence\" + 0.149*\"summarization\"'),\n",
            " (8,\n",
            "  '-0.514*\"review\" + -0.265*\"semantic\" + -0.261*\"improve\" + 0.258*\"approach\" + '\n",
            "  '-0.226*\"online\" + -0.219*\"extractive\" + -0.187*\"hotel\" + 0.148*\"arabic\" + '\n",
            "  '-0.139*\"sentiment\" + -0.138*\"helpfulness\"'),\n",
            " (9,\n",
            "  '0.351*\"extractive\" + -0.341*\"sentence\" + -0.334*\"technique\" + '\n",
            "  '0.227*\"extraction\" + -0.222*\"summarization\" + 0.207*\"automatic\" + '\n",
            "  '-0.171*\"biomedical\" + 0.160*\"optimization\" + -0.158*\"deep\" + 0.153*\"text\"'),\n",
            " (10,\n",
            "  '-0.358*\"survey\" + -0.344*\"technique\" + 0.270*\"biomedical\" + '\n",
            "  '-0.223*\"semantic\" + -0.203*\"text\" + -0.178*\"document\" + 0.175*\"deep\" + '\n",
            "  '0.172*\"summarization\" + -0.171*\"datum\" + -0.171*\"big\"'),\n",
            " (11,\n",
            "  '-0.398*\"arabic\" + -0.268*\"sentence\" + 0.219*\"survey\" + 0.183*\"abstractive\" '\n",
            "  '+ -0.174*\"redundancy\" + -0.173*\"hybrid\" + 0.165*\"summarization\" + '\n",
            "  '-0.164*\"text\" + 0.162*\"datum\" + 0.162*\"big\"'),\n",
            " (12,\n",
            "  '-0.325*\"model\" + -0.308*\"seq\" + -0.287*\"document\" + -0.265*\"multi\" + '\n",
            "  '0.221*\"extractive\" + -0.207*\"abstractive\" + 0.202*\"algorithm\" + '\n",
            "  '-0.154*\"reinforce\" + -0.154*\"selective\" + -0.154*\"social\"'),\n",
            " (13,\n",
            "  '-0.303*\"deep\" + -0.278*\"semantic\" + -0.269*\"biomedical\" + '\n",
            "  '0.263*\"summarization\" + -0.254*\"text\" + -0.226*\"learning\" + '\n",
            "  '-0.168*\"extractive\" + 0.167*\"online\" + 0.165*\"algorithm\" + 0.154*\"arabic\"'),\n",
            " (14,\n",
            "  '0.290*\"sentence\" + -0.289*\"extraction\" + 0.274*\"big\" + 0.274*\"datum\" + '\n",
            "  '0.239*\"optimization\" + 0.219*\"biomedical\" + 0.208*\"integrate\" + '\n",
            "  '-0.199*\"learning\" + 0.192*\"system\" + -0.188*\"technique\"'),\n",
            " (15,\n",
            "  '0.310*\"extraction\" + -0.252*\"improve\" + 0.221*\"system\" + 0.221*\"model\" + '\n",
            "  '-0.212*\"abstractive\" + 0.184*\"hybrid\" + -0.174*\"text\" + -0.159*\"co\" + '\n",
            "  '0.148*\"systematic\" + 0.138*\"summarization\"'),\n",
            " (16,\n",
            "  '0.260*\"co\" + -0.243*\"arabic\" + 0.225*\"middle\" + 0.225*\"school\" + '\n",
            "  '0.225*\"main\" + 0.225*\"identification\" + 0.225*\"idea\" + 0.225*\"support\" + '\n",
            "  '0.225*\"teach\" + 0.225*\"class\"'),\n",
            " (17,\n",
            "  '-0.253*\"learning\" + 0.218*\"algorithm\" + -0.208*\"deep\" + -0.198*\"language\" + '\n",
            "  '0.185*\"biomedical\" + 0.169*\"co\" + 0.161*\"school\" + 0.161*\"idea\" + '\n",
            "  '0.161*\"main\" + 0.161*\"identification\"'),\n",
            " (18,\n",
            "  '-0.241*\"hybrid\" + 0.230*\"extraction\" + 0.229*\"system\" + 0.210*\"seq\" + '\n",
            "  '-0.189*\"model\" + -0.174*\"learning\" + 0.160*\"attention\" + -0.156*\"survey\" + '\n",
            "  '0.150*\"propose\" + -0.140*\"deep\"'),\n",
            " (19,\n",
            "  '0.329*\"language\" + 0.255*\"propose\" + 0.249*\"graph\" + -0.246*\"redundancy\" + '\n",
            "  '-0.205*\"word\" + 0.178*\"natural\" + 0.178*\"processing\" + '\n",
            "  '0.178*\"preprocessing\" + 0.178*\"enhance\" + 0.178*\"procedure\"')]\n"
          ],
          "name": "stdout"
        }
      ]
    },
    {
      "cell_type": "markdown",
      "metadata": {
        "id": "gMGbX74XKBWf"
      },
      "source": [
        "## (3) (4 points) Compare the results generated by the two topic modeling algorithms, which one is better? You should explain the reasons in details."
      ]
    },
    {
      "cell_type": "code",
      "metadata": {
        "id": "fNsxi9ITLoxh"
      },
      "source": [
        "# Write your answer here (no code needed for this question)\n",
        "\n",
        "Model:LDA\n",
        "The optimal_model for LDA is 26 and Coherence score: 0.4877.\n",
        "\n",
        "model:LSA\n",
        "The optimal model for LSA is 32 and Coherence score: 0.4844.\n",
        "\n",
        "LDA model perfomed well at 26 but LSA at 32. \n",
        "LSA learns latent topics by performing a matrix decomposition on the term-document matrix whereas LDA assumes a Dirichlet prior over the latent topics. Theortically, LSA has lower accuracy compared to LDA.\n",
        "\n",
        "Therefore, LDA model is better than LSA."
      ],
      "execution_count": null,
      "outputs": []
    }
  ]
}