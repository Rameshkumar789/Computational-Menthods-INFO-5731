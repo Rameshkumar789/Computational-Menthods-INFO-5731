{
  "nbformat": 4,
  "nbformat_minor": 0,
  "metadata": {
    "colab": {
      "name": "Clustering _Algorithms.ipynb",
      "provenance": [],
      "collapsed_sections": [],
      "authorship_tag": "ABX9TyOdyYiemPxPeDfgtTzKJe7T",
      "include_colab_link": true
    },
    "kernelspec": {
      "name": "python3",
      "display_name": "Python 3"
    },
    "language_info": {
      "name": "python"
    }
  },
  "cells": [
    {
      "cell_type": "markdown",
      "metadata": {
        "id": "view-in-github",
        "colab_type": "text"
      },
      "source": [
        "<a href=\"https://colab.research.google.com/github/Rameshkumar789/Computational-Menthods-INFO-5731/blob/main/Citation-based%20Summarization/Clustering__Algorithms.ipynb\" target=\"_parent\"><img src=\"https://colab.research.google.com/assets/colab-badge.svg\" alt=\"Open In Colab\"/></a>"
      ]
    },
    {
      "cell_type": "code",
      "metadata": {
        "id": "JFubSL0HnCk6"
      },
      "source": [
        "import pandas as pd\n",
        "from google.colab import files"
      ],
      "execution_count": null,
      "outputs": []
    },
    {
      "cell_type": "code",
      "metadata": {
        "colab": {
          "resources": {
            "http://localhost:8080/nbextensions/google.colab/files.js": {
              "data": "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",
              "ok": true,
              "headers": [
                [
                  "content-type",
                  "application/javascript"
                ]
              ],
              "status": 200,
              "status_text": ""
            }
          },
          "base_uri": "https://localhost:8080/",
          "height": 73
        },
        "id": "lqasF1VPnUBu",
        "outputId": "081b59c6-d80b-491c-f52b-f2e7fa9d31dd"
      },
      "source": [
        "uploaded = files.upload()"
      ],
      "execution_count": null,
      "outputs": [
        {
          "output_type": "display_data",
          "data": {
            "text/html": [
              "\n",
              "     <input type=\"file\" id=\"files-ce81b134-ad03-41d8-b5a3-073ee0426bb3\" name=\"files[]\" multiple disabled\n",
              "        style=\"border:none\" />\n",
              "     <output id=\"result-ce81b134-ad03-41d8-b5a3-073ee0426bb3\">\n",
              "      Upload widget is only available when the cell has been executed in the\n",
              "      current browser session. Please rerun this cell to enable.\n",
              "      </output>\n",
              "      <script src=\"/nbextensions/google.colab/files.js\"></script> "
            ],
            "text/plain": [
              "<IPython.core.display.HTML object>"
            ]
          },
          "metadata": {
            "tags": []
          }
        },
        {
          "output_type": "stream",
          "text": [
            "Saving Reference.csv to Reference.csv\n"
          ],
          "name": "stdout"
        }
      ]
    },
    {
      "cell_type": "code",
      "metadata": {
        "id": "T1STMkDynVvN"
      },
      "source": [
        "df = pd.read_csv('/content/Similarity.csv', header=None)\n",
        "dat = pd.read_csv('/content/Cleaned_data.csv')"
      ],
      "execution_count": null,
      "outputs": []
    },
    {
      "cell_type": "code",
      "metadata": {
        "colab": {
          "base_uri": "https://localhost:8080/",
          "height": 670
        },
        "id": "4jzsCSyTnm-y",
        "outputId": "78c17f7c-fb2e-4113-ff35-8a683f1b67af"
      },
      "source": [
        "df"
      ],
      "execution_count": null,
      "outputs": [
        {
          "output_type": "execute_result",
          "data": {
            "text/html": [
              "<div>\n",
              "<style scoped>\n",
              "    .dataframe tbody tr th:only-of-type {\n",
              "        vertical-align: middle;\n",
              "    }\n",
              "\n",
              "    .dataframe tbody tr th {\n",
              "        vertical-align: top;\n",
              "    }\n",
              "\n",
              "    .dataframe thead th {\n",
              "        text-align: right;\n",
              "    }\n",
              "</style>\n",
              "<table border=\"1\" class=\"dataframe\">\n",
              "  <thead>\n",
              "    <tr style=\"text-align: right;\">\n",
              "      <th></th>\n",
              "      <th>0</th>\n",
              "      <th>1</th>\n",
              "      <th>2</th>\n",
              "      <th>3</th>\n",
              "      <th>4</th>\n",
              "      <th>5</th>\n",
              "      <th>6</th>\n",
              "      <th>7</th>\n",
              "    </tr>\n",
              "  </thead>\n",
              "  <tbody>\n",
              "    <tr>\n",
              "      <th>0</th>\n",
              "      <td>[1, 0.8641790151596069, 0.8860666155815125, 0....</td>\n",
              "      <td>[1, 0.8782917857170105, 0.8991481065750122, 0....</td>\n",
              "      <td>[1, 0.8800650835037231, 0.8667992353439331, 0....</td>\n",
              "      <td>[1, 0.8734186887741089, 0.8934395909309387, 0....</td>\n",
              "      <td>[1, 0.9309943914413452, 0.8896252512931824, 0....</td>\n",
              "      <td>[1, 0.9529001116752625, 0.9038117527961731, 0....</td>\n",
              "      <td>[1, 0.9255000948905945, 0.9107615947723389, 0....</td>\n",
              "      <td>[1, 0.8959261775016785, 0.9195967316627502, 0....</td>\n",
              "    </tr>\n",
              "    <tr>\n",
              "      <th>1</th>\n",
              "      <td>[0, 1, 0.9127070307731628, 0.8643574714660645,...</td>\n",
              "      <td>[0, 1, 0.9194422364234924, 0.9183230996131897,...</td>\n",
              "      <td>[0, 1, 0.9253299832344055, 0.8966569304466248,...</td>\n",
              "      <td>[0, 1, 0.9033165574073792, 0.9375051856040955,...</td>\n",
              "      <td>[0, 1, 0.8922938108444214, 0.9104641079902649,...</td>\n",
              "      <td>[0, 1, 0.9226403832435608, 0.920134425163269, ...</td>\n",
              "      <td>[0, 1, 0.8986127376556396, 0.899229109287262, ...</td>\n",
              "      <td>[0, 1, 0.9212322235107422, 0.9007315039634705,...</td>\n",
              "    </tr>\n",
              "    <tr>\n",
              "      <th>2</th>\n",
              "      <td>[0, 0, 1, 0.8953666090965271, 0.92125838994979...</td>\n",
              "      <td>[0, 0, 1, 0.9202035069465637, 0.92035055160522...</td>\n",
              "      <td>[0, 0, 1, 0.9049714803695679, 0.88164210319519...</td>\n",
              "      <td>[0, 0, 1, 0.8929719924926758, 0.91293221712112...</td>\n",
              "      <td>[0, 0, 1, 0.9135695695877075, 0.90845298767089...</td>\n",
              "      <td>[0, 0, 1, 0.910064697265625, 0.888934910297393...</td>\n",
              "      <td>[0, 0, 1, 0.9236996173858643, 0.93147939443588...</td>\n",
              "      <td>[0, 0, 1, 0.9229073524475098, 0.91607850790023...</td>\n",
              "    </tr>\n",
              "    <tr>\n",
              "      <th>3</th>\n",
              "      <td>[0, 0, 0, 1, 0.9071871638298035, 0.88244849443...</td>\n",
              "      <td>[0, 0, 0, 1, 0.9059798717498779, 0.92850393056...</td>\n",
              "      <td>[0, 0, 0, 1, 0.9014462232589722, 0.92260545492...</td>\n",
              "      <td>[0, 0, 0, 1, 0.8922995924949646, 0.92269325256...</td>\n",
              "      <td>[0, 0, 0, 1, 0.9244858026504517, 0.89577084779...</td>\n",
              "      <td>[0, 0, 0, 1, 0.935200035572052, 0.932264268398...</td>\n",
              "      <td>[0, 0, 0, 1, 0.9466046690940857, 0.92584842443...</td>\n",
              "      <td>[0, 0, 0, 1, 0.9083357453346252, 0.91726660728...</td>\n",
              "    </tr>\n",
              "    <tr>\n",
              "      <th>4</th>\n",
              "      <td>[0, 0, 0, 0, 1, 0.9021642804145813, 0.92098158...</td>\n",
              "      <td>[0, 0, 0, 0, 1, 0.9147127866744995, 0.90798485...</td>\n",
              "      <td>[0, 0, 0, 0, 1, 0.9131132960319519, 0.90081840...</td>\n",
              "      <td>[0, 0, 0, 0, 1, 0.9071445465087891, 0.84328973...</td>\n",
              "      <td>[0, 0, 0, 0, 1, 0.8886191844940186, 0.88899809...</td>\n",
              "      <td>[0, 0, 0, 0, 1, 0.963780403137207, 0.959604620...</td>\n",
              "      <td>[0, 0, 0, 0, 1, 0.9300596714019775, 0.90849900...</td>\n",
              "      <td>[0, 0, 0, 0, 1, 0.8974415063858032, 0.89607673...</td>\n",
              "    </tr>\n",
              "    <tr>\n",
              "      <th>...</th>\n",
              "      <td>...</td>\n",
              "      <td>...</td>\n",
              "      <td>...</td>\n",
              "      <td>...</td>\n",
              "      <td>...</td>\n",
              "      <td>...</td>\n",
              "      <td>...</td>\n",
              "      <td>...</td>\n",
              "    </tr>\n",
              "    <tr>\n",
              "      <th>309</th>\n",
              "      <td>NaN</td>\n",
              "      <td>NaN</td>\n",
              "      <td>NaN</td>\n",
              "      <td>NaN</td>\n",
              "      <td>NaN</td>\n",
              "      <td>NaN</td>\n",
              "      <td>NaN</td>\n",
              "      <td>[0, 0, 0, 0, 0, 0, 0, 0, 0, 0, 0, 0, 0, 0, 0, ...</td>\n",
              "    </tr>\n",
              "    <tr>\n",
              "      <th>310</th>\n",
              "      <td>NaN</td>\n",
              "      <td>NaN</td>\n",
              "      <td>NaN</td>\n",
              "      <td>NaN</td>\n",
              "      <td>NaN</td>\n",
              "      <td>NaN</td>\n",
              "      <td>NaN</td>\n",
              "      <td>[0, 0, 0, 0, 0, 0, 0, 0, 0, 0, 0, 0, 0, 0, 0, ...</td>\n",
              "    </tr>\n",
              "    <tr>\n",
              "      <th>311</th>\n",
              "      <td>NaN</td>\n",
              "      <td>NaN</td>\n",
              "      <td>NaN</td>\n",
              "      <td>NaN</td>\n",
              "      <td>NaN</td>\n",
              "      <td>NaN</td>\n",
              "      <td>NaN</td>\n",
              "      <td>[0, 0, 0, 0, 0, 0, 0, 0, 0, 0, 0, 0, 0, 0, 0, ...</td>\n",
              "    </tr>\n",
              "    <tr>\n",
              "      <th>312</th>\n",
              "      <td>NaN</td>\n",
              "      <td>NaN</td>\n",
              "      <td>NaN</td>\n",
              "      <td>NaN</td>\n",
              "      <td>NaN</td>\n",
              "      <td>NaN</td>\n",
              "      <td>NaN</td>\n",
              "      <td>[0, 0, 0, 0, 0, 0, 0, 0, 0, 0, 0, 0, 0, 0, 0, ...</td>\n",
              "    </tr>\n",
              "    <tr>\n",
              "      <th>313</th>\n",
              "      <td>NaN</td>\n",
              "      <td>NaN</td>\n",
              "      <td>NaN</td>\n",
              "      <td>NaN</td>\n",
              "      <td>NaN</td>\n",
              "      <td>NaN</td>\n",
              "      <td>NaN</td>\n",
              "      <td>[0, 0, 0, 0, 0, 0, 0, 0, 0, 0, 0, 0, 0, 0, 0, ...</td>\n",
              "    </tr>\n",
              "  </tbody>\n",
              "</table>\n",
              "<p>314 rows × 8 columns</p>\n",
              "</div>"
            ],
            "text/plain": [
              "                                                     0  ...                                                  7\n",
              "0    [1, 0.8641790151596069, 0.8860666155815125, 0....  ...  [1, 0.8959261775016785, 0.9195967316627502, 0....\n",
              "1    [0, 1, 0.9127070307731628, 0.8643574714660645,...  ...  [0, 1, 0.9212322235107422, 0.9007315039634705,...\n",
              "2    [0, 0, 1, 0.8953666090965271, 0.92125838994979...  ...  [0, 0, 1, 0.9229073524475098, 0.91607850790023...\n",
              "3    [0, 0, 0, 1, 0.9071871638298035, 0.88244849443...  ...  [0, 0, 0, 1, 0.9083357453346252, 0.91726660728...\n",
              "4    [0, 0, 0, 0, 1, 0.9021642804145813, 0.92098158...  ...  [0, 0, 0, 0, 1, 0.8974415063858032, 0.89607673...\n",
              "..                                                 ...  ...                                                ...\n",
              "309                                                NaN  ...  [0, 0, 0, 0, 0, 0, 0, 0, 0, 0, 0, 0, 0, 0, 0, ...\n",
              "310                                                NaN  ...  [0, 0, 0, 0, 0, 0, 0, 0, 0, 0, 0, 0, 0, 0, 0, ...\n",
              "311                                                NaN  ...  [0, 0, 0, 0, 0, 0, 0, 0, 0, 0, 0, 0, 0, 0, 0, ...\n",
              "312                                                NaN  ...  [0, 0, 0, 0, 0, 0, 0, 0, 0, 0, 0, 0, 0, 0, 0, ...\n",
              "313                                                NaN  ...  [0, 0, 0, 0, 0, 0, 0, 0, 0, 0, 0, 0, 0, 0, 0, ...\n",
              "\n",
              "[314 rows x 8 columns]"
            ]
          },
          "metadata": {
            "tags": []
          },
          "execution_count": 7
        }
      ]
    },
    {
      "cell_type": "code",
      "metadata": {
        "colab": {
          "base_uri": "https://localhost:8080/",
          "height": 402
        },
        "id": "z5fpC2nTawfl",
        "outputId": "27c8e7e0-bab6-40a7-e990-420cf9d2ebec"
      },
      "source": [
        "dat"
      ],
      "execution_count": null,
      "outputs": [
        {
          "output_type": "execute_result",
          "data": {
            "text/html": [
              "<div>\n",
              "<style scoped>\n",
              "    .dataframe tbody tr th:only-of-type {\n",
              "        vertical-align: middle;\n",
              "    }\n",
              "\n",
              "    .dataframe tbody tr th {\n",
              "        vertical-align: top;\n",
              "    }\n",
              "\n",
              "    .dataframe thead th {\n",
              "        text-align: right;\n",
              "    }\n",
              "</style>\n",
              "<table border=\"1\" class=\"dataframe\">\n",
              "  <thead>\n",
              "    <tr style=\"text-align: right;\">\n",
              "      <th></th>\n",
              "      <th>Unnamed: 0</th>\n",
              "      <th>Unnamed: 0.1</th>\n",
              "      <th>SourceID</th>\n",
              "      <th>Title</th>\n",
              "      <th>TextWhereRefMention</th>\n",
              "      <th>cleaned_text</th>\n",
              "    </tr>\n",
              "  </thead>\n",
              "  <tbody>\n",
              "    <tr>\n",
              "      <th>0</th>\n",
              "      <td>0</td>\n",
              "      <td>0</td>\n",
              "      <td>176908</td>\n",
              "      <td>Urban wages and labor market agglomeration</td>\n",
              "      <td>Wheaton and Lewis, Ref{target=#b33, content=},...</td>\n",
              "      <td>Wheaton and Lewis find evidence of increasing ...</td>\n",
              "    </tr>\n",
              "    <tr>\n",
              "      <th>1</th>\n",
              "      <td>1</td>\n",
              "      <td>1</td>\n",
              "      <td>176908</td>\n",
              "      <td>NaN</td>\n",
              "      <td>Glaeser and MarÃ©, Ref{target=#b9, content=}, ...</td>\n",
              "      <td>Glaeser and MarÃ find a robust urban wage prem...</td>\n",
              "    </tr>\n",
              "    <tr>\n",
              "      <th>2</th>\n",
              "      <td>2</td>\n",
              "      <td>2</td>\n",
              "      <td>176908</td>\n",
              "      <td>NaN</td>\n",
              "      <td>[Wheeler, Ref{target=#b34, content=}, provides...</td>\n",
              "      <td>Wheeler provides empirical support for a model...</td>\n",
              "    </tr>\n",
              "    <tr>\n",
              "      <th>3</th>\n",
              "      <td>3</td>\n",
              "      <td>3</td>\n",
              "      <td>176908</td>\n",
              "      <td>The Wage Effects of Residential Location and C...</td>\n",
              "      <td>First, empirical evidence suggests that women ...</td>\n",
              "      <td>First empirical evidence suggests that women a...</td>\n",
              "    </tr>\n",
              "    <tr>\n",
              "      <th>4</th>\n",
              "      <td>4</td>\n",
              "      <td>4</td>\n",
              "      <td>176908</td>\n",
              "      <td>Race and Gender in the Labor Market</td>\n",
              "      <td>Second, women typically work fewer hours and y...</td>\n",
              "      <td>Second women typically work fewer hours and ye...</td>\n",
              "    </tr>\n",
              "    <tr>\n",
              "      <th>...</th>\n",
              "      <td>...</td>\n",
              "      <td>...</td>\n",
              "      <td>...</td>\n",
              "      <td>...</td>\n",
              "      <td>...</td>\n",
              "      <td>...</td>\n",
              "    </tr>\n",
              "    <tr>\n",
              "      <th>102024</th>\n",
              "      <td>102024</td>\n",
              "      <td>102024</td>\n",
              "      <td>30685534</td>\n",
              "      <td>Early Learning Standards: Results from a Natio...</td>\n",
              "      <td>Most US states have now developed statements o...</td>\n",
              "      <td>Most US states have now developed statements o...</td>\n",
              "    </tr>\n",
              "    <tr>\n",
              "      <th>102025</th>\n",
              "      <td>102025</td>\n",
              "      <td>102025</td>\n",
              "      <td>30685534</td>\n",
              "      <td>Inside the Content of InfantToddler Early Lear...</td>\n",
              "      <td>Most US states have now developed statements o...</td>\n",
              "      <td>Most US states have now developed statements o...</td>\n",
              "    </tr>\n",
              "    <tr>\n",
              "      <th>102026</th>\n",
              "      <td>102026</td>\n",
              "      <td>102026</td>\n",
              "      <td>30685534</td>\n",
              "      <td>Early Learning Guidelines for Infants and Todd...</td>\n",
              "      <td>[Peak bodies in the US have published recommen...</td>\n",
              "      <td>Peak bodies in the US have published recommend...</td>\n",
              "    </tr>\n",
              "    <tr>\n",
              "      <th>102027</th>\n",
              "      <td>102027</td>\n",
              "      <td>102027</td>\n",
              "      <td>30685534</td>\n",
              "      <td>Early Learning Guidelines for Infants and Todd...</td>\n",
              "      <td>the process used to develop SÃ­olta: The Natio...</td>\n",
              "      <td>the process used to develop SÃolta The Nationa...</td>\n",
              "    </tr>\n",
              "    <tr>\n",
              "      <th>102028</th>\n",
              "      <td>102028</td>\n",
              "      <td>102028</td>\n",
              "      <td>30685534</td>\n",
              "      <td>Why early care and education deserves as much ...</td>\n",
              "      <td>The evidence suggests that comprehensive and h...</td>\n",
              "      <td>The evidence suggests that comprehensive and h...</td>\n",
              "    </tr>\n",
              "  </tbody>\n",
              "</table>\n",
              "<p>102029 rows × 6 columns</p>\n",
              "</div>"
            ],
            "text/plain": [
              "        Unnamed: 0  ...                                       cleaned_text\n",
              "0                0  ...  Wheaton and Lewis find evidence of increasing ...\n",
              "1                1  ...  Glaeser and MarÃ find a robust urban wage prem...\n",
              "2                2  ...  Wheeler provides empirical support for a model...\n",
              "3                3  ...  First empirical evidence suggests that women a...\n",
              "4                4  ...  Second women typically work fewer hours and ye...\n",
              "...            ...  ...                                                ...\n",
              "102024      102024  ...  Most US states have now developed statements o...\n",
              "102025      102025  ...  Most US states have now developed statements o...\n",
              "102026      102026  ...  Peak bodies in the US have published recommend...\n",
              "102027      102027  ...  the process used to develop SÃolta The Nationa...\n",
              "102028      102028  ...  The evidence suggests that comprehensive and h...\n",
              "\n",
              "[102029 rows x 6 columns]"
            ]
          },
          "metadata": {
            "tags": []
          },
          "execution_count": 8
        }
      ]
    },
    {
      "cell_type": "code",
      "metadata": {
        "id": "5X0bJcdAo4_d"
      },
      "source": [
        "temp = df.columns"
      ],
      "execution_count": null,
      "outputs": []
    },
    {
      "cell_type": "code",
      "metadata": {
        "id": "RwOow-aFcK2L"
      },
      "source": [
        "x = dat.groupby(['SourceID']).size().reset_index(name='count')\n",
        "lis_id = x['SourceID'].values.tolist()"
      ],
      "execution_count": null,
      "outputs": []
    },
    {
      "cell_type": "code",
      "metadata": {
        "id": "YbJaHw6OcUEZ"
      },
      "source": [
        "lis_id"
      ],
      "execution_count": null,
      "outputs": []
    },
    {
      "cell_type": "markdown",
      "metadata": {
        "id": "asU-UpLoXPPk"
      },
      "source": [
        "## Community Dectection Algorithm: Leiden Algorithm"
      ]
    },
    {
      "cell_type": "code",
      "metadata": {
        "id": "G_V4uzDnySLo",
        "colab": {
          "base_uri": "https://localhost:8080/"
        },
        "outputId": "78e14778-ffb0-4573-c988-79b356d9468b"
      },
      "source": [
        "pip install cdlib[C]"
      ],
      "execution_count": null,
      "outputs": [
        {
          "output_type": "stream",
          "text": [
            "  Building wheel for infomap (setup.py) ... \u001b[?25l\u001b[?25hdone\n",
            "  Created wheel for infomap: filename=infomap-1.1.3-cp37-cp37m-linux_x86_64.whl size=5665221 sha256=39165adab02132aa3452c8d05be7aabee43ad0cfd4ab4deedce9551e7fc8d57b\n",
            "  Stored in directory: /root/.cache/pip/wheels/63/31/ca/9ed0af4c2da472ea989c966c26a6ff448b76f39cb5db82960e\n",
            "  Building wheel for leidenalg (setup.py) ... \u001b[?25l\u001b[?25hdone\n",
            "  Created wheel for leidenalg: filename=leidenalg-0.7.0-cp37-cp37m-linux_x86_64.whl size=1106818 sha256=3dfeee6e31a696f26d3c24c659878ada8bfc22144ac6fca5a0b55af29fc96dd7\n",
            "  Stored in directory: /root/.cache/pip/wheels/29/55/48/5a04693a10f50297bcda23819ca23ab3470a61dd911851c8bd\n",
            "  Building wheel for python-igraph (setup.py) ... \u001b[?25l\u001b[?25hdone\n",
            "  Created wheel for python-igraph: filename=python_igraph-0.7.1.post6-cp37-cp37m-linux_x86_64.whl size=2230025 sha256=33871005581e486ae0abd560ef29650b05c1330b5e17b5e15df96dca6487c7df\n",
            "  Stored in directory: /root/.cache/pip/wheels/41/d6/02/34eebae97e25f5b87d60f4c0687e00523e3f244fa41bc3f4a7\n",
            "Successfully built karateclub python-louvain infomap leidenalg python-igraph\n",
            "Installing collected packages: multivalued-dict, shuffle-graph, count-dict, ASLPAw, python-louvain, pygsp, gensim, karateclub, markov-clustering, nf1, omega-index-py3, chinese-whispers, pquality, bimlpa, dynetx, demon, amply, pulp, eva-lcd, python-igraph, angel-cd, infomap, leidenalg, wurlitzer, cdlib\n",
            "  Found existing installation: python-louvain 0.15\n",
            "    Uninstalling python-louvain-0.15:\n",
            "      Successfully uninstalled python-louvain-0.15\n",
            "  Found existing installation: gensim 3.6.0\n",
            "    Uninstalling gensim-3.6.0:\n",
            "      Successfully uninstalled gensim-3.6.0\n",
            "Successfully installed ASLPAw-2.0.0 amply-0.1.4 angel-cd-1.0.2 bimlpa-0.1.2 cdlib-0.2.0 chinese-whispers-0.7.4 count-dict-1.1.1 demon-2.0.5 dynetx-0.2.4 eva-lcd-0.1.0 gensim-3.8.3 infomap-1.1.3 karateclub-1.0.24 leidenalg-0.7.0 markov-clustering-0.0.6.dev0 multivalued-dict-2.0.1 nf1-0.0.3 omega-index-py3-0.3 pquality-0.0.7 pulp-2.4 pygsp-0.5.1 python-igraph-0.7.1.post6 python-louvain-0.14 shuffle-graph-1.1.1 wurlitzer-2.1.0\n"
          ],
          "name": "stdout"
        }
      ]
    },
    {
      "cell_type": "code",
      "metadata": {
        "id": "re6MA5-pXy1b"
      },
      "source": [
        "!pip install networkx==2.0"
      ],
      "execution_count": null,
      "outputs": []
    },
    {
      "cell_type": "code",
      "metadata": {
        "id": "wJc1YmbqxRpg"
      },
      "source": [
        "import ast\n",
        "import matplotlib.pyplot as plt\n",
        "from cdlib import algorithms, viz\n",
        "import numpy as np\n",
        "import pkg_resources\n",
        "pkg_resources.require(\"networkx==2.0\")\n",
        "import networkx as nx"
      ],
      "execution_count": null,
      "outputs": []
    },
    {
      "cell_type": "code",
      "metadata": {
        "id": "rmM8lrvfqNOA"
      },
      "source": [
        "def leiden_community(temp, df):\n",
        "  leiden_clusters =[]\n",
        "  for i in range(len(temp)):\n",
        "    similarity=[]\n",
        "    bool_series = pd.isnull(df[i])\n",
        "    for j in range(len(df[i])):\n",
        "      if(bool_series[j]==False):\n",
        "        x = ast.literal_eval(df[i][j])\n",
        "        similarity.append(x)\n",
        "    \n",
        "    arr = np.array(similarity)\n",
        "    G = nx.Graph()\n",
        "\n",
        "    for k in range(len(similarity)):\n",
        "      G.add_node(k)\n",
        "\n",
        "    for l in range(len(similarity)):\n",
        "      for m in range(l, len(similarity)):\n",
        "        G.add_edge(l, m, weight=arr[l][m] )\n",
        "    \n",
        "    coms = algorithms.louvain(G)\n",
        "    leiden_clusters.append(coms.communities)\n",
        "  return leiden_clusters"
      ],
      "execution_count": null,
      "outputs": []
    },
    {
      "cell_type": "code",
      "metadata": {
        "id": "BefQ7H9cyLN8"
      },
      "source": [
        "leiden_clusters = leiden_community(temp, df)"
      ],
      "execution_count": null,
      "outputs": []
    },
    {
      "cell_type": "code",
      "metadata": {
        "id": "B6XudidebGtU"
      },
      "source": [
        "tot = 10\n",
        "liden_summary_list = []\n",
        "for i in range(len(leiden_clusters)):\n",
        "  temp_data = dat.loc[dat['SourceID'] == lis_id[i]]\n",
        "  temp_data = temp_data.drop_duplicates(subset='cleaned_text', keep=\"first\")\n",
        "  temp_data = temp_data.reset_index(drop=True)\n",
        "  inc = 0\n",
        "  liden_summary = []\n",
        "  for j in range(len(leiden_clusters[i])):\n",
        "    if(inc <=tot):\n",
        "      liden_summary.append(temp_data['cleaned_text'][leiden_clusters[i][j][0]])\n",
        "      inc = inc + 1\n",
        "  liden_summary= '. '.join(liden_summary)\n",
        "  liden_summary_list.append(liden_summary)\n",
        "\n"
      ],
      "execution_count": null,
      "outputs": []
    },
    {
      "cell_type": "code",
      "metadata": {
        "colab": {
          "base_uri": "https://localhost:8080/"
        },
        "id": "dU_eu1okeMyd",
        "outputId": "78773b58-da2c-4407-8250-024aab5c9c63"
      },
      "source": [
        "liden_summary_list"
      ],
      "execution_count": null,
      "outputs": [
        {
          "output_type": "execute_result",
          "data": {
            "text/plain": [
              "['It has been said often but apparently not often enough that in transport things cannot go on as they have before. The current UK government has made many steps in rejecting the myth of the great car economy but the performance of their policies has been ambiguous. Associated with traffic congestion are the related problems of air pollution emissions of CO 2 and other greenhouse gases together with more subtle lifestyle effects such as contributing to less healthy lifestyles and transport poverty. Conclusions from many studies have supported the idea of implementing policy packages. Whether it is termed as policy packages or integrated strategies this study does not make a distinction strategically exemplified integration in five different ways. In Scotland the Integrated Transport Bill TSO included proposals for congestion charging. This form of learning will involve a coevolutionary learning that will draw in the partners and actors involved in the scheme but also third parties like governments that can help in the institutional and societal embedding. In the UK context this has been illustrated recently in the Eddington report. Some academics have reported thoroughly the unsustainability of current transport practices. The topic of merging policy measures into policy packages has been previously addressed. A recent action by the UK government was the creation of the Transport Innovation Fund to support experiments with a package of policies including road pricing',\n",
              " 'Concentric microdialysis probes incorporating a recording electrode AN69 Hospal membrane 025mm outer diameter Ã 1mm fiber length type MEH1 Applied Neuroscience Ltd London UK were implanted in the frontoparietal cortex coordinates 13 to 15 mm anterior to bregma 2 mm lateral and 14 to 15 mm deep from the cortical surface and held in place with ac rylic dental cement embedding two small stainlesssteel skull screws used as anchor. Indeed druginduced changes in arterial blood pressure could have altered the magnitude of hyperperfusion associated with K induced increase in brain energy demand thereby influencing acidâbase homeostasis and acidosis is known to inhibit both NMDAreceptor function and CSD. To minimize any possible interference of halothane anesthesia with the processes under study once the surgical procedure had been completed the depth of anesthesia was carefully controlled by monitoring the EEG and arterial blood pressure and the concentration of halothane in the breathing mixture kept to a minimum 15 to 175. It is relevant to note that halothane did not interfere with neuronal NOSmediated control of CBF in a previous study. These electrophysiologic variables were derived from the potential between the electrode built into the microdialysis probe and a silversilver chloride reference electrode placed under the scalp. Previous studi es showed that such a high concentration of K is required to evoke consistent periodic CSD under these experimental conditions possibly because of the efficient uptake of K by brain cells and because a minimum volume of tissue approximately 1 mm 3 has to be depolarized for successful CSD elicitation. The range of Larginine concentrations tested was reversed ie highest concentration applied first because LNAME has a much higher affinity for NOS than Larginine and series 1 showed that the effects of LNAME on CSD persisted for more than 40 minutes. As in previous studies drug effects on the cortex susceptibility to repeated CSD elicited by K series 1 were assessed through the a nalysis of changes in the following variables number of CSD elicited N cumulative CSD area A in millivolts Ã minute and latency for occurrence of first CSD L in minutes. As in previous studies based on the same experimental protocol the subsequent K stimuli were progressively less effective in triggering CSD as shown by the reduced number of CSD elicited reduced cumulative area and prolonged latency bar charts. Indeed each CSD is followed by a refractory period during which the elicitation of subsequent CSD is inhibited and the refractory period is likely to be prolonged by longerlasting CSD as a result of more pronounced disruption of cellular ionic homeostasis and metabolism. In other terms the full effect of the concentration of LNAME tested on CSD required its application in association with a previous CSD thus suggesting activationdependent inhibition of NOS or the presence of preformed pools of NOcontaining factors',\n",
              " 'Conversely MMP11 expression is related to local lymph node tumor invasion. This observation is in agreement with previous studies of cutaneous and oral SCC in which MMP10 was not associated with malignant cell invasion. However as the number of MMPs identifie d and their respective substrates has grown a sequential numbering system for their identity is now being adopted and the MMPs are now grouped according to their structure. All MMPs are produced as inactive zymogens proMMPs which must be subsequently activated by removal of the propeptide domain to generate catalytically active MMPs. Unlike several other MMPs that are localised predominantly in tumor stroma tumor cells themselv es appear to express MMP10. A central role for MMP10 in this process is demonstrated by its ability to cleave several proMMPs including MMP1 MMP7 MMP8 MMP9 and MMP13. In order that a tumor may grow spread and metastasise it must possess the ability to breakdown and degrade both the extracellular matrix ECM and basement membranes promote an angiogenic response evade immune surveillance and avoid elimination. Activation of MMPs is regulated at two levels within tissues transcriptionally in response Abbreviations NSCLC non small cell lung carcinoma MMP matrix metalloproteinase Address all correspondence to Dr Jason H Gill Cancer Research UK Laboratories and proteolytically at the level of proMMP activation. Once secreted and activated MMP activity is regulated in situ by endogenous inhibitors termed tissue inhibitors of metalloproteinase TIMPs. The observation that MMP3 is expressed throughout the majority of these tumors suggested that it may be a central regulator of local growth of the neoplastic cell mass. Although MMP10 is closely related to MMP3 with respect to structure and substrate specificity differences in inducibility activity and cellular distribution exist suggesting distinct roles for both MMP3 and MMP10',\n",
              " 'Selection depends on specific requirements and determines the likelihood of an individual succeeding in their role. A recent survey by the European Foundation for the Improvement of Living and Working Conditions found that 29 percent of women and 28 percent of men reported that their work was causing them stress. The deficiency of strategic level intervention studies has been an impediment to improving our knowledge of workrelated stress. It is widely recognised that stress is dynamic and therefore within an organisational context it needs to be continually evaluated and reviewed if organisations are to sustain and develop employee health and well being. The effects of workrelated stress both to individuals and organisations are extensive. Work organisation and work surroundings may inhibit employees from efficiently carrying out their daily responsibilities and can subject individuals to hazardous situations. This practice enables participants to take charge over emotional behaviours. Limiting uncertainty through strategic planning and communicating effectively any aspects of organisational change are the foundations of organisational effectiveness. These include Apart from specific Acts of Parliament recent common law cases have highlighted the employers du ty of care to protect employees from personal injury resulting from psychiatric damage and of potential legal liability if they fail to fulfil their obligations. There is now increasing interest for stress to be investigated from an organisational perspective so that it can be dealt with at the environmental level too. These can be referred to as primary secondary and tertiary levels of stress intervention',\n",
              " 'CAM is now used widely in many western populations especially for the maintenance of general health and the treatment of long term and medically intractable condi tions. Bradford is the fifth largest metropolitan district in the UK and the eighth most socioeconomically deprived health community. The European Standard population age bands were used based on previous epidemiological research. Previously he had visited a pir visiting from Pakistan who had diagnosed the problem as saya literally meaning shadow â the belief that some evil spirit or individual has cast his or her shadow on the patient and given him some verses to read in Farsi. The United Kingdom UK in common with other western societies is characterised by a plural health care system comprising the dominant biomedical sector with services delivered through the National Health Service NHS and by private providers and a growing sector of socall ed complementary and alternative therapies CAM delivered by an array of mainly private providers although there is increasing collaboration and interpenetration between the two sectors. In the context of Bradford a city in the north of England in which the study was undertaken we can add a third sector that of traditional South Asian therapists operating in parallel to but separately from the other two and without the global reach of biomedicine or global CAM. Epilepsy might be considered a prime candidate for the use of CAM as it is a chronic condition for which there is no medical cure which may be medically intractable or for which conventional medication in the form of anticonvulsive drugs may offer only partial control. Studies have shown that in western countries a significant proportion of people with epilepsy use CAM specifically for epilepsy usually in conjunction with rather than in place of conventional anticonvulsive therapy and often without telling their doctors. Religious grouping provides a robust framework for reflecting some of this diversity and to a large extent can be correlated with socioeconomic position. Whether this is carried out by a conscientious lone researcher by a team or by involving independent experts is immaterial what matters is that a systematic process is followed. All those who had sought additional treatment had experienced continued seizures despite compliance with medication and many gave a sense of desperation as their main motivation',\n",
              " 'This is supported by the results of a study undertaken before the use of gloves by HCWs became common practice which reported that 15 of nurses working in an isolation unit carried a median of 10 4 cfu of S aureus on their hands and 29 of nurses working in a general hospital had a median count of 38 Ã 10 3 cfu. Hand hygiene is generally considered to be the most important measure that can be applied to prevent the spread of healthcareassociated infection HAI. While it is undoubtedly the case that improved hand hygiene is beneficial there is growing evidence that increased compliance may not yield the hoped for results. Accordingly Austin et al used values of p 040 and p 006 which equates to a combined p Ã p value of 0024. In a study of clean activities such as lifting patients palpation of pulses or during sphygmomanometry Casewell and Phillips found that nurses could contaminate their hands with 100â1000 colony forming units cfu of Klebsiella spp. Girou et al for example found that hand rubbing with a 75 alcoholbased solution resulted in a median percentage reduction in bacterial contamination of 83 compared with a reduction of only 58 when washing with medicated soap. In order to permit direct comparison with Cooper et al we used the same data and simulated the same general medical ward as they did. In keeping with Cooper et al we assumed the probability of a HCW contaminating their hands or a patient becoming colonized after each HCWpatient contact ie the transmissibility value to be 01. Again this confirms the findings of Cooper et al who found transmissibility to be the single most influential variable in their study. For example using dynamic transmission models Cooper et al and McBryde et al found that the law of diminishing returns applies to hand hygiene with the g reatest benefits occurring in the first 20 or so of compliance. Furthermore Austin et al and Beggs et al demonstrated that poor cohorting of nursing staff profoundly influences the effectiveness of hand hygiene measures',\n",
              " 'Three types of stimulus were used each one designed to activate a single postreceptoral mechanism namely either the LM the SL M or the L M all defined in the MBDKL colour space. In other words all stimuli were magnified version s of each other â conforming to a method of spatial scaling. Justification for this is that close to threshold contrast the parts of the Gaussianwindowed stimuli away from the stimulus centre fall below threshold and the perceptual spatial extent of the patch converges to the peak. Extrapolation of the data to the abscissa reveals the highest resolvable spatial frequencies for the three stimuli which are quantitatively in agreement with previous studies. The eccentricity dependence of the data can be accounted for by applying scaling factors to the peripheral curves in order to superimpose them upon the foveal function. The function to describe the scaled colour or contrast sensitivity of the three postreceptoral mechanisms was a version of a contrast sensitivity function used by namely. For chromatic isoluminant gratings the spatial contrast sensitivity function is lowpass in shape sensitivity is constant at low spatial frequencies but decreases at medium and high frequencies. For many years the loss of colour perception in peripheral vision was interpreted as evidence for functional qualitative differences between central and peripheral visual processing. Whilst more recent investigators recognized the critical importance of stimulus size in equating colour perception across the visual field the view of foveal specialization for chromatic sensitivity persists. This is exactly what previous studies have found who examined a spatial frequency of 03 c deg âˆ1. In our defence we could point out that the central 20 deg accounts for approximately 70 of the retinal ganglion cell population',\n",
              " 'One message among many that we hope to convey to readers is that we have made strong advances in our understanding of the factors that lead to rodent outbreaks see also. Melocanna bamboo forests cover huge areas of northeastern India and surrounding areas of Bangladesh Myanmar and Nepal with a total area in India alone probably in excess of 26615 km 2. The average annual rainfall measured at Aizawl is 208 cm Government of. They include both herbaceous soft and grasslike and woody hard and treelike forms and can grow either from a simple root stock monopodial or from a root stock that includes specialized roots called rhizomes that allow the plant to expand belowground sympodial with culms arising from nodes along the rhizomes. Instead we refer readers to two excellent reviews that provide detailed coverage of bamboomasting events ratadas in Argentina Brazil Chile and Peru and other factors that have generated outbreaks in South America. In the South American context previous analyses of these phenomena eg Jaksic and Lima 2003 relied entirely on secondhand sources and it was only very recently that an ecological study of a bamboo fl oweringassociated ratada was completed. Strangely although these beliefs are given a high level of credence and they have a high profi le in the Indian literature on forest ecology and rodent management outside of this context the phenomenon has usually been reported with varying degrees of skepticism Soderstrom and CalderÃ³n 1979 Singleton and Petch 1994 citing W Roder or more often simply ignored. Since 1998 farmers have increased their efforts in rodent management by several means including the use of trap s digging of burrows plastic fences with multiplecapture traps and chemical rodenticides. Diseases such as mouse parvovirus can be inferred to be signifi cant in precipitating the decline phase of an outbreak when densities are dropping too rapidly to suspect any other cause']"
            ]
          },
          "metadata": {
            "tags": []
          },
          "execution_count": 52
        }
      ]
    },
    {
      "cell_type": "markdown",
      "metadata": {
        "id": "vSs5mV9ZXf6h"
      },
      "source": [
        "## Agglomerative Cluster"
      ]
    },
    {
      "cell_type": "code",
      "metadata": {
        "id": "pVV4lnhMAbwL"
      },
      "source": [
        "!pip install agglomcluster\n"
      ],
      "execution_count": null,
      "outputs": []
    },
    {
      "cell_type": "code",
      "metadata": {
        "id": "qxybcW5AAaMl"
      },
      "source": [
        "import networkx as nx\n",
        "from hac import GreedyAgglomerativeClusterer"
      ],
      "execution_count": null,
      "outputs": []
    },
    {
      "cell_type": "code",
      "metadata": {
        "id": "qeurU4as9t8R"
      },
      "source": [
        "clusterer = GreedyAgglomerativeClusterer()\n",
        "greedy_cluster = []\n",
        "for i in range(len(temp)):\n",
        "    similarity=[]\n",
        "    bool_series = pd.isnull(df[i])\n",
        "    for j in range(len(df[i])):\n",
        "      if(bool_series[j]==False):\n",
        "        x = ast.literal_eval(df[i][j])\n",
        "        similarity.append(x)\n",
        "    \n",
        "    arr = np.array(similarity)\n",
        "    G = nx.Graph()\n",
        "\n",
        "    for k in range(len(similarity)):\n",
        "      G.add_node(k)\n",
        "\n",
        "    for l in range(len(similarity)):\n",
        "      for m in range(l, len(similarity)):\n",
        "        G.add_edge(l, m, weight=arr[l][m] )\n",
        "    \n",
        "    alggo_dendro = clusterer.cluster(G)\n",
        "    greedy_cluster.append(alggo_dendro.clusters())"
      ],
      "execution_count": null,
      "outputs": []
    },
    {
      "cell_type": "code",
      "metadata": {
        "id": "1MeuqUAl_k6a"
      },
      "source": [
        "siz = 10\n",
        "greedy_summary_list=[]\n",
        "for i in range(len(greedy_cluster)):\n",
        "  temp_data = dat.loc[dat['SourceID'] == lis_id[i]]\n",
        "  temp_data = temp_data.drop_duplicates(subset='cleaned_text', keep=\"first\")\n",
        "  temp_data = temp_data.reset_index(drop=True)\n",
        "  greedy_summary = []\n",
        "  num = siz/len(greedy_cluster[i])\n",
        "  num = int(round(num)) \n",
        "  for j in range(len(greedy_cluster[i])):\n",
        "    for k in range(num):\n",
        "      greedy_summary.append(temp_data['cleaned_text'][list(greedy_cluster[i][j])[k]])\n",
        "  greedy_summary= '. '.join(greedy_summary)\n",
        "  greedy_summary_list.append(greedy_summary)"
      ],
      "execution_count": null,
      "outputs": []
    },
    {
      "cell_type": "code",
      "metadata": {
        "colab": {
          "base_uri": "https://localhost:8080/"
        },
        "id": "Zeo4ux6skVkI",
        "outputId": "cea78f58-1581-4acf-fb6c-759d2005401b"
      },
      "source": [
        "greedy_summary_list"
      ],
      "execution_count": null,
      "outputs": [
        {
          "output_type": "execute_result",
          "data": {
            "text/plain": [
              "['It has been said often but apparently not often enough that in transport things cannot go on as they have before. In the UK context this has been illustrated recently in the Eddington report. The current UK government has made many steps in rejecting the myth of the great car economy but the performance of their policies has been ambiguous. Associated with traffic congestion are the related problems of air pollution emissions of CO 2 and other greenhouse gases together with more subtle lifestyle effects such as contributing to less healthy lifestyles and transport poverty. Some academics have reported thoroughly the unsustainability of current transport practices. The topic of merging policy measures into policy packages has been previously addressed. Conclusions from many studies have supported the idea of implementing policy packages. Whether it is termed as policy packages or integrated strategies this study does not make a distinction strategically exemplified integration in five different ways. A recent action by the UK government was the creation of the Transport Innovation Fund to support experiments with a package of policies including road pricing. This document influenced policy and research and geared them towards the idea of an integrated transport system',\n",
              " 'Concentric microdialysis probes incorporating a recording electrode AN69 Hospal membrane 025mm outer diameter Ã 1mm fiber length type MEH1 Applied Neuroscience Ltd London UK were implanted in the frontoparietal cortex coordinates 13 to 15 mm anterior to bregma 2 mm lateral and 14 to 15 mm deep from the cortical surface and held in place with ac rylic dental cement embedding two small stainlesssteel skull screws used as anchor. Indeed druginduced changes in arterial blood pressure could have altered the magnitude of hyperperfusion associated with K induced increase in brain energy demand thereby influencing acidâbase homeostasis and acidosis is known to inhibit both NMDAreceptor function and CSD. To minimize any possible interference of halothane anesthesia with the processes under study once the surgical procedure had been completed the depth of anesthesia was carefully controlled by monitoring the EEG and arterial blood pressure and the concentration of halothane in the breathing mixture kept to a minimum 15 to 175. It is relevant to note that halothane did not interfere with neuronal NOSmediated control of CBF in a previous study. These electrophysiologic variables were derived from the potential between the electrode built into the microdialysis probe and a silversilver chloride reference electrode placed under the scalp. Previous studi es showed that such a high concentration of K is required to evoke consistent periodic CSD under these experimental conditions possibly because of the efficient uptake of K by brain cells and because a minimum volume of tissue approximately 1 mm 3 has to be depolarized for successful CSD elicitation. The range of Larginine concentrations tested was reversed ie highest concentration applied first because LNAME has a much higher affinity for NOS than Larginine and series 1 showed that the effects of LNAME on CSD persisted for more than 40 minutes. As in previous studies drug effects on the cortex susceptibility to repeated CSD elicited by K series 1 were assessed through the a nalysis of changes in the following variables number of CSD elicited N cumulative CSD area A in millivolts Ã minute and latency for occurrence of first CSD L in minutes. As in previous studies based on the same experimental protocol the subsequent K stimuli were progressively less effective in triggering CSD as shown by the reduced number of CSD elicited reduced cumulative area and prolonged latency bar charts. Indeed each CSD is followed by a refractory period during which the elicitation of subsequent CSD is inhibited and the refractory period is likely to be prolonged by longerlasting CSD as a result of more pronounced disruption of cellular ionic homeostasis and metabolism',\n",
              " 'In order that a tumor may grow spread and metastasise it must possess the ability to breakdown and degrade both the extracellular matrix ECM and basement membranes promote an angiogenic response evade immune surveillance and avoid elimination. However as the number of MMPs identifie d and their respective substrates has grown a sequential numbering system for their identity is now being adopted and the MMPs are now grouped according to their structure. Currently the MMPs are classified into eight distinct groups with MMP10 now being classified into the simple hemopexin domain structural class. All MMPs are produced as inactive zymogens proMMPs which must be subsequently activated by removal of the propeptide domain to generate catalytically active MMPs. Activation of MMPs is regulated at two levels within tissues transcriptionally in response Abbreviations NSCLC non small cell lung carcinoma MMP matrix metalloproteinase Address all correspondence to Dr Jason H Gill Cancer Research UK Laboratories and proteolytically at the level of proMMP activation. Once secreted and activated MMP activity is regulated in situ by endogenous inhibitors termed tissue inhibitors of metalloproteinase TIMPs. Therefore within tissues the balance between proMMP active MMP and TIMPs determines the overall MMP activity. The observation that MMP3 is expressed throughout the majority of these tumors suggested that it may be a central regulator of local growth of the neoplastic cell mass. Conversely MMP11 expression is related to local lymph node tumor invasion. Although MMP10 is closely related to MMP3 with respect to structure and substrate specificity differences in inducibility activity and cellular distribution exist suggesting distinct roles for both MMP3 and MMP10',\n",
              " 'A recent survey by the European Foundation for the Improvement of Living and Working Conditions found that 29 percent of women and 28 percent of men reported that their work was causing them stress. However extreme persistent and unrelieved pressure can lead to stress and feelings of anger fear and frustration and cause a variety of shortterm and longterm illnesses with damaging effects on individual mental and physical well being. The effects of workrelated stress both to individuals and organisations are extensive. Workrelated stress may affect individuals physiologically psychologically and behaviourally and outcomes include lower levels of selfesteem job satisfaction and motivation as well as higher blood and cholesterol levels depression ulcers and heart disease. Furthermore depression and anxiety are the most common stressrelated complaints presented to general practitioners and are reported to affect twenty percent of the working population in the United Kingdom and one in every six Americans. Symptoms of stress not only cause individuals considerable suffering and distress there is a substantial burden on the community as well as significant effects on absenteeism and productivity within organisations. It is widely recognised that stress is dynamic and therefore within an organisational context it needs to be continually evaluated and reviewed if organisations are to sustain and develop employee health and well being. These include Apart from specific Acts of Parliament recent common law cases have highlighted the employers du ty of care to protect employees from personal injury resulting from psychiatric damage and of potential legal liability if they fail to fulfil their obligations. Although organisations are investing substantially in stress management programmes such as stress management training they currently lack understanding of the sources of strain and of effective strategies to deal with particular stressors. Stress management programmes are unlikely to maintain employee health and wellbeing without procedures in place for reducing or preventing environmental stressors as they attempt to empower individuals to deal with demanding situations and to develop their coping skills',\n",
              " 'The United Kingdom UK in common with other western societies is characterised by a plural health care system comprising the dominant biomedical sector with services delivered through the National Health Service NHS and by private providers and a growing sector of socall ed complementary and alternative therapies CAM delivered by an array of mainly private providers although there is increasing collaboration and interpenetration between the two sectors. In the context of Bradford a city in the north of England in which the study was undertaken we can add a third sector that of traditional South Asian therapists operating in parallel to but separately from the other two and without the global reach of biomedicine or global CAM. CAM is now used widely in many western populations especially for the maintenance of general health and the treatment of long term and medically intractable condi tions. Epilepsy might be considered a prime candidate for the use of CAM as it is a chronic condition for which there is no medical cure which may be medically intractable or for which conventional medication in the form of anticonvulsive drugs may offer only partial control. Studies have shown that in western countries a significant proportion of people with epilepsy use CAM specifically for epilepsy usually in conjunction with rather than in place of conventional anticonvulsive therapy and often without telling their doctors. The most common CAM therapies used in the treatment of epilepsy include mindbody therapies such as reiki and yoga biologic based therapies such as herbal remedies dietary supplements and homeopathy manipulativebased therapies such as chiropractic. The web sites of the National Society for Epilepsy UK and Epilepsy Action UK devote whole sections to CAM including relaxation therapies aromatherapy acupuncture reflexology biofeedback homeopathy herbal medicine Ayurveda nutritional supplements and diet. CAM use is known to vary between different cultural contexts for example people with epilepsy in the United States of America are more likely to turn to prayer and other forms of religious healing than their UK counterparts. The Bradford study explored the use of ethnomedicine in a western urban context whereas previous studies of the use of ethnomedicine in relation to epilepsy have tended to be of traditional nonwestern societies. Bradford is the fifth largest metropolitan district in the UK and the eighth most socioeconomically deprived health community',\n",
              " 'Hand hygiene is generally considered to be the most important measure that can be applied to prevent the spread of healthcareassociated infection HAI. This has lead to the widespread opinion that HAI rates can be greatly reduced by increased hand hygiene compliance alone with the result that healthcare authorities around the world have vigorously promoted hand hygiene as the preeminent measure in controlling HAI. While it is undoubtedly the case that improved hand hygiene is beneficial there is growing evidence that increased compliance may not yield the hoped for results. For example using dynamic transmission models Cooper et al and McBryde et al found that the law of diminishing returns applies to hand hygiene with the g reatest benefits occurring in the first 20 or so of compliance. Furthermore Austin et al and Beggs et al demonstrated that poor cohorting of nursing staff profoundly influences the effectiveness of hand hygiene measures. Moreover Grundmann et al found that during periods of understaffing it is necessary to greatly increase the frequency of hand cleansing in order to prevent outbreaks of infection. In order to investigate this issue further we constructed a deterministic RossMacdonald model to analyse the hypothetical general medical ward presented by Cooper et al who found that hand hygiene compliance levels 30 made little impact on the prevalence of Staphylococcus aureus infection on the ward. Since Ignaz Semmelweis reported in 1847 that the incidence of puerperal fever in an obstetric unit could be drastically reduced through handwashing cleansing of hands has been the principal measure employed in hospitals to reduce HAI. Until recently hand cleansing was achieved through the use of soap and water a time con suming and sometimes inefficient process. Despite this levels of hand hygiene compliance remain low typically 50',\n",
              " 'Three types of stimulus were used each one designed to activate a single postreceptoral mechanism namely either the LM the SL M or the L M all defined in the MBDKL colour space. In other words all stimuli were magnified version s of each other â conforming to a method of spatial scaling. Justification for this is that close to threshold contrast the parts of the Gaussianwindowed stimuli away from the stimulus centre fall below threshold and the perceptual spatial extent of the patch converges to the peak. Extrapolation of the data to the abscissa reveals the highest resolvable spatial frequencies for the three stimuli which are quantitatively in agreement with previous studies. The eccentricity dependence of the data can be accounted for by applying scaling factors to the peripheral curves in order to superimpose them upon the foveal function. The function to describe the scaled colour or contrast sensitivity of the three postreceptoral mechanisms was a version of a contrast sensitivity function used by namely. For chromatic isoluminant gratings the spatial contrast sensitivity function is lowpass in shape sensitivity is constant at low spatial frequencies but decreases at medium and high frequencies. For many years the loss of colour perception in peripheral vision was interpreted as evidence for functional qualitative differences between central and peripheral visual processing. Whilst more recent investigators recognized the critical importance of stimulus size in equating colour perception across the visual field the view of foveal specialization for chromatic sensitivity persists. This is exactly what previous studies have found who examined a spatial frequency of 03 c deg âˆ1',\n",
              " 'Instead we refer readers to two excellent reviews that provide detailed coverage of bamboomasting events ratadas in Argentina Brazil Chile and Peru and other factors that have generated outbreaks in South America. Strangely although these beliefs are given a high level of credence and they have a high profi le in the Indian literature on forest ecology and rodent management outside of this context the phenomenon has usually been reported with varying degrees of skepticism Soderstrom and CalderÃ³n 1979 Singleton and Petch 1994 citing W Roder or more often simply ignored. In the Asian context the one fi eld study of rodent populations during a bamboo fl owering event failed to produce evidence of large increases in rodent numbers or of extensive population movements of the kind often mentioned in the anecdotal accounts. In the South American context previous analyses of these phenomena eg Jaksic and Lima 2003 relied entirely on secondhand sources and it was only very recently that an ecological study of a bamboo fl oweringassociated ratada was completed. Melocanna bamboo forests cover huge areas of northeastern India and surrounding areas of Bangladesh Myanmar and Nepal with a total area in India alone probably in excess of 26615 km 2. One message among many that we hope to convey to readers is that we have made strong advances in our understanding of the factors that lead to rodent outbreaks see also. The latter is an important issue because many crop protection specialists and policymakers are surprised when rodent special ists indicate that less than 10 of rodent species are pests of agriculture and we stress that nonpest rodent species can provide important ecosystem services see. This rodent management paradigm has now taken center stage in Asia Australia and eastern Africa and is a common theme in the contributions in this book. We have proposed four directions for future research that have emerged from the contributions on rodent outbreaks their causes their impacts and their management. Rather tellingly recent reviews of the impacts of resource pulses on natural systems contain scant reference to what might be some of the most dramatic and largescale examples of this ecological phenomenon']"
            ]
          },
          "metadata": {
            "tags": []
          },
          "execution_count": 80
        }
      ]
    },
    {
      "cell_type": "markdown",
      "metadata": {
        "id": "rGLKN7ePmC8h"
      },
      "source": [
        "## Evaluation: ROUGE"
      ]
    },
    {
      "cell_type": "code",
      "metadata": {
        "id": "TUhqAj_CmOuo"
      },
      "source": [
        "pip install rouge"
      ],
      "execution_count": null,
      "outputs": []
    },
    {
      "cell_type": "code",
      "metadata": {
        "id": "FU-IIjxLllI8"
      },
      "source": [
        "from rouge import Rouge\n",
        "rouge = Rouge()"
      ],
      "execution_count": null,
      "outputs": []
    },
    {
      "cell_type": "code",
      "metadata": {
        "id": "Jb2nv9STnRR0"
      },
      "source": [
        "ref = pd.read_csv('/content/Reference.csv')"
      ],
      "execution_count": null,
      "outputs": []
    },
    {
      "cell_type": "code",
      "metadata": {
        "id": "ewMsVHQcmSmo"
      },
      "source": [
        "leiden_score =  rouge.get_scores(liden_summary_list, list( ref['Abstract'][0:8]), avg=True)\n",
        "greedy_score = rouge.get_scores(greedy_summary_list, list( ref['Abstract'][0:8]), avg=True)\n"
      ],
      "execution_count": null,
      "outputs": []
    },
    {
      "cell_type": "code",
      "metadata": {
        "colab": {
          "base_uri": "https://localhost:8080/",
          "height": 136
        },
        "id": "PI-yf_Dpqp9J",
        "outputId": "11ea3044-73b6-4202-8d9c-935353dac275"
      },
      "source": [
        "## Leiden Algorithm\n",
        "tab = pd.DataFrame(leiden_score)\n",
        "tab"
      ],
      "execution_count": null,
      "outputs": [
        {
          "output_type": "execute_result",
          "data": {
            "text/html": [
              "<div>\n",
              "<style scoped>\n",
              "    .dataframe tbody tr th:only-of-type {\n",
              "        vertical-align: middle;\n",
              "    }\n",
              "\n",
              "    .dataframe tbody tr th {\n",
              "        vertical-align: top;\n",
              "    }\n",
              "\n",
              "    .dataframe thead th {\n",
              "        text-align: right;\n",
              "    }\n",
              "</style>\n",
              "<table border=\"1\" class=\"dataframe\">\n",
              "  <thead>\n",
              "    <tr style=\"text-align: right;\">\n",
              "      <th></th>\n",
              "      <th>rouge-1</th>\n",
              "      <th>rouge-2</th>\n",
              "      <th>rouge-l</th>\n",
              "    </tr>\n",
              "  </thead>\n",
              "  <tbody>\n",
              "    <tr>\n",
              "      <th>f</th>\n",
              "      <td>0.335089</td>\n",
              "      <td>0.067916</td>\n",
              "      <td>0.221852</td>\n",
              "    </tr>\n",
              "    <tr>\n",
              "      <th>p</th>\n",
              "      <td>0.309643</td>\n",
              "      <td>0.066119</td>\n",
              "      <td>0.198215</td>\n",
              "    </tr>\n",
              "    <tr>\n",
              "      <th>r</th>\n",
              "      <td>0.383420</td>\n",
              "      <td>0.072752</td>\n",
              "      <td>0.262998</td>\n",
              "    </tr>\n",
              "  </tbody>\n",
              "</table>\n",
              "</div>"
            ],
            "text/plain": [
              "    rouge-1   rouge-2   rouge-l\n",
              "f  0.335089  0.067916  0.221852\n",
              "p  0.309643  0.066119  0.198215\n",
              "r  0.383420  0.072752  0.262998"
            ]
          },
          "metadata": {
            "tags": []
          },
          "execution_count": 116
        }
      ]
    },
    {
      "cell_type": "code",
      "metadata": {
        "colab": {
          "base_uri": "https://localhost:8080/",
          "height": 136
        },
        "id": "pGW3O1ANs23s",
        "outputId": "6cec2183-acab-4f8b-eb6b-4d6bd6aee922"
      },
      "source": [
        "## Agglomerative Cluster\n",
        "tab = pd.DataFrame(greedy_score)\n",
        "tab"
      ],
      "execution_count": null,
      "outputs": [
        {
          "output_type": "execute_result",
          "data": {
            "text/html": [
              "<div>\n",
              "<style scoped>\n",
              "    .dataframe tbody tr th:only-of-type {\n",
              "        vertical-align: middle;\n",
              "    }\n",
              "\n",
              "    .dataframe tbody tr th {\n",
              "        vertical-align: top;\n",
              "    }\n",
              "\n",
              "    .dataframe thead th {\n",
              "        text-align: right;\n",
              "    }\n",
              "</style>\n",
              "<table border=\"1\" class=\"dataframe\">\n",
              "  <thead>\n",
              "    <tr style=\"text-align: right;\">\n",
              "      <th></th>\n",
              "      <th>rouge-1</th>\n",
              "      <th>rouge-2</th>\n",
              "      <th>rouge-l</th>\n",
              "    </tr>\n",
              "  </thead>\n",
              "  <tbody>\n",
              "    <tr>\n",
              "      <th>f</th>\n",
              "      <td>0.348413</td>\n",
              "      <td>0.091668</td>\n",
              "      <td>0.241367</td>\n",
              "    </tr>\n",
              "    <tr>\n",
              "      <th>p</th>\n",
              "      <td>0.336110</td>\n",
              "      <td>0.094713</td>\n",
              "      <td>0.226815</td>\n",
              "    </tr>\n",
              "    <tr>\n",
              "      <th>r</th>\n",
              "      <td>0.393321</td>\n",
              "      <td>0.095347</td>\n",
              "      <td>0.275488</td>\n",
              "    </tr>\n",
              "  </tbody>\n",
              "</table>\n",
              "</div>"
            ],
            "text/plain": [
              "    rouge-1   rouge-2   rouge-l\n",
              "f  0.348413  0.091668  0.241367\n",
              "p  0.336110  0.094713  0.226815\n",
              "r  0.393321  0.095347  0.275488"
            ]
          },
          "metadata": {
            "tags": []
          },
          "execution_count": 117
        }
      ]
    },
    {
      "cell_type": "code",
      "metadata": {
        "id": "UBDnvPAgeeNX"
      },
      "source": [
        ""
      ],
      "execution_count": null,
      "outputs": []
    }
  ]
}