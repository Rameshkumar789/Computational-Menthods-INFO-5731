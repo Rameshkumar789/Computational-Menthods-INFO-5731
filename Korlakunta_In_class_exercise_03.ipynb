{
  "nbformat": 4,
  "nbformat_minor": 0,
  "metadata": {
    "kernelspec": {
      "display_name": "Python 3",
      "language": "python",
      "name": "python3"
    },
    "language_info": {
      "codemirror_mode": {
        "name": "ipython",
        "version": 3
      },
      "file_extension": ".py",
      "mimetype": "text/x-python",
      "name": "python",
      "nbconvert_exporter": "python",
      "pygments_lexer": "ipython3",
      "version": "3.7.6"
    },
    "colab": {
      "name": "In-class-exercise-03.ipynb",
      "provenance": [],
      "include_colab_link": true
    }
  },
  "cells": [
    {
      "cell_type": "markdown",
      "metadata": {
        "id": "view-in-github",
        "colab_type": "text"
      },
      "source": [
        "<a href=\"https://colab.research.google.com/github/Rameshkumar789/Computational-Menthods-INFO-5731/blob/main/Korlakunta_In_class_exercise_03.ipynb\" target=\"_parent\"><img src=\"https://colab.research.google.com/assets/colab-badge.svg\" alt=\"Open In Colab\"/></a>"
      ]
    },
    {
      "cell_type": "markdown",
      "metadata": {
        "id": "xVU8C08ohKbo"
      },
      "source": [
        "## The third In-class-exercise (9/16/2020, 20 points in total)"
      ]
    },
    {
      "cell_type": "markdown",
      "metadata": {
        "id": "tZELKsWxhKbq"
      },
      "source": [
        "The purpose of this exercise is to under users' information needs, then collect the data for analysis."
      ]
    },
    {
      "cell_type": "markdown",
      "metadata": {
        "id": "TC3ubhTYhKbq"
      },
      "source": [
        "Question 1 (8 points): Describe an interesting research question (or practical question) you have in mind, what kind of data should be collected to answer the question(s)? How many data needed for the analysis? The detail steps for collecting and save the data. "
      ]
    },
    {
      "cell_type": "code",
      "metadata": {
        "id": "yEQfA4IghKbr"
      },
      "source": [
        "# Your answer here (no code for this question, write down your answer as detail as possible for the above questions):\n",
        "\n",
        "'''\n",
        "Please write you answer here:\n",
        "\n",
        "I love riding bikes. So, I decided to scrape data of Motorcycle Companies with their active production and discontinued bikes,\n",
        "and list some of the models of the bikes. \n",
        " \n",
        "\n",
        "Motorcycle companies: Text\n",
        "Active production and Discontinued bikes: Integer\n",
        "List of Bikes: Text\n",
        "\n",
        "I have collected 140 companies of data with their models.\n",
        "\n",
        "Steps:\n",
        "I have pulled the Html code using the request package, then used Beautiful soup to parse the data.\n",
        "Using the find_all method, I located the attribute and stored it in the html_data variable.\n",
        "Then using for-loop, I stored all the elements in the lists.\n",
        "I created a data frame to store all the list data in the form of a table.\n",
        "Finally, I saved the data in a .csv file.\n",
        "'''"
      ],
      "execution_count": null,
      "outputs": []
    },
    {
      "cell_type": "markdown",
      "metadata": {
        "id": "TmLhfVkahKbr"
      },
      "source": [
        "Question 2 (12 points): Write python code to collect 500 items of the data you plan to collect above."
      ]
    },
    {
      "cell_type": "code",
      "metadata": {
        "id": "b7JXAsCDhKbs"
      },
      "source": [
        "# You code here (Please add comments in the code):\n",
        "\n",
        "# pull the data\n",
        "from requests import get\n",
        "url = 'https://www.autoevolution.com/moto/'\n",
        "response = get(url)\n"
      ],
      "execution_count": 2,
      "outputs": []
    },
    {
      "cell_type": "code",
      "metadata": {
        "id": "P_9gue7NhKbs"
      },
      "source": [
        "# Parse the data\n",
        "from bs4 import BeautifulSoup\n",
        "html_data = BeautifulSoup(response.text, 'html.parser')"
      ],
      "execution_count": 3,
      "outputs": []
    },
    {
      "cell_type": "code",
      "metadata": {
        "id": "xSRI1RnUhKbs"
      },
      "source": [
        "# find the attribute\n",
        "bikes = html_data.find_all('div', class_ = 'col2width fl bcol-white carman')"
      ],
      "execution_count": 4,
      "outputs": []
    },
    {
      "cell_type": "code",
      "metadata": {
        "id": "xoFIeoJlhKbt"
      },
      "source": [
        "prod_dis = html_data.find_all('div', class_ = 'col3width fl carnums')"
      ],
      "execution_count": 5,
      "outputs": []
    },
    {
      "cell_type": "code",
      "metadata": {
        "id": "EpDnQ73ZhKbt"
      },
      "source": [
        "# Store all the Data in the lists\n",
        "\n",
        "brand = []\n",
        "production = []\n",
        "discontinued = []\n",
        "\n",
        "for bike in bikes:\n",
        "    name = bike.h5.text\n",
        "    brand.append(name)\n",
        "\n",
        "    \n",
        "for prod in prod_dis:\n",
        "    product = prod.p.b.text\n",
        "    production.append(int(product))\n",
        "    \n",
        "    discont = prod.find('b', class_ = 'col-red').text\n",
        "    discontinued.append(int(discont)) "
      ],
      "execution_count": 6,
      "outputs": []
    },
    {
      "cell_type": "code",
      "metadata": {
        "id": "P2oDL0OehKbu"
      },
      "source": [
        "# Create Dataframe\n",
        "import pandas as pd\n",
        "motorcycle = pd.DataFrame({'Brand': brand,\n",
        "'Production': production,\n",
        "'Discontinued': discontinued\n",
        "})"
      ],
      "execution_count": 7,
      "outputs": []
    },
    {
      "cell_type": "code",
      "metadata": {
        "colab": {
          "base_uri": "https://localhost:8080/",
          "height": 402
        },
        "id": "VffQxNGlhKbu",
        "outputId": "3e8aa99b-0af2-4e1b-e03f-6988f625d513"
      },
      "source": [
        "motorcycle"
      ],
      "execution_count": 8,
      "outputs": [
        {
          "output_type": "execute_result",
          "data": {
            "text/html": [
              "<div>\n",
              "<style scoped>\n",
              "    .dataframe tbody tr th:only-of-type {\n",
              "        vertical-align: middle;\n",
              "    }\n",
              "\n",
              "    .dataframe tbody tr th {\n",
              "        vertical-align: top;\n",
              "    }\n",
              "\n",
              "    .dataframe thead th {\n",
              "        text-align: right;\n",
              "    }\n",
              "</style>\n",
              "<table border=\"1\" class=\"dataframe\">\n",
              "  <thead>\n",
              "    <tr style=\"text-align: right;\">\n",
              "      <th></th>\n",
              "      <th>Brand</th>\n",
              "      <th>Production</th>\n",
              "      <th>Discontinued</th>\n",
              "    </tr>\n",
              "  </thead>\n",
              "  <tbody>\n",
              "    <tr>\n",
              "      <th>0</th>\n",
              "      <td>Adler</td>\n",
              "      <td>0</td>\n",
              "      <td>11</td>\n",
              "    </tr>\n",
              "    <tr>\n",
              "      <th>1</th>\n",
              "      <td>AEON</td>\n",
              "      <td>9</td>\n",
              "      <td>5</td>\n",
              "    </tr>\n",
              "    <tr>\n",
              "      <th>2</th>\n",
              "      <td>AERMACCHI</td>\n",
              "      <td>0</td>\n",
              "      <td>9</td>\n",
              "    </tr>\n",
              "    <tr>\n",
              "      <th>3</th>\n",
              "      <td>AJP</td>\n",
              "      <td>6</td>\n",
              "      <td>129</td>\n",
              "    </tr>\n",
              "    <tr>\n",
              "      <th>4</th>\n",
              "      <td>AJS</td>\n",
              "      <td>1</td>\n",
              "      <td>58</td>\n",
              "    </tr>\n",
              "    <tr>\n",
              "      <th>...</th>\n",
              "      <td>...</td>\n",
              "      <td>...</td>\n",
              "      <td>...</td>\n",
              "    </tr>\n",
              "    <tr>\n",
              "      <th>135</th>\n",
              "      <td>WHIZZER</td>\n",
              "      <td>1</td>\n",
              "      <td>3</td>\n",
              "    </tr>\n",
              "    <tr>\n",
              "      <th>136</th>\n",
              "      <td>WRM</td>\n",
              "      <td>1</td>\n",
              "      <td>0</td>\n",
              "    </tr>\n",
              "    <tr>\n",
              "      <th>137</th>\n",
              "      <td>YAMAHA</td>\n",
              "      <td>184</td>\n",
              "      <td>1204</td>\n",
              "    </tr>\n",
              "    <tr>\n",
              "      <th>138</th>\n",
              "      <td>ZERO</td>\n",
              "      <td>30</td>\n",
              "      <td>17</td>\n",
              "    </tr>\n",
              "    <tr>\n",
              "      <th>139</th>\n",
              "      <td>ZUNDAPP</td>\n",
              "      <td>0</td>\n",
              "      <td>8</td>\n",
              "    </tr>\n",
              "  </tbody>\n",
              "</table>\n",
              "<p>140 rows × 3 columns</p>\n",
              "</div>"
            ],
            "text/plain": [
              "         Brand  Production  Discontinued\n",
              "0        Adler           0            11\n",
              "1         AEON           9             5\n",
              "2    AERMACCHI           0             9\n",
              "3          AJP           6           129\n",
              "4          AJS           1            58\n",
              "..         ...         ...           ...\n",
              "135    WHIZZER           1             3\n",
              "136        WRM           1             0\n",
              "137     YAMAHA         184          1204\n",
              "138       ZERO          30            17\n",
              "139    ZUNDAPP           0             8\n",
              "\n",
              "[140 rows x 3 columns]"
            ]
          },
          "metadata": {
            "tags": []
          },
          "execution_count": 8
        }
      ]
    },
    {
      "cell_type": "code",
      "metadata": {
        "id": "rnba_XcfhKbu"
      },
      "source": [
        "# Models\n",
        "models=[]\n",
        "for i in range(len(bikes)):\n",
        "    if bikes[i].find('div', class_='models').a is not None:\n",
        "        models.append(bikes[i].find('div', class_='models').a.text)"
      ],
      "execution_count": 9,
      "outputs": []
    },
    {
      "cell_type": "code",
      "metadata": {
        "colab": {
          "base_uri": "https://localhost:8080/",
          "height": 402
        },
        "id": "Gbpz_YEAhKbv",
        "outputId": "c5dfd637-32a8-4941-9605-a94d97bc6fca"
      },
      "source": [
        "# Dataframe\n",
        "bike_models=pd.DataFrame({'Models':models})\n",
        "bike_models"
      ],
      "execution_count": 10,
      "outputs": [
        {
          "output_type": "execute_result",
          "data": {
            "text/html": [
              "<div>\n",
              "<style scoped>\n",
              "    .dataframe tbody tr th:only-of-type {\n",
              "        vertical-align: middle;\n",
              "    }\n",
              "\n",
              "    .dataframe tbody tr th {\n",
              "        vertical-align: top;\n",
              "    }\n",
              "\n",
              "    .dataframe thead th {\n",
              "        text-align: right;\n",
              "    }\n",
              "</style>\n",
              "<table border=\"1\" class=\"dataframe\">\n",
              "  <thead>\n",
              "    <tr style=\"text-align: right;\">\n",
              "      <th></th>\n",
              "      <th>Models</th>\n",
              "    </tr>\n",
              "  </thead>\n",
              "  <tbody>\n",
              "    <tr>\n",
              "      <th>0</th>\n",
              "      <td>Adler MB 250</td>\n",
              "    </tr>\n",
              "    <tr>\n",
              "      <th>1</th>\n",
              "      <td>AEON Cobra 50</td>\n",
              "    </tr>\n",
              "    <tr>\n",
              "      <th>2</th>\n",
              "      <td>AERMACCHI RC 125</td>\n",
              "    </tr>\n",
              "    <tr>\n",
              "      <th>3</th>\n",
              "      <td>AJP PR7 ADVENTURE</td>\n",
              "    </tr>\n",
              "    <tr>\n",
              "      <th>4</th>\n",
              "      <td>AJS R7 125</td>\n",
              "    </tr>\n",
              "    <tr>\n",
              "      <th>...</th>\n",
              "      <td>...</td>\n",
              "    </tr>\n",
              "    <tr>\n",
              "      <th>132</th>\n",
              "      <td>WHIZZER Pacemaker</td>\n",
              "    </tr>\n",
              "    <tr>\n",
              "      <th>133</th>\n",
              "      <td>WRM 450 MX1</td>\n",
              "    </tr>\n",
              "    <tr>\n",
              "      <th>134</th>\n",
              "      <td>YAMAHA XV 1900 RAIDER CUSTOM</td>\n",
              "    </tr>\n",
              "    <tr>\n",
              "      <th>135</th>\n",
              "      <td>ZERO FX ZF6.5</td>\n",
              "    </tr>\n",
              "    <tr>\n",
              "      <th>136</th>\n",
              "      <td>ZUNDAPP 200 S</td>\n",
              "    </tr>\n",
              "  </tbody>\n",
              "</table>\n",
              "<p>137 rows × 1 columns</p>\n",
              "</div>"
            ],
            "text/plain": [
              "                           Models\n",
              "0                    Adler MB 250\n",
              "1                   AEON Cobra 50\n",
              "2                AERMACCHI RC 125\n",
              "3               AJP PR7 ADVENTURE\n",
              "4                      AJS R7 125\n",
              "..                            ...\n",
              "132             WHIZZER Pacemaker\n",
              "133                   WRM 450 MX1\n",
              "134  YAMAHA XV 1900 RAIDER CUSTOM\n",
              "135                 ZERO FX ZF6.5\n",
              "136                 ZUNDAPP 200 S\n",
              "\n",
              "[137 rows x 1 columns]"
            ]
          },
          "metadata": {
            "tags": []
          },
          "execution_count": 10
        }
      ]
    },
    {
      "cell_type": "code",
      "metadata": {
        "id": "i8t1TluehKbv"
      },
      "source": [
        "motorcycle.to_csv('brand.csv')\n",
        "bike_models.to_csv('models.csv')"
      ],
      "execution_count": 11,
      "outputs": []
    },
    {
      "cell_type": "code",
      "metadata": {
        "id": "96eFtOawhQbU"
      },
      "source": [
        ""
      ],
      "execution_count": null,
      "outputs": []
    }
  ]
}