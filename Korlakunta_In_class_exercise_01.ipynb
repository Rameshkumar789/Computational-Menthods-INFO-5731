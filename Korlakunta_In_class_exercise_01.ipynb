{
 "cells": [
  {
   "cell_type": "markdown",
   "metadata": {
    "id": "view-in-github"
   },
   "source": [
    "<a href=\"https://colab.research.google.com/github/unt-iialab/INFO5731_Spring2020/blob/master/In_class_exercise/In_class_exercise_01.ipynb\" target=\"_parent\"><img src=\"https://colab.research.google.com/assets/colab-badge.svg\" alt=\"Open In Colab\"/></a>"
   ]
  },
  {
   "cell_type": "markdown",
   "metadata": {
    "id": "DymRJbxDBCnf"
   },
   "source": [
    "# **The first In-class-exercise (1/19/2021, 20 points in total)**"
   ]
  },
  {
   "cell_type": "markdown",
   "metadata": {
    "id": "03jb4GZsBkBS"
   },
   "source": [
    "(1) Write a Python program to calculate the length of a string. (2 points)"
   ]
  },
  {
   "cell_type": "code",
   "execution_count": 55,
   "metadata": {
    "id": "YaGLbSHHB8Ej"
   },
   "outputs": [
    {
     "name": "stdout",
     "output_type": "stream",
     "text": [
      "Length of the String: 6\n"
     ]
    }
   ],
   "source": [
    "# write your answer here\n",
    "\n",
    "string = \"Ramesh\"\n",
    "print ( \"Length of the String:\" + \" \"+ str( len(string) ) )"
   ]
  },
  {
   "cell_type": "markdown",
   "metadata": {
    "id": "jJDe71iLB616"
   },
   "source": [
    "(2) Write a Python program to count the number of characters in a string. (2 points)\n",
    "\n",
    "Sample String : 'google.com‘, \n",
    "\n",
    "Expected Result : {'o': 3, 'g': 2, '.': 1, 'e': 1, 'l': 1, 'm': 1, 'c': 1}"
   ]
  },
  {
   "cell_type": "code",
   "execution_count": 56,
   "metadata": {
    "id": "MtKskTzbCLaU"
   },
   "outputs": [
    {
     "name": "stdout",
     "output_type": "stream",
     "text": [
      "{'g': 2, 'o': 3, 'l': 1, 'e': 1, '.': 1, 'c': 1, 'm': 1}\n"
     ]
    }
   ],
   "source": [
    "# write your answer here\n",
    "string = 'google.com'\n",
    "count = {}\n",
    "\n",
    "for i in string:\n",
    "    count[i] = count.get(i, 0) + 1\n",
    "    \n",
    "print (count)"
   ]
  },
  {
   "cell_type": "markdown",
   "metadata": {
    "id": "55W9AMdXCSpV"
   },
   "source": [
    "(3) Write a Python program to sum all the items in a list. (2 points)"
   ]
  },
  {
   "cell_type": "code",
   "execution_count": 57,
   "metadata": {
    "id": "I57NXsauCec2"
   },
   "outputs": [
    {
     "name": "stdout",
     "output_type": "stream",
     "text": [
      "Sum of the elements: 10\n"
     ]
    }
   ],
   "source": [
    "# write your answer here\n",
    "\n",
    "ls = [1,2,3,4]\n",
    "print (\"Sum of the elements:\" +\" \"+ str( sum(ls) ) )"
   ]
  },
  {
   "cell_type": "markdown",
   "metadata": {
    "id": "4ulBZ6yhCi9F"
   },
   "source": [
    "(4) Write a Python program to get a string from a given string where all occurrences of its first char have been changed to '\\$', except the first char itself. (2 points)\n",
    "\n",
    "Sample String : 'restart‘, \n",
    "\n",
    "Expected Result : 'resta\\$t'"
   ]
  },
  {
   "cell_type": "code",
   "execution_count": 58,
   "metadata": {
    "id": "Fj0XhwbBCw2o"
   },
   "outputs": [
    {
     "name": "stdout",
     "output_type": "stream",
     "text": [
      "Result: bu$$le\n"
     ]
    }
   ],
   "source": [
    "# write your answer here\n",
    "\n",
    "string = 'bubble'\n",
    "string = string.lower()\n",
    "result = \"\"\n",
    "\n",
    "for i in range(len(string)):\n",
    "    if( i==0 ):\n",
    "        result += string[i]\n",
    "    elif( string[0]==string[i] ):\n",
    "        result += '$'\n",
    "    else:\n",
    "        result += string[i]\n",
    "\n",
    "print (\"Result:\" + \" \" + str(result) )\n"
   ]
  },
  {
   "cell_type": "markdown",
   "metadata": {
    "id": "_bIP7s1MCzue"
   },
   "source": [
    "(5) Write a program with python which could accept two parameter a and b to calculate and output the result of S, where \n",
    "\n",
    "$\\ S=3.14*(1+a/b)^3$ (3 points)\n",
    "\n"
   ]
  },
  {
   "cell_type": "code",
   "execution_count": 59,
   "metadata": {
    "id": "w79QilHXD3Mg"
   },
   "outputs": [
    {
     "name": "stdout",
     "output_type": "stream",
     "text": [
      "Result: 25.12\n"
     ]
    }
   ],
   "source": [
    "# write your answer here\n",
    "\n",
    "def sample (a, b):\n",
    "    s = ( 3.14 * ( pow ( ( 1+ ( a / b) ), 3) ) )\n",
    "    print (\"Result:\" + \" \" + str(s) )\n",
    "    \n",
    "sample(3, 3)\n"
   ]
  },
  {
   "cell_type": "markdown",
   "metadata": {
    "id": "xCa2bK9aD4Q3"
   },
   "source": [
    "(6) Write a Python program to concatenate following dictionaries to create a new one. (3 points)\n",
    "\n",
    "Sample Dictionary : dic1={1:10, 2:20}, dic2={3:30, 4:40}, dic3={5:50,6:60}, \n",
    "\n",
    "Expected Result : {1: 10, 2: 20, 3: 30, 4: 40, 5: 50, 6: 60}\n"
   ]
  },
  {
   "cell_type": "code",
   "execution_count": 60,
   "metadata": {
    "id": "_z4aLqAbEET1"
   },
   "outputs": [
    {
     "name": "stdout",
     "output_type": "stream",
     "text": [
      "{1: 10, 2: 20, 3: 30, 4: 40, 5: 50, 6: 60}\n"
     ]
    }
   ],
   "source": [
    "# write your answer here\n",
    "dic1 = {1:10, 2:20 }\n",
    "dic2 = {3:30, 4:40 }\n",
    "dic3 = {5:50, 6:60 }\n",
    "\n",
    "dic = { **dic1, **dic2, **dic3 }\n",
    "print ( dic )\n"
   ]
  },
  {
   "cell_type": "markdown",
   "metadata": {
    "id": "0v48Vqa7FrQh"
   },
   "source": [
    "(7) Write a Python program to check whether an element exists within a tuple. (3 points)"
   ]
  },
  {
   "cell_type": "code",
   "execution_count": 61,
   "metadata": {
    "id": "7WEmgq-DF2P1"
   },
   "outputs": [
    {
     "name": "stdout",
     "output_type": "stream",
     "text": [
      "Element exist\n"
     ]
    }
   ],
   "source": [
    "# write your answer here\n",
    "sample = ( 'ramesh', 'ravi', 'chandra', 'kiran' )\n",
    "temp = 0\n",
    "for i in sample:\n",
    "    if ( i==\"ravi\" ):\n",
    "        temp = 1\n",
    "        print ( \"Element exist\" )\n",
    "        break\n",
    "\n",
    "if ( temp==0 ):\n",
    "    print(\"Element doesn't exist\")"
   ]
  },
  {
   "cell_type": "markdown",
   "metadata": {
    "id": "vD5PYLMuGga_"
   },
   "source": [
    "(8) Write a Python program to find maximum and the minimum value in a set. (3 points)"
   ]
  },
  {
   "cell_type": "code",
   "execution_count": 62,
   "metadata": {
    "id": "t0D5kdJUGjjw"
   },
   "outputs": [
    {
     "name": "stdout",
     "output_type": "stream",
     "text": [
      "Minimum: 1\n",
      "Maximum: 5\n"
     ]
    }
   ],
   "source": [
    "# write your answer here\n",
    "\n",
    "sample = { 1, 2, 3, 4, 5 }\n",
    "\n",
    "print ( \"Minimum:\" + \" \" + str( min(sample) ) )\n",
    "\n",
    "print ( \"Maximum:\" + \" \" + str( max(sample) ) )\n",
    "\n"
   ]
  },
  {
   "cell_type": "markdown",
   "metadata": {
    "id": "uHkd-y5VhVWC"
   },
   "source": [
    "(9) Write a Python program to randomly divide the students in this class into five groups for term projects, each group should have at least 3 students but no more than 5 students (including 5). Here is the students list: (3 points for extra)\n",
    "\n",
    "studnet_list = ['vmb0067','pc0353','snd0097','yye0005','sg0940','bk0301','rak0120','rrk0058','spk0057','vl0135','nm0547','pn0159',\n",
    "                'msp0174','dd0420','ds0761','rs0850','ss1995','at0739','at0768','mv0299','tv0119','dy0091']"
   ]
  },
  {
   "cell_type": "code",
   "execution_count": 63,
   "metadata": {
    "id": "3iGbmcOBhTwy"
   },
   "outputs": [
    {
     "name": "stdout",
     "output_type": "stream",
     "text": [
      " Group 1: ['dd0420', 'bk0301', 'ds0761', 'msp0174']\n",
      " Group 2: ['spk0057', 'vmb0067', 'pc0353', 'at0739', 'mv0299']\n",
      " Group 3: ['pn0159', 'tv0119', 'rs0850', 'rrk0058', 'sg0940']\n",
      " Group 4: ['nm0547', 'dy0091', 'yye0005', 'vl0135']\n",
      " Group 5: ['snd0097', 'ss1995', 'rak0120', 'at0768']\n"
     ]
    }
   ],
   "source": [
    "from itertools import combinations_with_replacement \n",
    "from random import sample\n",
    "from random import shuffle\n",
    "from random import choice \n",
    "\n",
    "\n",
    "studnet_list = ['vmb0067','pc0353','snd0097','yye0005','sg0940','bk0301','rak0120','rrk0058','spk0057','vl0135','nm0547','pn0159',\n",
    "                'msp0174','dd0420','ds0761','rs0850','ss1995','at0739','at0768','mv0299','tv0119','dy0091']\n",
    "\n",
    "# finding the combinations\n",
    "def combinations():\n",
    "    size=[]\n",
    "    comb = combinations_with_replacement ( [3,4,5], 5) \n",
    "    for i in list(comb): \n",
    "        if( sum ( list(i) ) == len(studnet_list) ):\n",
    "            size.append( list(i) )\n",
    "    select = choice( size )\n",
    "    shuffle ( select )\n",
    "    return select\n",
    "\n",
    "# Removing elements \n",
    "def update(a, b):\n",
    "    for i in b:\n",
    "        a.remove( i )\n",
    "    return a\n",
    " \n",
    "\n",
    "select = combinations()\n",
    "result = []\n",
    "\n",
    "\n",
    "for i in range(len(select)):\n",
    "    x = sample( studnet_list, select[i] )\n",
    "    a = update ( studnet_list, x)\n",
    "    studnet_list = a\n",
    "    result.append( x )\n",
    "\n",
    "    \n",
    "# Display    \n",
    "for i in range(len(result)):\n",
    "    print(\" Group \" +str(i+1)+\": \"+ str(result[i]))\n"
   ]
  }
 ],
 "metadata": {
  "colab": {
   "collapsed_sections": [],
   "name": "In_class_exercise_01.ipynb",
   "provenance": []
  },
  "kernelspec": {
   "display_name": "Python 3",
   "language": "python",
   "name": "python3"
  },
  "language_info": {
   "codemirror_mode": {
    "name": "ipython",
    "version": 3
   },
   "file_extension": ".py",
   "mimetype": "text/x-python",
   "name": "python",
   "nbconvert_exporter": "python",
   "pygments_lexer": "ipython3",
   "version": "3.7.6"
  }
 },
 "nbformat": 4,
 "nbformat_minor": 1
}
