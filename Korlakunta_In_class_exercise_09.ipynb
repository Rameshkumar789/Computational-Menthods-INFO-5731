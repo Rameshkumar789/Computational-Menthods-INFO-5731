{
  "nbformat": 4,
  "nbformat_minor": 0,
  "metadata": {
    "kernelspec": {
      "display_name": "Python 3",
      "language": "python",
      "name": "python3"
    },
    "language_info": {
      "codemirror_mode": {
        "name": "ipython",
        "version": 3
      },
      "file_extension": ".py",
      "mimetype": "text/x-python",
      "name": "python",
      "nbconvert_exporter": "python",
      "pygments_lexer": "ipython3",
      "version": "3.7.6"
    },
    "colab": {
      "name": "Korlakunta_In_class_exercise_09.ipynb",
      "provenance": [],
      "collapsed_sections": [],
      "include_colab_link": true
    }
  },
  "cells": [
    {
      "cell_type": "markdown",
      "metadata": {
        "id": "view-in-github",
        "colab_type": "text"
      },
      "source": [
        "<a href=\"https://colab.research.google.com/github/Rameshkumar789/Computational-Menthods-INFO-5731/blob/main/Korlakunta_In_class_exercise_09.ipynb\" target=\"_parent\"><img src=\"https://colab.research.google.com/assets/colab-badge.svg\" alt=\"Open In Colab\"/></a>"
      ]
    },
    {
      "cell_type": "markdown",
      "metadata": {
        "id": "E0nNn3PG7jXS"
      },
      "source": [
        "# **The ninth in-class-exercise (20 points in total, 4/16/2021)**"
      ]
    },
    {
      "cell_type": "markdown",
      "metadata": {
        "id": "M5YrXsIR7jXX"
      },
      "source": [
        "The purpose of the exercise is to practice different machine learning algorithms for text classification as well as the performance evaluation. In addition, you are requried to conduct *10 fold cross validation (https://scikit-learn.org/stable/modules/cross_validation.html)* in the training. \n",
        "\n",
        "The dataset can be download from here: https://github.com/unt-iialab/info5731_spring2021/blob/main/class_exercises/exercise09_datacollection.zip. The dataset contains two files train data and test data for sentiment analysis in IMDB review, it has two categories: 1 represents positive and 0 represents negative. You need to split the training data into training and validate data (80% for training and 20% for validation, https://towardsdatascience.com/train-test-split-and-cross-validation-in-python-80b61beca4b6) and perform 10 fold cross validation while training the classifier. The final trained model was final evaluated on the test data. \n",
        "\n",
        "Algorithms:\n",
        "\n",
        "(1) MultinominalNB\n",
        "\n",
        "(2) SVM \n",
        "\n",
        "(3) KNN \n",
        "\n",
        "(4) Decision tree\n",
        "\n",
        "(5) Random Forest\n",
        "\n",
        "(6) XGBoost\n",
        "\n",
        "Evaluation measurement:\n",
        "\n",
        "(1) Accuracy\n",
        "\n",
        "(2) Recall\n",
        "\n",
        "(3) Precison \n",
        "\n",
        "(4) F-1 score"
      ]
    },
    {
      "cell_type": "code",
      "metadata": {
        "id": "yTN_ydDd7jXb"
      },
      "source": [
        "# Write your code here\n",
        "import numpy as np\n",
        "import pandas as pd\n",
        "import re \n",
        "import nltk \n",
        "from google.colab import files\n",
        "from nltk.corpus import stopwords"
      ],
      "execution_count": 1,
      "outputs": []
    },
    {
      "cell_type": "code",
      "metadata": {
        "colab": {
          "resources": {
            "http://localhost:8080/nbextensions/google.colab/files.js": {
              "data": "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",
              "ok": true,
              "headers": [
                [
                  "content-type",
                  "application/javascript"
                ]
              ],
              "status": 200,
              "status_text": ""
            }
          },
          "base_uri": "https://localhost:8080/",
          "height": 106
        },
        "id": "ZPRHZw5-777-",
        "outputId": "1def1ac3-e4ef-4c73-b057-2e72e4733b2f"
      },
      "source": [
        "uploaded = files.upload()"
      ],
      "execution_count": 2,
      "outputs": [
        {
          "output_type": "display_data",
          "data": {
            "text/html": [
              "\n",
              "     <input type=\"file\" id=\"files-75136944-eca6-44aa-b5e6-01e0ff14a937\" name=\"files[]\" multiple disabled\n",
              "        style=\"border:none\" />\n",
              "     <output id=\"result-75136944-eca6-44aa-b5e6-01e0ff14a937\">\n",
              "      Upload widget is only available when the cell has been executed in the\n",
              "      current browser session. Please rerun this cell to enable.\n",
              "      </output>\n",
              "      <script src=\"/nbextensions/google.colab/files.js\"></script> "
            ],
            "text/plain": [
              "<IPython.core.display.HTML object>"
            ]
          },
          "metadata": {
            "tags": []
          }
        },
        {
          "output_type": "stream",
          "text": [
            "Saving stsa-test.txt to stsa-test.txt\n",
            "Saving stsa-train.txt to stsa-train.txt\n"
          ],
          "name": "stdout"
        }
      ]
    },
    {
      "cell_type": "code",
      "metadata": {
        "scrolled": false,
        "id": "cHVuaokR7jXe"
      },
      "source": [
        "raw_data = open('/content/stsa-train.txt').read()"
      ],
      "execution_count": 3,
      "outputs": []
    },
    {
      "cell_type": "code",
      "metadata": {
        "id": "gBCdgxOfNIYT"
      },
      "source": [
        "test_data=open('/content/stsa-test.txt').read()"
      ],
      "execution_count": 4,
      "outputs": []
    },
    {
      "cell_type": "code",
      "metadata": {
        "id": "Rfb6hFbw7jXf"
      },
      "source": [
        "def prepare_data(data):\n",
        "    i=[]\n",
        "    j=[]\n",
        "    for line in data.split(\"\\n\"):\n",
        "        text = line.split()\n",
        "        i.append(text[0])\n",
        "        j.append(\" \".join(text[1:]))\n",
        "    return j, i \n"
      ],
      "execution_count": 5,
      "outputs": []
    },
    {
      "cell_type": "markdown",
      "metadata": {
        "id": "1_EJW_QkVHwe"
      },
      "source": [
        "## Train Data"
      ]
    },
    {
      "cell_type": "code",
      "metadata": {
        "id": "61DTeN-n7jXh"
      },
      "source": [
        "content, sentiment = prepare_data(raw_data)\n",
        "temp = list(zip(content, sentiment))\n",
        "data_train = pd.DataFrame(temp,columns=['Content', 'Sentiment'])"
      ],
      "execution_count": 6,
      "outputs": []
    },
    {
      "cell_type": "code",
      "metadata": {
        "colab": {
          "base_uri": "https://localhost:8080/",
          "height": 402
        },
        "id": "7uEImOa87jXi",
        "outputId": "ac1e3080-727d-4fc7-d2b1-1b003597e8c2"
      },
      "source": [
        "data_train"
      ],
      "execution_count": 7,
      "outputs": [
        {
          "output_type": "execute_result",
          "data": {
            "text/html": [
              "<div>\n",
              "<style scoped>\n",
              "    .dataframe tbody tr th:only-of-type {\n",
              "        vertical-align: middle;\n",
              "    }\n",
              "\n",
              "    .dataframe tbody tr th {\n",
              "        vertical-align: top;\n",
              "    }\n",
              "\n",
              "    .dataframe thead th {\n",
              "        text-align: right;\n",
              "    }\n",
              "</style>\n",
              "<table border=\"1\" class=\"dataframe\">\n",
              "  <thead>\n",
              "    <tr style=\"text-align: right;\">\n",
              "      <th></th>\n",
              "      <th>Content</th>\n",
              "      <th>Sentiment</th>\n",
              "    </tr>\n",
              "  </thead>\n",
              "  <tbody>\n",
              "    <tr>\n",
              "      <th>0</th>\n",
              "      <td>a stirring , funny and finally transporting re...</td>\n",
              "      <td>1</td>\n",
              "    </tr>\n",
              "    <tr>\n",
              "      <th>1</th>\n",
              "      <td>apparently reassembled from the cutting-room f...</td>\n",
              "      <td>0</td>\n",
              "    </tr>\n",
              "    <tr>\n",
              "      <th>2</th>\n",
              "      <td>they presume their audience wo n't sit still f...</td>\n",
              "      <td>0</td>\n",
              "    </tr>\n",
              "    <tr>\n",
              "      <th>3</th>\n",
              "      <td>this is a visually stunning rumination on love...</td>\n",
              "      <td>1</td>\n",
              "    </tr>\n",
              "    <tr>\n",
              "      <th>4</th>\n",
              "      <td>jonathan parker 's bartleby should have been t...</td>\n",
              "      <td>1</td>\n",
              "    </tr>\n",
              "    <tr>\n",
              "      <th>...</th>\n",
              "      <td>...</td>\n",
              "      <td>...</td>\n",
              "    </tr>\n",
              "    <tr>\n",
              "      <th>6915</th>\n",
              "      <td>painful , horrifying and oppressively tragic ,...</td>\n",
              "      <td>1</td>\n",
              "    </tr>\n",
              "    <tr>\n",
              "      <th>6916</th>\n",
              "      <td>take care is nicely performed by a quintet of ...</td>\n",
              "      <td>0</td>\n",
              "    </tr>\n",
              "    <tr>\n",
              "      <th>6917</th>\n",
              "      <td>the script covers huge , heavy topics in a bla...</td>\n",
              "      <td>0</td>\n",
              "    </tr>\n",
              "    <tr>\n",
              "      <th>6918</th>\n",
              "      <td>a seriously bad film with seriously warped log...</td>\n",
              "      <td>0</td>\n",
              "    </tr>\n",
              "    <tr>\n",
              "      <th>6919</th>\n",
              "      <td>a deliciously nonsensical comedy about a city ...</td>\n",
              "      <td>1</td>\n",
              "    </tr>\n",
              "  </tbody>\n",
              "</table>\n",
              "<p>6920 rows × 2 columns</p>\n",
              "</div>"
            ],
            "text/plain": [
              "                                                Content Sentiment\n",
              "0     a stirring , funny and finally transporting re...         1\n",
              "1     apparently reassembled from the cutting-room f...         0\n",
              "2     they presume their audience wo n't sit still f...         0\n",
              "3     this is a visually stunning rumination on love...         1\n",
              "4     jonathan parker 's bartleby should have been t...         1\n",
              "...                                                 ...       ...\n",
              "6915  painful , horrifying and oppressively tragic ,...         1\n",
              "6916  take care is nicely performed by a quintet of ...         0\n",
              "6917  the script covers huge , heavy topics in a bla...         0\n",
              "6918  a seriously bad film with seriously warped log...         0\n",
              "6919  a deliciously nonsensical comedy about a city ...         1\n",
              "\n",
              "[6920 rows x 2 columns]"
            ]
          },
          "metadata": {
            "tags": []
          },
          "execution_count": 7
        }
      ]
    },
    {
      "cell_type": "markdown",
      "metadata": {
        "id": "VlymY9C1NeJE"
      },
      "source": [
        "## Test Data"
      ]
    },
    {
      "cell_type": "code",
      "metadata": {
        "id": "j-Jume-GNWx7"
      },
      "source": [
        "content, sentiment = prepare_data(test_data)\n",
        "temp = list(zip(content, sentiment))\n",
        "data_test = pd.DataFrame(temp,columns=['Content', 'Sentiment'])"
      ],
      "execution_count": 8,
      "outputs": []
    },
    {
      "cell_type": "code",
      "metadata": {
        "colab": {
          "base_uri": "https://localhost:8080/",
          "height": 402
        },
        "id": "kSOCZvh9N0LW",
        "outputId": "091735aa-9a6a-43f7-b038-c33ce1de4dfa"
      },
      "source": [
        "data_test"
      ],
      "execution_count": 9,
      "outputs": [
        {
          "output_type": "execute_result",
          "data": {
            "text/html": [
              "<div>\n",
              "<style scoped>\n",
              "    .dataframe tbody tr th:only-of-type {\n",
              "        vertical-align: middle;\n",
              "    }\n",
              "\n",
              "    .dataframe tbody tr th {\n",
              "        vertical-align: top;\n",
              "    }\n",
              "\n",
              "    .dataframe thead th {\n",
              "        text-align: right;\n",
              "    }\n",
              "</style>\n",
              "<table border=\"1\" class=\"dataframe\">\n",
              "  <thead>\n",
              "    <tr style=\"text-align: right;\">\n",
              "      <th></th>\n",
              "      <th>Content</th>\n",
              "      <th>Sentiment</th>\n",
              "    </tr>\n",
              "  </thead>\n",
              "  <tbody>\n",
              "    <tr>\n",
              "      <th>0</th>\n",
              "      <td>no movement , no yuks , not much of anything .</td>\n",
              "      <td>0</td>\n",
              "    </tr>\n",
              "    <tr>\n",
              "      <th>1</th>\n",
              "      <td>a gob of drivel so sickly sweet , even the eag...</td>\n",
              "      <td>0</td>\n",
              "    </tr>\n",
              "    <tr>\n",
              "      <th>2</th>\n",
              "      <td>gangs of new york is an unapologetic mess , wh...</td>\n",
              "      <td>0</td>\n",
              "    </tr>\n",
              "    <tr>\n",
              "      <th>3</th>\n",
              "      <td>we never really feel involved with the story ,...</td>\n",
              "      <td>0</td>\n",
              "    </tr>\n",
              "    <tr>\n",
              "      <th>4</th>\n",
              "      <td>this is one of polanski 's best films .</td>\n",
              "      <td>1</td>\n",
              "    </tr>\n",
              "    <tr>\n",
              "      <th>...</th>\n",
              "      <td>...</td>\n",
              "      <td>...</td>\n",
              "    </tr>\n",
              "    <tr>\n",
              "      <th>1816</th>\n",
              "      <td>an often-deadly boring , strange reading of a ...</td>\n",
              "      <td>0</td>\n",
              "    </tr>\n",
              "    <tr>\n",
              "      <th>1817</th>\n",
              "      <td>the problem with concept films is that if the ...</td>\n",
              "      <td>0</td>\n",
              "    </tr>\n",
              "    <tr>\n",
              "      <th>1818</th>\n",
              "      <td>safe conduct , however ambitious and well-inte...</td>\n",
              "      <td>0</td>\n",
              "    </tr>\n",
              "    <tr>\n",
              "      <th>1819</th>\n",
              "      <td>a film made with as little wit , interest , an...</td>\n",
              "      <td>0</td>\n",
              "    </tr>\n",
              "    <tr>\n",
              "      <th>1820</th>\n",
              "      <td>but here 's the real damn : it is n't funny , ...</td>\n",
              "      <td>0</td>\n",
              "    </tr>\n",
              "  </tbody>\n",
              "</table>\n",
              "<p>1821 rows × 2 columns</p>\n",
              "</div>"
            ],
            "text/plain": [
              "                                                Content Sentiment\n",
              "0        no movement , no yuks , not much of anything .         0\n",
              "1     a gob of drivel so sickly sweet , even the eag...         0\n",
              "2     gangs of new york is an unapologetic mess , wh...         0\n",
              "3     we never really feel involved with the story ,...         0\n",
              "4               this is one of polanski 's best films .         1\n",
              "...                                                 ...       ...\n",
              "1816  an often-deadly boring , strange reading of a ...         0\n",
              "1817  the problem with concept films is that if the ...         0\n",
              "1818  safe conduct , however ambitious and well-inte...         0\n",
              "1819  a film made with as little wit , interest , an...         0\n",
              "1820  but here 's the real damn : it is n't funny , ...         0\n",
              "\n",
              "[1821 rows x 2 columns]"
            ]
          },
          "metadata": {
            "tags": []
          },
          "execution_count": 9
        }
      ]
    },
    {
      "cell_type": "markdown",
      "metadata": {
        "id": "wP_ffY2eVDgR"
      },
      "source": [
        "## Train Data Cleaning"
      ]
    },
    {
      "cell_type": "code",
      "metadata": {
        "colab": {
          "base_uri": "https://localhost:8080/"
        },
        "id": "7dmFP2Sr7jXk",
        "outputId": "c6e619c2-5da0-4dda-9dc0-69a43daa422c"
      },
      "source": [
        "from nltk.corpus import stopwords\n",
        "nltk.download('stopwords')\n",
        "stop = stopwords.words('english')\n",
        "data_train['Stop_Content'] = data_train['Content'].apply(lambda x: ' '.join([word for word in x.split() if word not in (stop)]))"
      ],
      "execution_count": 10,
      "outputs": [
        {
          "output_type": "stream",
          "text": [
            "[nltk_data] Downloading package stopwords to /root/nltk_data...\n",
            "[nltk_data]   Package stopwords is already up-to-date!\n"
          ],
          "name": "stdout"
        }
      ]
    },
    {
      "cell_type": "code",
      "metadata": {
        "id": "znrHujMp7jXl"
      },
      "source": [
        "data_train = data_train[['Content', 'Stop_Content', 'Sentiment']]"
      ],
      "execution_count": 11,
      "outputs": []
    },
    {
      "cell_type": "code",
      "metadata": {
        "colab": {
          "base_uri": "https://localhost:8080/",
          "height": 402
        },
        "id": "F-anD1_M7jXl",
        "outputId": "6d0fcfc7-6f6e-4fde-b7ff-be690dea4575"
      },
      "source": [
        "data_train"
      ],
      "execution_count": 12,
      "outputs": [
        {
          "output_type": "execute_result",
          "data": {
            "text/html": [
              "<div>\n",
              "<style scoped>\n",
              "    .dataframe tbody tr th:only-of-type {\n",
              "        vertical-align: middle;\n",
              "    }\n",
              "\n",
              "    .dataframe tbody tr th {\n",
              "        vertical-align: top;\n",
              "    }\n",
              "\n",
              "    .dataframe thead th {\n",
              "        text-align: right;\n",
              "    }\n",
              "</style>\n",
              "<table border=\"1\" class=\"dataframe\">\n",
              "  <thead>\n",
              "    <tr style=\"text-align: right;\">\n",
              "      <th></th>\n",
              "      <th>Content</th>\n",
              "      <th>Stop_Content</th>\n",
              "      <th>Sentiment</th>\n",
              "    </tr>\n",
              "  </thead>\n",
              "  <tbody>\n",
              "    <tr>\n",
              "      <th>0</th>\n",
              "      <td>a stirring , funny and finally transporting re...</td>\n",
              "      <td>stirring , funny finally transporting re-imagi...</td>\n",
              "      <td>1</td>\n",
              "    </tr>\n",
              "    <tr>\n",
              "      <th>1</th>\n",
              "      <td>apparently reassembled from the cutting-room f...</td>\n",
              "      <td>apparently reassembled cutting-room floor give...</td>\n",
              "      <td>0</td>\n",
              "    </tr>\n",
              "    <tr>\n",
              "      <th>2</th>\n",
              "      <td>they presume their audience wo n't sit still f...</td>\n",
              "      <td>presume audience wo n't sit still sociology le...</td>\n",
              "      <td>0</td>\n",
              "    </tr>\n",
              "    <tr>\n",
              "      <th>3</th>\n",
              "      <td>this is a visually stunning rumination on love...</td>\n",
              "      <td>visually stunning rumination love , memory , h...</td>\n",
              "      <td>1</td>\n",
              "    </tr>\n",
              "    <tr>\n",
              "      <th>4</th>\n",
              "      <td>jonathan parker 's bartleby should have been t...</td>\n",
              "      <td>jonathan parker 's bartleby be-all-end-all mod...</td>\n",
              "      <td>1</td>\n",
              "    </tr>\n",
              "    <tr>\n",
              "      <th>...</th>\n",
              "      <td>...</td>\n",
              "      <td>...</td>\n",
              "      <td>...</td>\n",
              "    </tr>\n",
              "    <tr>\n",
              "      <th>6915</th>\n",
              "      <td>painful , horrifying and oppressively tragic ,...</td>\n",
              "      <td>painful , horrifying oppressively tragic , fil...</td>\n",
              "      <td>1</td>\n",
              "    </tr>\n",
              "    <tr>\n",
              "      <th>6916</th>\n",
              "      <td>take care is nicely performed by a quintet of ...</td>\n",
              "      <td>take care nicely performed quintet actresses ,...</td>\n",
              "      <td>0</td>\n",
              "    </tr>\n",
              "    <tr>\n",
              "      <th>6917</th>\n",
              "      <td>the script covers huge , heavy topics in a bla...</td>\n",
              "      <td>script covers huge , heavy topics bland , surf...</td>\n",
              "      <td>0</td>\n",
              "    </tr>\n",
              "    <tr>\n",
              "      <th>6918</th>\n",
              "      <td>a seriously bad film with seriously warped log...</td>\n",
              "      <td>seriously bad film seriously warped logic writ...</td>\n",
              "      <td>0</td>\n",
              "    </tr>\n",
              "    <tr>\n",
              "      <th>6919</th>\n",
              "      <td>a deliciously nonsensical comedy about a city ...</td>\n",
              "      <td>deliciously nonsensical comedy city coming apa...</td>\n",
              "      <td>1</td>\n",
              "    </tr>\n",
              "  </tbody>\n",
              "</table>\n",
              "<p>6920 rows × 3 columns</p>\n",
              "</div>"
            ],
            "text/plain": [
              "                                                Content  ... Sentiment\n",
              "0     a stirring , funny and finally transporting re...  ...         1\n",
              "1     apparently reassembled from the cutting-room f...  ...         0\n",
              "2     they presume their audience wo n't sit still f...  ...         0\n",
              "3     this is a visually stunning rumination on love...  ...         1\n",
              "4     jonathan parker 's bartleby should have been t...  ...         1\n",
              "...                                                 ...  ...       ...\n",
              "6915  painful , horrifying and oppressively tragic ,...  ...         1\n",
              "6916  take care is nicely performed by a quintet of ...  ...         0\n",
              "6917  the script covers huge , heavy topics in a bla...  ...         0\n",
              "6918  a seriously bad film with seriously warped log...  ...         0\n",
              "6919  a deliciously nonsensical comedy about a city ...  ...         1\n",
              "\n",
              "[6920 rows x 3 columns]"
            ]
          },
          "metadata": {
            "tags": []
          },
          "execution_count": 12
        }
      ]
    },
    {
      "cell_type": "markdown",
      "metadata": {
        "id": "OGY0L5aHODpS"
      },
      "source": [
        "## Test Data Cleaning"
      ]
    },
    {
      "cell_type": "code",
      "metadata": {
        "id": "pLe72kyFOFxp"
      },
      "source": [
        "data_test['Stop_Content'] = data_test['Content'].apply(lambda x: ' '.join([word for word in x.split() if word not in (stop)]))"
      ],
      "execution_count": 13,
      "outputs": []
    },
    {
      "cell_type": "code",
      "metadata": {
        "id": "XfUVLJpgOFn_"
      },
      "source": [
        "data_test = data_test[['Content', 'Stop_Content', 'Sentiment']]"
      ],
      "execution_count": 14,
      "outputs": []
    },
    {
      "cell_type": "code",
      "metadata": {
        "colab": {
          "base_uri": "https://localhost:8080/",
          "height": 402
        },
        "id": "WYoA0fZqOLQY",
        "outputId": "c0b17ae3-ca9b-4065-e257-569150996336"
      },
      "source": [
        "data_test"
      ],
      "execution_count": 15,
      "outputs": [
        {
          "output_type": "execute_result",
          "data": {
            "text/html": [
              "<div>\n",
              "<style scoped>\n",
              "    .dataframe tbody tr th:only-of-type {\n",
              "        vertical-align: middle;\n",
              "    }\n",
              "\n",
              "    .dataframe tbody tr th {\n",
              "        vertical-align: top;\n",
              "    }\n",
              "\n",
              "    .dataframe thead th {\n",
              "        text-align: right;\n",
              "    }\n",
              "</style>\n",
              "<table border=\"1\" class=\"dataframe\">\n",
              "  <thead>\n",
              "    <tr style=\"text-align: right;\">\n",
              "      <th></th>\n",
              "      <th>Content</th>\n",
              "      <th>Stop_Content</th>\n",
              "      <th>Sentiment</th>\n",
              "    </tr>\n",
              "  </thead>\n",
              "  <tbody>\n",
              "    <tr>\n",
              "      <th>0</th>\n",
              "      <td>no movement , no yuks , not much of anything .</td>\n",
              "      <td>movement , yuks , much anything .</td>\n",
              "      <td>0</td>\n",
              "    </tr>\n",
              "    <tr>\n",
              "      <th>1</th>\n",
              "      <td>a gob of drivel so sickly sweet , even the eag...</td>\n",
              "      <td>gob drivel sickly sweet , even eager consumers...</td>\n",
              "      <td>0</td>\n",
              "    </tr>\n",
              "    <tr>\n",
              "      <th>2</th>\n",
              "      <td>gangs of new york is an unapologetic mess , wh...</td>\n",
              "      <td>gangs new york unapologetic mess , whose savin...</td>\n",
              "      <td>0</td>\n",
              "    </tr>\n",
              "    <tr>\n",
              "      <th>3</th>\n",
              "      <td>we never really feel involved with the story ,...</td>\n",
              "      <td>never really feel involved story , ideas remai...</td>\n",
              "      <td>0</td>\n",
              "    </tr>\n",
              "    <tr>\n",
              "      <th>4</th>\n",
              "      <td>this is one of polanski 's best films .</td>\n",
              "      <td>one polanski 's best films .</td>\n",
              "      <td>1</td>\n",
              "    </tr>\n",
              "    <tr>\n",
              "      <th>...</th>\n",
              "      <td>...</td>\n",
              "      <td>...</td>\n",
              "      <td>...</td>\n",
              "    </tr>\n",
              "    <tr>\n",
              "      <th>1816</th>\n",
              "      <td>an often-deadly boring , strange reading of a ...</td>\n",
              "      <td>often-deadly boring , strange reading classic ...</td>\n",
              "      <td>0</td>\n",
              "    </tr>\n",
              "    <tr>\n",
              "      <th>1817</th>\n",
              "      <td>the problem with concept films is that if the ...</td>\n",
              "      <td>problem concept films concept poor one , 's sa...</td>\n",
              "      <td>0</td>\n",
              "    </tr>\n",
              "    <tr>\n",
              "      <th>1818</th>\n",
              "      <td>safe conduct , however ambitious and well-inte...</td>\n",
              "      <td>safe conduct , however ambitious well-intentio...</td>\n",
              "      <td>0</td>\n",
              "    </tr>\n",
              "    <tr>\n",
              "      <th>1819</th>\n",
              "      <td>a film made with as little wit , interest , an...</td>\n",
              "      <td>film made little wit , interest , professional...</td>\n",
              "      <td>0</td>\n",
              "    </tr>\n",
              "    <tr>\n",
              "      <th>1820</th>\n",
              "      <td>but here 's the real damn : it is n't funny , ...</td>\n",
              "      <td>'s real damn : n't funny , either .</td>\n",
              "      <td>0</td>\n",
              "    </tr>\n",
              "  </tbody>\n",
              "</table>\n",
              "<p>1821 rows × 3 columns</p>\n",
              "</div>"
            ],
            "text/plain": [
              "                                                Content  ... Sentiment\n",
              "0        no movement , no yuks , not much of anything .  ...         0\n",
              "1     a gob of drivel so sickly sweet , even the eag...  ...         0\n",
              "2     gangs of new york is an unapologetic mess , wh...  ...         0\n",
              "3     we never really feel involved with the story ,...  ...         0\n",
              "4               this is one of polanski 's best films .  ...         1\n",
              "...                                                 ...  ...       ...\n",
              "1816  an often-deadly boring , strange reading of a ...  ...         0\n",
              "1817  the problem with concept films is that if the ...  ...         0\n",
              "1818  safe conduct , however ambitious and well-inte...  ...         0\n",
              "1819  a film made with as little wit , interest , an...  ...         0\n",
              "1820  but here 's the real damn : it is n't funny , ...  ...         0\n",
              "\n",
              "[1821 rows x 3 columns]"
            ]
          },
          "metadata": {
            "tags": []
          },
          "execution_count": 15
        }
      ]
    },
    {
      "cell_type": "markdown",
      "metadata": {
        "id": "-zZ2jRzPOXib"
      },
      "source": [
        "## Model"
      ]
    },
    {
      "cell_type": "code",
      "metadata": {
        "id": "7mNaxULY7jXo"
      },
      "source": [
        "from sklearn.model_selection import StratifiedShuffleSplit\n",
        "from sklearn.feature_extraction.text import TfidfVectorizer\n",
        "from sklearn.feature_extraction.text import TfidfTransformer\n",
        "from sklearn import preprocessing\n",
        "\n",
        "\n",
        "from sklearn.model_selection import cross_validate\n",
        "\n",
        "from sklearn.naive_bayes import MultinomialNB\n",
        "from sklearn.svm import LinearSVC\n",
        "from sklearn.neighbors import KNeighborsClassifier\n",
        "from sklearn.tree import DecisionTreeClassifier\n",
        "from sklearn.ensemble import RandomForestClassifier\n",
        "from xgboost import XGBClassifier\n",
        "\n",
        "from sklearn.metrics import f1_score\n",
        "from sklearn.metrics import accuracy_score\n",
        "from sklearn.metrics import recall_score\n",
        "from sklearn.metrics import precision_score"
      ],
      "execution_count": 16,
      "outputs": []
    },
    {
      "cell_type": "code",
      "metadata": {
        "id": "CYnOYbrw7jXp"
      },
      "source": [
        "kfold = StratifiedShuffleSplit(n_splits=10, test_size=0.2, random_state=1)"
      ],
      "execution_count": 17,
      "outputs": []
    },
    {
      "cell_type": "code",
      "metadata": {
        "colab": {
          "base_uri": "https://localhost:8080/"
        },
        "id": "ESUWwgXkBCP2",
        "outputId": "fc1d175f-76f3-4a9d-925b-fc6fdef7224a"
      },
      "source": [
        "# Feature Selection\n",
        "tfidf_vect = TfidfVectorizer(analyzer='word', token_pattern=r'\\w{1,}', max_features=2000)\n",
        "tfidf_vect.fit(data_train['Stop_Content'])"
      ],
      "execution_count": 18,
      "outputs": [
        {
          "output_type": "execute_result",
          "data": {
            "text/plain": [
              "TfidfVectorizer(analyzer='word', binary=False, decode_error='strict',\n",
              "                dtype=<class 'numpy.float64'>, encoding='utf-8',\n",
              "                input='content', lowercase=True, max_df=1.0, max_features=2000,\n",
              "                min_df=1, ngram_range=(1, 1), norm='l2', preprocessor=None,\n",
              "                smooth_idf=True, stop_words=None, strip_accents=None,\n",
              "                sublinear_tf=False, token_pattern='\\\\w{1,}', tokenizer=None,\n",
              "                use_idf=True, vocabulary=None)"
            ]
          },
          "metadata": {
            "tags": []
          },
          "execution_count": 18
        }
      ]
    },
    {
      "cell_type": "code",
      "metadata": {
        "id": "5iyEWRpLBI5-"
      },
      "source": [
        "def transform_train_data(train, test, vect):\n",
        "    x_train =  vect.transform(train)\n",
        "    x_test =  tfidf_vect.transform(test)\n",
        "    \n",
        "    return x_train, x_test"
      ],
      "execution_count": 19,
      "outputs": []
    },
    {
      "cell_type": "code",
      "metadata": {
        "id": "0rMe-HHYFusA"
      },
      "source": [
        "def transform_test_data(train, test):\n",
        "  encoder = preprocessing.LabelEncoder()\n",
        "  train_y = encoder.fit_transform(train)\n",
        "  valid_y = encoder.fit_transform(test)\n",
        "  \n",
        "  return train_y, valid_y"
      ],
      "execution_count": 20,
      "outputs": []
    },
    {
      "cell_type": "markdown",
      "metadata": {
        "id": "j1aMqNvRU7mU"
      },
      "source": [
        "### Test Data"
      ]
    },
    {
      "cell_type": "code",
      "metadata": {
        "id": "Gx6Yb_mHP8Ei"
      },
      "source": [
        "test_data_x =  tfidf_vect.transform(data_test['Stop_Content'])\n",
        "encoder = preprocessing.LabelEncoder()\n",
        "test_data_y = encoder.fit_transform(data_test['Sentiment'])"
      ],
      "execution_count": 21,
      "outputs": []
    },
    {
      "cell_type": "markdown",
      "metadata": {
        "id": "YEKWf3fF8iBG"
      },
      "source": [
        "### MutinomialNB"
      ]
    },
    {
      "cell_type": "code",
      "metadata": {
        "id": "MWOpjIdyDaF5"
      },
      "source": [
        "pred_accuracy_score=[]\n",
        "pred_precison_score=[]\n",
        "pred_recall_score=[]\n",
        "pred_f1_score=[]"
      ],
      "execution_count": 22,
      "outputs": []
    },
    {
      "cell_type": "code",
      "metadata": {
        "id": "OitTnDUz_112"
      },
      "source": [
        "clf = MultinomialNB()"
      ],
      "execution_count": 23,
      "outputs": []
    },
    {
      "cell_type": "code",
      "metadata": {
        "id": "SajoMa7M_mbe"
      },
      "source": [
        "for train_x, test_x in kfold.split(data_train['Stop_Content'], data_train['Sentiment']):\n",
        "  train_X, test_X = data_train['Stop_Content'][train_x], data_train['Stop_Content'][test_x]\n",
        "  train_y, test_y = data_train['Sentiment'][train_x], data_train['Sentiment'][test_x]\n",
        "  temp_train_x, temp_test_x = transform_train_data(train_X, test_X, tfidf_vect)\n",
        "  temp_train_y, temp_test_y = transform_test_data(train_y, test_y)\n",
        "\n",
        "  clf.fit(temp_train_x, temp_train_y)\n",
        "  pred_y = clf.predict(temp_test_x)\n",
        "\n",
        "  pred_accuracy_score.append(accuracy_score(temp_test_y, pred_y))\n",
        "  pred_precison_score.append(precision_score(temp_test_y, pred_y))\n",
        "  pred_recall_score.append(recall_score(temp_test_y, pred_y))\n",
        "  pred_f1_score.append(f1_score(temp_test_y, pred_y))"
      ],
      "execution_count": 24,
      "outputs": []
    },
    {
      "cell_type": "code",
      "metadata": {
        "colab": {
          "base_uri": "https://localhost:8080/"
        },
        "id": "uselJ46JWHf6",
        "outputId": "c9e679bc-92ba-44d3-80c8-0b4e3835025a"
      },
      "source": [
        "print(\"Train Data\\n\")\n",
        "print(\"Accuracy Score: \", pred_accuracy_score)\n",
        "print(\"Precision Score: \", pred_precison_score)\n",
        "print(\"Recall Score: \", pred_recall_score)\n",
        "print(\"F1 Score: \", pred_f1_score)"
      ],
      "execution_count": 25,
      "outputs": [
        {
          "output_type": "stream",
          "text": [
            "Train Data\n",
            "\n",
            "Accuracy Score:  [0.7673410404624278, 0.773121387283237, 0.7666184971098265, 0.763728323699422, 0.7579479768786127, 0.7832369942196532, 0.7803468208092486, 0.759393063583815, 0.7658959537572254, 0.7738439306358381]\n",
            "Precision Score:  [0.7583979328165374, 0.765625, 0.7642384105960265, 0.7581699346405228, 0.763265306122449, 0.7747395833333334, 0.7764550264550265, 0.7542483660130719, 0.7632275132275133, 0.7680209698558322]\n",
            "Recall Score:  [0.8130193905817175, 0.814404432132964, 0.7991689750692521, 0.8033240997229917, 0.7770083102493075, 0.8240997229916898, 0.8130193905817175, 0.7991689750692521, 0.7991689750692521, 0.8116343490304709]\n",
            "F1 Score:  [0.7847593582887701, 0.789261744966443, 0.7813134732566013, 0.7800941492938803, 0.7700754975978037, 0.7986577181208054, 0.7943166441136672, 0.7760591795561533, 0.7807848443843032, 0.7892255892255893]\n"
          ],
          "name": "stdout"
        }
      ]
    },
    {
      "cell_type": "code",
      "metadata": {
        "colab": {
          "base_uri": "https://localhost:8080/"
        },
        "id": "MatwvgoYOgAj",
        "outputId": "c75a2331-e090-4860-ecb4-4716c65faed7"
      },
      "source": [
        "pred_y=clf.predict(test_data_x)\n",
        "print(\"Test Data\\n\")\n",
        "print(\"Accuracy Score: \", accuracy_score(test_data_y, pred_y))\n",
        "print(\"Precision Score: \", precision_score(test_data_y, pred_y))\n",
        "print(\"Recall Score: \", recall_score(test_data_y, pred_y))\n",
        "print(\"F1 Score: \", f1_score(test_data_y, pred_y))\n"
      ],
      "execution_count": 26,
      "outputs": [
        {
          "output_type": "stream",
          "text": [
            "Test Data\n",
            "\n",
            "Accuracy Score:  0.7693574958813838\n",
            "Precision Score:  0.7452357071213641\n",
            "Recall Score:  0.8173817381738174\n",
            "F1 Score:  0.7796432318992655\n"
          ],
          "name": "stdout"
        }
      ]
    },
    {
      "cell_type": "markdown",
      "metadata": {
        "id": "Rb6piYnFMTs4"
      },
      "source": [
        "### SVM"
      ]
    },
    {
      "cell_type": "code",
      "metadata": {
        "id": "YsAXK8TFM_yn"
      },
      "source": [
        "pred_accuracy_score=[]\n",
        "pred_precison_score=[]\n",
        "pred_recall_score=[]\n",
        "pred_f1_score=[]"
      ],
      "execution_count": 27,
      "outputs": []
    },
    {
      "cell_type": "code",
      "metadata": {
        "id": "DlYAb1rAM_qZ"
      },
      "source": [
        "clf = LinearSVC()"
      ],
      "execution_count": 28,
      "outputs": []
    },
    {
      "cell_type": "code",
      "metadata": {
        "id": "KN-4ZP-aM_de"
      },
      "source": [
        "for train_x, test_x in kfold.split(data_train['Stop_Content'], data_train['Sentiment']):\n",
        "  train_X, test_X = data_train['Stop_Content'][train_x], data_train['Stop_Content'][test_x]\n",
        "  train_y, test_y = data_train['Sentiment'][train_x], data_train['Sentiment'][test_x]\n",
        "  temp_train_x, temp_test_x = transform_train_data(train_X, test_X, tfidf_vect)\n",
        "  temp_train_y, temp_test_y = transform_test_data(train_y, test_y)\n",
        "\n",
        "  clf.fit(temp_train_x, temp_train_y)\n",
        "  pred_y = clf.predict(temp_test_x)\n",
        "\n",
        "  pred_accuracy_score.append(accuracy_score(temp_test_y, pred_y))\n",
        "  pred_precison_score.append(precision_score(temp_test_y, pred_y))\n",
        "  pred_recall_score.append(recall_score(temp_test_y, pred_y))\n",
        "  pred_f1_score.append(f1_score(temp_test_y, pred_y))"
      ],
      "execution_count": 29,
      "outputs": []
    },
    {
      "cell_type": "code",
      "metadata": {
        "colab": {
          "base_uri": "https://localhost:8080/"
        },
        "id": "RspLuUGTWGjW",
        "outputId": "dd2e64d0-d33c-4fb4-8fd3-2fa6d575877e"
      },
      "source": [
        "print(\"Train Data\\n\")\n",
        "print(\"Accuracy Score: \", pred_accuracy_score)\n",
        "print(\"Precision Score: \", pred_precison_score)\n",
        "print(\"Recall Score: \", pred_recall_score)\n",
        "print(\"F1 Score: \", pred_f1_score)"
      ],
      "execution_count": 30,
      "outputs": [
        {
          "output_type": "stream",
          "text": [
            "Train Data\n",
            "\n",
            "Accuracy Score:  [0.7536127167630058, 0.7658959537572254, 0.7528901734104047, 0.7586705202312138, 0.7521676300578035, 0.7752890173410405, 0.7586705202312138, 0.7507225433526011, 0.7471098265895953, 0.755057803468208]\n",
            "Precision Score:  [0.7584803256445047, 0.7674731182795699, 0.7668539325842697, 0.7701949860724234, 0.7695590327169275, 0.7788331071913162, 0.7724719101123596, 0.757162346521146, 0.7534059945504087, 0.7678321678321678]\n",
            "Recall Score:  [0.7742382271468145, 0.7908587257617729, 0.7562326869806094, 0.7659279778393352, 0.7493074792243767, 0.7950138504155124, 0.7617728531855956, 0.7686980609418282, 0.7659279778393352, 0.760387811634349]\n",
            "F1 Score:  [0.7662782727895819, 0.7789904502046384, 0.7615062761506276, 0.7680555555555556, 0.7592982456140351, 0.7868403015764222, 0.7670850767085077, 0.7628865979381444, 0.7596153846153847, 0.7640918580375783]\n"
          ],
          "name": "stdout"
        }
      ]
    },
    {
      "cell_type": "code",
      "metadata": {
        "colab": {
          "base_uri": "https://localhost:8080/"
        },
        "id": "OIoIWijSP-wa",
        "outputId": "05c1bee4-2c45-4c73-dba7-d9088947004e"
      },
      "source": [
        "pred_y=clf.predict(test_data_x)\n",
        "print(\"Test Data\\n\")\n",
        "print(\"Accuracy Score: \", accuracy_score(test_data_y, pred_y))\n",
        "print(\"Precision Score: \", precision_score(test_data_y, pred_y))\n",
        "print(\"Recall Score: \", recall_score(test_data_y, pred_y))\n",
        "print(\"F1 Score: \", f1_score(test_data_y, pred_y))"
      ],
      "execution_count": 31,
      "outputs": [
        {
          "output_type": "stream",
          "text": [
            "Test Data\n",
            "\n",
            "Accuracy Score:  0.7473915431081823\n",
            "Precision Score:  0.7340980187695516\n",
            "Recall Score:  0.7744774477447744\n",
            "F1 Score:  0.7537473233404711\n"
          ],
          "name": "stdout"
        }
      ]
    },
    {
      "cell_type": "markdown",
      "metadata": {
        "id": "FyLaf1pUU0qV"
      },
      "source": [
        "### KNN"
      ]
    },
    {
      "cell_type": "code",
      "metadata": {
        "id": "cTjQfZtOQIUr"
      },
      "source": [
        "pred_accuracy_score=[]\n",
        "pred_precison_score=[]\n",
        "pred_recall_score=[]\n",
        "pred_f1_score=[]"
      ],
      "execution_count": 32,
      "outputs": []
    },
    {
      "cell_type": "code",
      "metadata": {
        "id": "L7ZfSwYXQIQI"
      },
      "source": [
        "clf = KNeighborsClassifier()"
      ],
      "execution_count": 33,
      "outputs": []
    },
    {
      "cell_type": "code",
      "metadata": {
        "id": "yUkhb53gQILR"
      },
      "source": [
        "for train_x, test_x in kfold.split(data_train['Stop_Content'], data_train['Sentiment']):\n",
        "  train_X, test_X = data_train['Stop_Content'][train_x], data_train['Stop_Content'][test_x]\n",
        "  train_y, test_y = data_train['Sentiment'][train_x], data_train['Sentiment'][test_x]\n",
        "  temp_train_x, temp_test_x = transform_train_data(train_X, test_X, tfidf_vect)\n",
        "  temp_train_y, temp_test_y = transform_test_data(train_y, test_y)\n",
        "\n",
        "  clf.fit(temp_train_x, temp_train_y)\n",
        "  pred_y = clf.predict(temp_test_x)\n",
        "\n",
        "  pred_accuracy_score.append(accuracy_score(temp_test_y, pred_y))\n",
        "  pred_precison_score.append(precision_score(temp_test_y, pred_y))\n",
        "  pred_recall_score.append(recall_score(temp_test_y, pred_y))\n",
        "  pred_f1_score.append(f1_score(temp_test_y, pred_y))"
      ],
      "execution_count": 34,
      "outputs": []
    },
    {
      "cell_type": "code",
      "metadata": {
        "colab": {
          "base_uri": "https://localhost:8080/"
        },
        "id": "vxp7X1vPWFsF",
        "outputId": "016a3e45-d0fc-4676-f37e-34ef181e2605"
      },
      "source": [
        "print(\"Train Data\\n\")\n",
        "print(\"Accuracy Score: \", pred_accuracy_score)\n",
        "print(\"Precision Score: \", pred_precison_score)\n",
        "print(\"Recall Score: \", pred_recall_score)\n",
        "print(\"F1 Score: \", pred_f1_score)"
      ],
      "execution_count": 35,
      "outputs": [
        {
          "output_type": "stream",
          "text": [
            "Train Data\n",
            "\n",
            "Accuracy Score:  [0.5332369942196532, 0.5354046242774566, 0.5325144508670521, 0.5115606936416185, 0.5245664739884393, 0.5057803468208093, 0.5289017341040463, 0.5339595375722543, 0.5173410404624278, 0.5303468208092486]\n",
            "Precision Score:  [0.589622641509434, 0.5824634655532359, 0.5886524822695035, 0.5631868131868132, 0.5796019900497512, 0.5465686274509803, 0.57847533632287, 0.6005221932114883, 0.5560165975103735, 0.5746887966804979]\n",
            "Recall Score:  [0.3462603878116344, 0.3864265927977839, 0.3448753462603878, 0.2839335180055402, 0.32271468144044324, 0.30886426592797783, 0.3573407202216066, 0.3185595567867036, 0.37119113573407203, 0.38365650969529086]\n",
            "F1 Score:  [0.43630017452006986, 0.4646128226477935, 0.4349344978165938, 0.37753222836095757, 0.41459074733096085, 0.39469026548672564, 0.4417808219178082, 0.416289592760181, 0.4451827242524917, 0.46013289036544847]\n"
          ],
          "name": "stdout"
        }
      ]
    },
    {
      "cell_type": "code",
      "metadata": {
        "colab": {
          "base_uri": "https://localhost:8080/"
        },
        "id": "rBkujj-mQIHD",
        "outputId": "a1f93798-2a0a-4efb-9fe2-a2aace1baa31"
      },
      "source": [
        "pred_y=clf.predict(test_data_x)\n",
        "print(\"Test Data\\n\")\n",
        "print(\"Accuracy Score: \", accuracy_score(test_data_y, pred_y))\n",
        "print(\"Precision Score: \", precision_score(test_data_y, pred_y))\n",
        "print(\"Recall Score: \", recall_score(test_data_y, pred_y))\n",
        "print(\"F1 Score: \", f1_score(test_data_y, pred_y))"
      ],
      "execution_count": 36,
      "outputs": [
        {
          "output_type": "stream",
          "text": [
            "Test Data\n",
            "\n",
            "Accuracy Score:  0.5370675453047776\n",
            "Precision Score:  0.5557432432432432\n",
            "Recall Score:  0.3619361936193619\n",
            "F1 Score:  0.43837441705529645\n"
          ],
          "name": "stdout"
        }
      ]
    },
    {
      "cell_type": "markdown",
      "metadata": {
        "id": "QDetUl-OUxVv"
      },
      "source": [
        "### Decision Tree"
      ]
    },
    {
      "cell_type": "code",
      "metadata": {
        "id": "iDtMRSnuQTcA"
      },
      "source": [
        "pred_accuracy_score=[]\n",
        "pred_precison_score=[]\n",
        "pred_recall_score=[]\n",
        "pred_f1_score=[]"
      ],
      "execution_count": 37,
      "outputs": []
    },
    {
      "cell_type": "code",
      "metadata": {
        "id": "XluCt7FbQTWm"
      },
      "source": [
        "clf = DecisionTreeClassifier()"
      ],
      "execution_count": 38,
      "outputs": []
    },
    {
      "cell_type": "code",
      "metadata": {
        "id": "t7cOPZqgQTSR"
      },
      "source": [
        "for train_x, test_x in kfold.split(data_train['Stop_Content'], data_train['Sentiment']):\n",
        "  train_X, test_X = data_train['Stop_Content'][train_x], data_train['Stop_Content'][test_x]\n",
        "  train_y, test_y = data_train['Sentiment'][train_x], data_train['Sentiment'][test_x]\n",
        "  temp_train_x, temp_test_x = transform_train_data(train_X, test_X, tfidf_vect)\n",
        "  temp_train_y, temp_test_y = transform_test_data(train_y, test_y)\n",
        "\n",
        "  clf.fit(temp_train_x, temp_train_y)\n",
        "  pred_y = clf.predict(temp_test_x)\n",
        "\n",
        "  pred_accuracy_score.append(accuracy_score(temp_test_y, pred_y))\n",
        "  pred_precison_score.append(precision_score(temp_test_y, pred_y))\n",
        "  pred_recall_score.append(recall_score(temp_test_y, pred_y))\n",
        "  pred_f1_score.append(f1_score(temp_test_y, pred_y))"
      ],
      "execution_count": 39,
      "outputs": []
    },
    {
      "cell_type": "code",
      "metadata": {
        "colab": {
          "base_uri": "https://localhost:8080/"
        },
        "id": "x4I3tC6XWE0-",
        "outputId": "a67a328c-9790-4e22-98ed-6cc1a966771b"
      },
      "source": [
        "print(\"Train Data\\n\")\n",
        "print(\"Accuracy Score: \", pred_accuracy_score)\n",
        "print(\"Precision Score: \", pred_precison_score)\n",
        "print(\"Recall Score: \", pred_recall_score)\n",
        "print(\"F1 Score: \", pred_f1_score)"
      ],
      "execution_count": 40,
      "outputs": [
        {
          "output_type": "stream",
          "text": [
            "Train Data\n",
            "\n",
            "Accuracy Score:  [0.6502890173410405, 0.6452312138728323, 0.6539017341040463, 0.6401734104046243, 0.671242774566474, 0.6690751445086706, 0.6575144508670521, 0.6510115606936416, 0.6604046242774566, 0.6473988439306358]\n",
            "Precision Score:  [0.6755162241887905, 0.6638297872340425, 0.6907378335949764, 0.6613832853025937, 0.698956780923994, 0.7018348623853211, 0.6890243902439024, 0.6780923994038748, 0.6826086956521739, 0.6720588235294118]\n",
            "Recall Score:  [0.6343490304709142, 0.6481994459833795, 0.6094182825484764, 0.6357340720221607, 0.649584487534626, 0.6357340720221607, 0.6260387811634349, 0.6301939058171745, 0.6523545706371191, 0.6329639889196675]\n",
            "F1 Score:  [0.6542857142857144, 0.6559215136650315, 0.6475349521707137, 0.6483050847457628, 0.6733668341708542, 0.6671511627906977, 0.6560232220609579, 0.6532663316582915, 0.6671388101983002, 0.6519258202567761]\n"
          ],
          "name": "stdout"
        }
      ]
    },
    {
      "cell_type": "code",
      "metadata": {
        "colab": {
          "base_uri": "https://localhost:8080/"
        },
        "id": "1GB6iKKcQTN5",
        "outputId": "538e14a6-0e9d-4139-f80a-006d40948d58"
      },
      "source": [
        "pred_y=clf.predict(test_data_x)\n",
        "print(\"Test Data\\n\")\n",
        "print(\"Accuracy Score: \", accuracy_score(test_data_y, pred_y))\n",
        "print(\"Precision Score: \", precision_score(test_data_y, pred_y))\n",
        "print(\"Recall Score: \", recall_score(test_data_y, pred_y))\n",
        "print(\"F1 Score: \", f1_score(test_data_y, pred_y))"
      ],
      "execution_count": 41,
      "outputs": [
        {
          "output_type": "stream",
          "text": [
            "Test Data\n",
            "\n",
            "Accuracy Score:  0.6523887973640856\n",
            "Precision Score:  0.6564625850340136\n",
            "Recall Score:  0.636963696369637\n",
            "F1 Score:  0.6465661641541038\n"
          ],
          "name": "stdout"
        }
      ]
    },
    {
      "cell_type": "markdown",
      "metadata": {
        "id": "gTi2c5OzUudd"
      },
      "source": [
        "### Random Forest"
      ]
    },
    {
      "cell_type": "code",
      "metadata": {
        "id": "OJAXzR8jQiaR"
      },
      "source": [
        "pred_accuracy_score=[]\n",
        "pred_precison_score=[]\n",
        "pred_recall_score=[]\n",
        "pred_f1_score=[]"
      ],
      "execution_count": 42,
      "outputs": []
    },
    {
      "cell_type": "code",
      "metadata": {
        "id": "U2VZqfvXQhxG"
      },
      "source": [
        "clf = RandomForestClassifier(n_estimators=100)"
      ],
      "execution_count": 43,
      "outputs": []
    },
    {
      "cell_type": "code",
      "metadata": {
        "id": "nziWvbb5Qhsk"
      },
      "source": [
        "for train_x, test_x in kfold.split(data_train['Stop_Content'], data_train['Sentiment']):\n",
        "  train_X, test_X = data_train['Stop_Content'][train_x], data_train['Stop_Content'][test_x]\n",
        "  train_y, test_y = data_train['Sentiment'][train_x], data_train['Sentiment'][test_x]\n",
        "  temp_train_x, temp_test_x = transform_train_data(train_X, test_X, tfidf_vect)\n",
        "  temp_train_y, temp_test_y = transform_test_data(train_y, test_y)\n",
        "\n",
        "  clf.fit(temp_train_x, temp_train_y)\n",
        "  pred_y = clf.predict(temp_test_x)\n",
        "\n",
        "  pred_accuracy_score.append(accuracy_score(temp_test_y, pred_y))\n",
        "  pred_precison_score.append(precision_score(temp_test_y, pred_y))\n",
        "  pred_recall_score.append(recall_score(temp_test_y, pred_y))\n",
        "  pred_f1_score.append(f1_score(temp_test_y, pred_y))"
      ],
      "execution_count": 44,
      "outputs": []
    },
    {
      "cell_type": "code",
      "metadata": {
        "colab": {
          "base_uri": "https://localhost:8080/"
        },
        "id": "L1SKUClEWDPk",
        "outputId": "42f34c3b-02d3-46f5-a5cf-12e71834b143"
      },
      "source": [
        "print(\"Train Data\\n\")\n",
        "print(\"Accuracy Score: \", pred_accuracy_score)\n",
        "print(\"Precision Score: \", pred_precison_score)\n",
        "print(\"Recall Score: \", pred_recall_score)\n",
        "print(\"F1 Score: \", pred_f1_score)"
      ],
      "execution_count": 45,
      "outputs": [
        {
          "output_type": "stream",
          "text": [
            "Train Data\n",
            "\n",
            "Accuracy Score:  [0.7167630057803468, 0.7232658959537572, 0.7102601156069365, 0.7189306358381503, 0.7059248554913294, 0.7333815028901735, 0.7203757225433526, 0.7138728323699421, 0.7232658959537572, 0.7319364161849711]\n",
            "Precision Score:  [0.726027397260274, 0.7299864314789688, 0.7302725968436155, 0.7253044654939107, 0.7215189873417721, 0.7461645746164575, 0.7445255474452555, 0.7335243553008596, 0.7263017356475301, 0.7387755102040816]\n",
            "Recall Score:  [0.7340720221606648, 0.7451523545706371, 0.7049861495844876, 0.7423822714681441, 0.7105263157894737, 0.7409972299168975, 0.7063711911357341, 0.7091412742382271, 0.7534626038781164, 0.7520775623268698]\n",
            "F1 Score:  [0.7300275482093662, 0.7374914324880055, 0.7174066243833687, 0.7337440109514032, 0.715980460572226, 0.7435719249478805, 0.7249466950959489, 0.7211267605633802, 0.7396329027872195, 0.7453671928620453]\n"
          ],
          "name": "stdout"
        }
      ]
    },
    {
      "cell_type": "code",
      "metadata": {
        "colab": {
          "base_uri": "https://localhost:8080/"
        },
        "id": "iLrHJeIWQhn0",
        "outputId": "4e29d50c-2495-4149-9d0e-21987eaa3b10"
      },
      "source": [
        "pred_y=clf.predict(test_data_x)\n",
        "print(\"Test Data\\n\")\n",
        "print(\"Accuracy Score: \", accuracy_score(test_data_y, pred_y))\n",
        "print(\"Precision Score: \", precision_score(test_data_y, pred_y))\n",
        "print(\"Recall Score: \", recall_score(test_data_y, pred_y))\n",
        "print(\"F1 Score: \", f1_score(test_data_y, pred_y))"
      ],
      "execution_count": 46,
      "outputs": [
        {
          "output_type": "stream",
          "text": [
            "Test Data\n",
            "\n",
            "Accuracy Score:  0.7380560131795717\n",
            "Precision Score:  0.7394678492239468\n",
            "Recall Score:  0.7337733773377337\n",
            "F1 Score:  0.736609607951408\n"
          ],
          "name": "stdout"
        }
      ]
    },
    {
      "cell_type": "markdown",
      "metadata": {
        "id": "1Kk8tEB3UqPu"
      },
      "source": [
        "### XG Boost"
      ]
    },
    {
      "cell_type": "code",
      "metadata": {
        "id": "JUU7VOkyUST9"
      },
      "source": [
        "pred_accuracy_score=[]\n",
        "pred_precison_score=[]\n",
        "pred_recall_score=[]\n",
        "pred_f1_score=[]"
      ],
      "execution_count": 47,
      "outputs": []
    },
    {
      "cell_type": "code",
      "metadata": {
        "id": "VVUC510gUT7C"
      },
      "source": [
        "clf = XGBClassifier()"
      ],
      "execution_count": 48,
      "outputs": []
    },
    {
      "cell_type": "code",
      "metadata": {
        "id": "gpbBdm1vUVpb"
      },
      "source": [
        "for train_x, test_x in kfold.split(data_train['Stop_Content'], data_train['Sentiment']):\n",
        "  train_X, test_X = data_train['Stop_Content'][train_x], data_train['Stop_Content'][test_x]\n",
        "  train_y, test_y = data_train['Sentiment'][train_x], data_train['Sentiment'][test_x]\n",
        "  temp_train_x, temp_test_x = transform_train_data(train_X, test_X, tfidf_vect)\n",
        "  temp_train_y, temp_test_y = transform_test_data(train_y, test_y)\n",
        "\n",
        "  clf.fit(temp_train_x, temp_train_y)\n",
        "  pred_y = clf.predict(temp_test_x)\n",
        "\n",
        "  pred_accuracy_score.append(accuracy_score(temp_test_y, pred_y))\n",
        "  pred_precison_score.append(precision_score(temp_test_y, pred_y))\n",
        "  pred_recall_score.append(recall_score(temp_test_y, pred_y))\n",
        "  pred_f1_score.append(f1_score(temp_test_y, pred_y))"
      ],
      "execution_count": 49,
      "outputs": []
    },
    {
      "cell_type": "code",
      "metadata": {
        "colab": {
          "base_uri": "https://localhost:8080/"
        },
        "id": "t1iAyHdVVnsV",
        "outputId": "7fd921fd-caa8-427c-bfa7-0989c2f49379"
      },
      "source": [
        "print(\"Train Data\\n\")\n",
        "print(\"Accuracy Score: \", pred_accuracy_score)\n",
        "print(\"Precision Score: \", pred_precison_score)\n",
        "print(\"Recall Score: \", pred_recall_score)\n",
        "print(\"F1 Score: \", pred_f1_score)"
      ],
      "execution_count": 50,
      "outputs": [
        {
          "output_type": "stream",
          "text": [
            "Train Data\n",
            "\n",
            "Accuracy Score:  [0.6423410404624278, 0.6488439306358381, 0.6221098265895953, 0.6401734104046243, 0.6228323699421965, 0.6488439306358381, 0.6416184971098265, 0.6452312138728323, 0.6401734104046243, 0.6329479768786127]\n",
            "Precision Score:  [0.6118226600985222, 0.6187122736418511, 0.6016343207354443, 0.6108910891089109, 0.59765625, 0.6159135559921415, 0.6094961240310077, 0.6214511041009464, 0.6098039215686275, 0.6044921875]\n",
            "Recall Score:  [0.8601108033240997, 0.8518005540166205, 0.8157894736842105, 0.8545706371191135, 0.8476454293628809, 0.868421052631579, 0.871191135734072, 0.8185595567867036, 0.8614958448753463, 0.8573407202216067]\n",
            "F1 Score:  [0.7150259067357512, 0.7167832167832168, 0.6925338036449148, 0.7124711316397229, 0.7010309278350517, 0.7206896551724139, 0.7172177879133409, 0.7065152420800958, 0.7141216991963262, 0.709049255441008]\n"
          ],
          "name": "stdout"
        }
      ]
    },
    {
      "cell_type": "code",
      "metadata": {
        "colab": {
          "base_uri": "https://localhost:8080/"
        },
        "id": "QbaIERheUX2k",
        "outputId": "0450b1df-05cf-4bba-a3f3-2f8f25ca97b7"
      },
      "source": [
        "pred_y=clf.predict(test_data_x)\n",
        "print(\"Test Data\\n\")\n",
        "print(\"Accuracy Score: \", accuracy_score(test_data_y, pred_y))\n",
        "print(\"Precision Score: \", precision_score(test_data_y, pred_y))\n",
        "print(\"Recall Score: \", recall_score(test_data_y, pred_y))\n",
        "print(\"F1 Score: \", f1_score(test_data_y, pred_y))"
      ],
      "execution_count": 51,
      "outputs": [
        {
          "output_type": "stream",
          "text": [
            "Test Data\n",
            "\n",
            "Accuracy Score:  0.6414058209774849\n",
            "Precision Score:  0.5980091883614089\n",
            "Recall Score:  0.8591859185918592\n",
            "F1 Score:  0.7051918735891649\n"
          ],
          "name": "stdout"
        }
      ]
    }
  ]
}